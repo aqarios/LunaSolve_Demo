{
 "cells": [
  {
   "metadata": {
    "ExecuteTime": {
     "end_time": "2025-06-25T07:45:28.611772Z",
     "start_time": "2025-06-25T07:45:26.590855Z"
    }
   },
   "cell_type": "code",
   "source": "!pip install luna_quantum",
   "id": "10fad55144cd89bd",
   "outputs": [
    {
     "name": "stdout",
     "output_type": "stream",
     "text": [
      "Requirement already satisfied: luna_quantum in /Library/Frameworks/Python.framework/Versions/3.12/lib/python3.12/site-packages (0.0.37)\r\n",
      "Requirement already satisfied: dimod<0.13.0,>=0.12.14 in /Library/Frameworks/Python.framework/Versions/3.12/lib/python3.12/site-packages (from luna_quantum) (0.12.18)\r\n",
      "Requirement already satisfied: httpx<0.27.0,>=0.26.0 in /Library/Frameworks/Python.framework/Versions/3.12/lib/python3.12/site-packages (from luna_quantum) (0.26.0)\r\n",
      "Requirement already satisfied: pydantic<3.0.0,>=2.6.1 in /Library/Frameworks/Python.framework/Versions/3.12/lib/python3.12/site-packages (from luna_quantum) (2.10.6)\r\n",
      "Requirement already satisfied: python-dateutil<3.0.0,>=2.9.0 in /Library/Frameworks/Python.framework/Versions/3.12/lib/python3.12/site-packages (from luna_quantum) (2.9.0.post0)\r\n",
      "Requirement already satisfied: numpy>=1.17.3 in /Library/Frameworks/Python.framework/Versions/3.12/lib/python3.12/site-packages (from dimod<0.13.0,>=0.12.14->luna_quantum) (2.2.3)\r\n",
      "Requirement already satisfied: anyio in /Library/Frameworks/Python.framework/Versions/3.12/lib/python3.12/site-packages (from httpx<0.27.0,>=0.26.0->luna_quantum) (4.8.0)\r\n",
      "Requirement already satisfied: certifi in /Library/Frameworks/Python.framework/Versions/3.12/lib/python3.12/site-packages (from httpx<0.27.0,>=0.26.0->luna_quantum) (2025.1.31)\r\n",
      "Requirement already satisfied: httpcore==1.* in /Library/Frameworks/Python.framework/Versions/3.12/lib/python3.12/site-packages (from httpx<0.27.0,>=0.26.0->luna_quantum) (1.0.7)\r\n",
      "Requirement already satisfied: idna in /Library/Frameworks/Python.framework/Versions/3.12/lib/python3.12/site-packages (from httpx<0.27.0,>=0.26.0->luna_quantum) (3.10)\r\n",
      "Requirement already satisfied: sniffio in /Library/Frameworks/Python.framework/Versions/3.12/lib/python3.12/site-packages (from httpx<0.27.0,>=0.26.0->luna_quantum) (1.3.1)\r\n",
      "Requirement already satisfied: h11<0.15,>=0.13 in /Library/Frameworks/Python.framework/Versions/3.12/lib/python3.12/site-packages (from httpcore==1.*->httpx<0.27.0,>=0.26.0->luna_quantum) (0.14.0)\r\n",
      "Requirement already satisfied: annotated-types>=0.6.0 in /Library/Frameworks/Python.framework/Versions/3.12/lib/python3.12/site-packages (from pydantic<3.0.0,>=2.6.1->luna_quantum) (0.7.0)\r\n",
      "Requirement already satisfied: pydantic-core==2.27.2 in /Library/Frameworks/Python.framework/Versions/3.12/lib/python3.12/site-packages (from pydantic<3.0.0,>=2.6.1->luna_quantum) (2.27.2)\r\n",
      "Requirement already satisfied: typing-extensions>=4.12.2 in /Library/Frameworks/Python.framework/Versions/3.12/lib/python3.12/site-packages (from pydantic<3.0.0,>=2.6.1->luna_quantum) (4.12.2)\r\n",
      "Requirement already satisfied: six>=1.5 in /Library/Frameworks/Python.framework/Versions/3.12/lib/python3.12/site-packages (from python-dateutil<3.0.0,>=2.9.0->luna_quantum) (1.17.0)\r\n"
     ]
    }
   ],
   "execution_count": 20
  },
  {
   "cell_type": "markdown",
   "id": "6771c787bd8ecde7",
   "metadata": {},
   "source": [
    "# Luna Quantum SDK: Traveling Salesman Problem Demo\n",
    "\n",
    "Welcome to the **Luna Quantum SDK** demonstration! This comprehensive notebook showcases how Luna Quantum makes quantum optimization accessible, powerful, and easy to use through a complete Traveling Salesman Problem (TSP) solution.\n",
    "\n",
    "## 🚀 Why Luna Quantum?\n",
    "\n",
    "Luna Quantum is a cutting-edge SDK that bridges the gap between classical and quantum computing, offering:\n",
    "\n",
    "- **Unified Programming Model**: Write once, run on classical CPUs, quantum simulators, or real quantum hardware\n",
    "- **Smart Abstractions**: Focus on problem modeling while Luna handles algorithm-specific transformations\n",
    "- **Plug-and-Play Architecture**: Seamlessly switch between algorithms and backends without code changes\n",
    "- **Production-Ready**: Enterprise-grade quantum cloud platform with secure token management\n",
    "\n",
    "## 🎯 What this Notebook will Show\n",
    "\n",
    "This demo highlights Luna Quantum's key capabilities through a practical TSP implementation:\n",
    "\n",
    "1. **Rapid Prototyping**: Use predefined optimization patterns for quick problem setup\n",
    "2. **Advanced Modeling**: Build custom models with AqModels for complete control\n",
    "3. **Hybrid Solving**: Compare classical and quantum algorithms on the same problem\n",
    "4. **Seamless Deployment**: Run on classical machines, cloud simulators, or quantum hardware\n",
    "\n",
    "## 📍 The Challenge\n",
    "\n",
    "We'll solve the TSP for 4 German cities: **Berlin**, **Hamburg**, **Munich**, and **Bonn**. The goal is to find the shortest route that visits all cities exactly once and returns to the starting point—a perfect demonstration of Luna Quantum's optimization capabilities.\n",
    "\n",
    "## 📋 Prerequisites\n",
    "\n",
    "Before running this notebook, ensure you have:\n",
    "- ✅ Luna Quantum SDK installed (`pip install luna-quantum`)\n",
    "- ✅ D-Wave token set as environment variable: `DWAVE_TOKEN`\n",
    "- ✅ All dependencies installed (see `pyproject.toml`)\n",
    "\n",
    "**Need help with setup?** Check the project README for detailed instructions."
   ]
  },
  {
   "cell_type": "markdown",
   "id": "86bf8d22c9e88476",
   "metadata": {},
   "source": [
    "### 🚀 The Luna Quantum Workflow\n",
    "\n",
    "Luna Quantum follows a simple 6-step process:\n",
    "\n",
    "![LunaSolve Flow](plots/LunaSolveFlow.png)\n",
    "\n"
   ]
  },
  {
   "cell_type": "code",
   "id": "initial_id",
   "metadata": {
    "collapsed": true,
    "jupyter": {
     "outputs_hidden": true
    },
    "ExecuteTime": {
     "end_time": "2025-06-24T08:29:07.625247Z",
     "start_time": "2025-06-24T08:29:07.614560Z"
    }
   },
   "source": [
    "from luna_quantum import Model,Variable, Vtype\n",
    "from luna_quantum.translator import LpTranslator\n",
    "import networkx as nx\n",
    "import itertools\n",
    "import os\n",
    "from luna_quantum.solve.use_cases import TravellingSalesmanProblem\n",
    "from luna_quantum import LunaSolve\n",
    "from luna_quantum.solve import algorithms, backends\n",
    "from luna_quantum.client.schemas import QpuToken\n",
    "import getpass\n",
    "\n",
    "# Use Case utils\n",
    "from utils.plotting import plot_graph_on_map, plot_solution_tour\n",
    "from utils.traveling_sales_man import calculate_distance_matrix, extract_tour_from_solution\n",
    "\n",
    "if \"LUNA_API_KEY\" not in os.environ:\n",
    "    # Prompt securely for the key if not already set\n",
    "    os.environ[\"LUNA_API_KEY\"] = getpass.getpass(\"Enter your Luna API key: \")\n"
   ],
   "outputs": [],
   "execution_count": 5
  },
  {
   "attachments": {},
   "cell_type": "markdown",
   "id": "fbe77d7c19728560",
   "metadata": {},
   "source": [
    "# Complete Luna Flow\n",
    "![Alt text](plots/FlowComplete.png)\n"
   ]
  },
  {
   "cell_type": "markdown",
   "id": "a0034e26d561fad6",
   "metadata": {},
   "source": [
    "### 🚀 Quick Start Example\n",
    "\n",
    "![Alt text](plots/LunaSolve.png)\n",
    "\n",
    "Before diving into detailed modeling, let's see Luna Quantum in action with a pre-built model:"
   ]
  },
  {
   "cell_type": "code",
   "id": "515f7a7fcca6f44b",
   "metadata": {
    "ExecuteTime": {
     "end_time": "2025-06-25T07:24:50.402181Z",
     "start_time": "2025-06-25T07:24:47.647428Z"
    }
   },
   "source": [
    "# 1. Load a pre-built model\n",
    "m = LpTranslator.to_aq('tsp_model') # Note: We'll build this model in the sections below\n",
    "\n",
    "# 2. Select Algorithm\n",
    "backend = backends.IonQ()\n",
    "alg = algorithms.QAOA(backend=backend)\n",
    "\n",
    "# 3. / 4. / 5.  Compute optimization\n",
    "job = alg.run(model=m)"
   ],
   "outputs": [
    {
     "data": {
      "text/plain": [
       "Output()"
      ],
      "application/vnd.jupyter.widget-view+json": {
       "version_major": 2,
       "version_minor": 0,
       "model_id": "ee01b229ad28438ab6cde9519313572f"
      }
     },
     "metadata": {},
     "output_type": "display_data"
    },
    {
     "data": {
      "text/plain": [
       "Output()"
      ],
      "application/vnd.jupyter.widget-view+json": {
       "version_major": 2,
       "version_minor": 0,
       "model_id": "1095f3f76a4d4a69b46348a91702fb5e"
      }
     },
     "metadata": {},
     "output_type": "display_data"
    },
    {
     "data": {
      "text/plain": [],
      "text/html": [
       "<pre style=\"white-space:pre;overflow-x:auto;line-height:normal;font-family:Menlo,'DejaVu Sans Mono',consolas,'Courier New',monospace\"></pre>\n"
      ]
     },
     "metadata": {},
     "output_type": "display_data"
    },
    {
     "data": {
      "text/plain": [
       "\u001B[2;36m2025-06-25 09:24:49\u001B[0m\u001B[2;36m \u001B[0m\u001B[92mINFO    \u001B[0m \u001B[1m{\u001B[0m\u001B[32m\"model_id\"\u001B[0m:\u001B[32m\"6851310efeb4512569869b57\"\u001B[0m,\u001B[32m\"solver_name\"\u001B[0m:\u001B[32m\"QAOA\"\u001B[0m,\u001B[32m\"provider\"\u001B[0m:\u001B[32m\"aws\"\u001B[0m,\u001B[32m\"paramete\u001B[0m\n",
       "\u001B[2;36m                    \u001B[0m         \u001B[32mrs\"\u001B[0m:\u001B[1m{\u001B[0m\u001B[32m\"reps\"\u001B[0m:\u001B[1;36m1\u001B[0m,\u001B[32m\"shots\"\u001B[0m:\u001B[1;36m1024\u001B[0m,\u001B[32m\"optimizer\"\u001B[0m:\u001B[1m{\u001B[0m\u001B[32m\"method\"\u001B[0m:\u001B[32m\"cobyla\"\u001B[0m,\u001B[32m\"tol\"\u001B[0m:null,\u001B[32m\"bounds\"\u001B[0m:null,\u001B[32m\"ja\u001B[0m\n",
       "\u001B[2;36m                    \u001B[0m         \u001B[32mc\"\u001B[0m:null,\u001B[32m\"hess\"\u001B[0m:null,\u001B[32m\"maxiter\"\u001B[0m:\u001B[1;36m100\u001B[0m,\u001B[32m\"options\"\u001B[0m:\u001B[1m{\u001B[0m\u001B[1m}\u001B[0m\u001B[1m}\u001B[0m,\u001B[32m\"initial_params\"\u001B[0m:\u001B[1m{\u001B[0m\u001B[32m\"delta_beta\"\u001B[0m:\u001B[1;36m0.5\u001B[0m,\u001B[32m\"de\u001B[0m\n",
       "\u001B[2;36m                    \u001B[0m         \u001B[32mlta_gamma\"\u001B[0m:\u001B[1;36m0.5\u001B[0m\u001B[1m}\u001B[0m,\u001B[32m\"device\"\u001B[0m:\u001B[32m\"Aria1\"\u001B[0m,\u001B[32m\"device_provider\"\u001B[0m:\u001B[32m\"IonQ\"\u001B[0m\u001B[1m}\u001B[0m,\u001B[32m\"name\"\u001B[0m:null\u001B[1m}\u001B[0m               \n"
      ],
      "text/html": [
       "<pre style=\"white-space:pre;overflow-x:auto;line-height:normal;font-family:Menlo,'DejaVu Sans Mono',consolas,'Courier New',monospace\"><span style=\"color: #7fbfbf; text-decoration-color: #7fbfbf\">2025-06-25 09:24:49 </span><span style=\"color: #00ff00; text-decoration-color: #00ff00\">INFO    </span> <span style=\"font-weight: bold\">{</span><span style=\"color: #008000; text-decoration-color: #008000\">\"model_id\"</span>:<span style=\"color: #008000; text-decoration-color: #008000\">\"6851310efeb4512569869b57\"</span>,<span style=\"color: #008000; text-decoration-color: #008000\">\"solver_name\"</span>:<span style=\"color: #008000; text-decoration-color: #008000\">\"QAOA\"</span>,<span style=\"color: #008000; text-decoration-color: #008000\">\"provider\"</span>:<span style=\"color: #008000; text-decoration-color: #008000\">\"aws\"</span>,<span style=\"color: #008000; text-decoration-color: #008000\">\"paramete</span>\n",
       "<span style=\"color: #7fbfbf; text-decoration-color: #7fbfbf\">                    </span>         <span style=\"color: #008000; text-decoration-color: #008000\">rs\"</span>:<span style=\"font-weight: bold\">{</span><span style=\"color: #008000; text-decoration-color: #008000\">\"reps\"</span>:<span style=\"color: #008080; text-decoration-color: #008080; font-weight: bold\">1</span>,<span style=\"color: #008000; text-decoration-color: #008000\">\"shots\"</span>:<span style=\"color: #008080; text-decoration-color: #008080; font-weight: bold\">1024</span>,<span style=\"color: #008000; text-decoration-color: #008000\">\"optimizer\"</span>:<span style=\"font-weight: bold\">{</span><span style=\"color: #008000; text-decoration-color: #008000\">\"method\"</span>:<span style=\"color: #008000; text-decoration-color: #008000\">\"cobyla\"</span>,<span style=\"color: #008000; text-decoration-color: #008000\">\"tol\"</span>:null,<span style=\"color: #008000; text-decoration-color: #008000\">\"bounds\"</span>:null,<span style=\"color: #008000; text-decoration-color: #008000\">\"ja</span>\n",
       "<span style=\"color: #7fbfbf; text-decoration-color: #7fbfbf\">                    </span>         <span style=\"color: #008000; text-decoration-color: #008000\">c\"</span>:null,<span style=\"color: #008000; text-decoration-color: #008000\">\"hess\"</span>:null,<span style=\"color: #008000; text-decoration-color: #008000\">\"maxiter\"</span>:<span style=\"color: #008080; text-decoration-color: #008080; font-weight: bold\">100</span>,<span style=\"color: #008000; text-decoration-color: #008000\">\"options\"</span>:<span style=\"font-weight: bold\">{}}</span>,<span style=\"color: #008000; text-decoration-color: #008000\">\"initial_params\"</span>:<span style=\"font-weight: bold\">{</span><span style=\"color: #008000; text-decoration-color: #008000\">\"delta_beta\"</span>:<span style=\"color: #008080; text-decoration-color: #008080; font-weight: bold\">0.5</span>,<span style=\"color: #008000; text-decoration-color: #008000\">\"de</span>\n",
       "<span style=\"color: #7fbfbf; text-decoration-color: #7fbfbf\">                    </span>         <span style=\"color: #008000; text-decoration-color: #008000\">lta_gamma\"</span>:<span style=\"color: #008080; text-decoration-color: #008080; font-weight: bold\">0.5</span><span style=\"font-weight: bold\">}</span>,<span style=\"color: #008000; text-decoration-color: #008000\">\"device\"</span>:<span style=\"color: #008000; text-decoration-color: #008000\">\"Aria1\"</span>,<span style=\"color: #008000; text-decoration-color: #008000\">\"device_provider\"</span>:<span style=\"color: #008000; text-decoration-color: #008000\">\"IonQ\"</span><span style=\"font-weight: bold\">}</span>,<span style=\"color: #008000; text-decoration-color: #008000\">\"name\"</span>:null<span style=\"font-weight: bold\">}</span>               \n",
       "</pre>\n"
      ]
     },
     "metadata": {},
     "output_type": "display_data"
    },
    {
     "data": {
      "text/plain": [
       "\u001B[2;36m2025-06-25 09:24:50\u001B[0m\u001B[2;36m \u001B[0m\u001B[1;91mERROR   \u001B[0m The Luna-Server reported the error \u001B[32m'QPU_TOKEN_MISSING'\u001B[0m with the message:              \n",
       "\u001B[2;36m                    \u001B[0m          No aws token was specified in the request, or the QPU token name provided cannot be  \n",
       "\u001B[2;36m                    \u001B[0m         found. Please specify a valid QPU token to use via the `qpu_tokens` object.           \n"
      ],
      "text/html": [
       "<pre style=\"white-space:pre;overflow-x:auto;line-height:normal;font-family:Menlo,'DejaVu Sans Mono',consolas,'Courier New',monospace\"><span style=\"color: #7fbfbf; text-decoration-color: #7fbfbf\">2025-06-25 09:24:50 </span><span style=\"color: #ff0000; text-decoration-color: #ff0000; font-weight: bold\">ERROR   </span> The Luna-Server reported the error <span style=\"color: #008000; text-decoration-color: #008000\">'QPU_TOKEN_MISSING'</span> with the message:              \n",
       "<span style=\"color: #7fbfbf; text-decoration-color: #7fbfbf\">                    </span>          No aws token was specified in the request, or the QPU token name provided cannot be  \n",
       "<span style=\"color: #7fbfbf; text-decoration-color: #7fbfbf\">                    </span>         found. Please specify a valid QPU token to use via the `qpu_tokens` object.           \n",
       "</pre>\n"
      ]
     },
     "metadata": {},
     "output_type": "display_data"
    },
    {
     "data": {
      "text/plain": [],
      "text/html": [
       "<pre style=\"white-space:pre;overflow-x:auto;line-height:normal;font-family:Menlo,'DejaVu Sans Mono',consolas,'Courier New',monospace\"></pre>\n"
      ]
     },
     "metadata": {},
     "output_type": "display_data"
    },
    {
     "ename": "LunaServerError",
     "evalue": "The Luna-Server reported the error 'QPU_TOKEN_MISSING' with the message:\n No aws token was specified in the request, or the QPU token name provided cannot be found. Please specify a valid QPU token to use via the `qpu_tokens` object.",
     "output_type": "error",
     "traceback": [
      "\u001B[31m---------------------------------------------------------------------------\u001B[39m",
      "\u001B[31mLunaServerError\u001B[39m                           Traceback (most recent call last)",
      "\u001B[36mCell\u001B[39m\u001B[36m \u001B[39m\u001B[32mIn[19]\u001B[39m\u001B[32m, line 9\u001B[39m\n\u001B[32m      6\u001B[39m alg = algorithms.QAOA(backend=backend)\n\u001B[32m      8\u001B[39m \u001B[38;5;66;03m# 3. / 4. / 5.  Compute optimization\u001B[39;00m\n\u001B[32m----> \u001B[39m\u001B[32m9\u001B[39m job = \u001B[43malg\u001B[49m\u001B[43m.\u001B[49m\u001B[43mrun\u001B[49m\u001B[43m(\u001B[49m\u001B[43mmodel\u001B[49m\u001B[43m=\u001B[49m\u001B[43mm\u001B[49m\u001B[43m)\u001B[49m\n",
      "\u001B[36mFile \u001B[39m\u001B[32m~/PycharmProjects/LunaDemo/.venv/lib/python3.12/site-packages/luna_quantum/solve/domain/abstract/luna_algorithm.py:152\u001B[39m, in \u001B[36mLunaAlgorithm.run\u001B[39m\u001B[34m(self, model, name, backend, client, *args, **kwargs)\u001B[39m\n\u001B[32m    148\u001B[39m c = LunaSolveClientFactory.get_client(client=client)\n\u001B[32m    150\u001B[39m uc: ISolveJobCreateUseCase = UseCaseFactory.solve_job_create(client=c)\n\u001B[32m--> \u001B[39m\u001B[32m152\u001B[39m \u001B[38;5;28;01mreturn\u001B[39;00m \u001B[43muc\u001B[49m\u001B[43m(\u001B[49m\u001B[43mmodel\u001B[49m\u001B[43m=\u001B[49m\u001B[43mmodel\u001B[49m\u001B[43m,\u001B[49m\u001B[43m \u001B[49m\u001B[43mluna_solver\u001B[49m\u001B[43m=\u001B[49m\u001B[38;5;28;43mself\u001B[39;49m\u001B[43m,\u001B[49m\u001B[43m \u001B[49m\u001B[43mbackend\u001B[49m\u001B[43m=\u001B[49m\u001B[43mb\u001B[49m\u001B[43m,\u001B[49m\u001B[43m \u001B[49m\u001B[43mname\u001B[49m\u001B[43m=\u001B[49m\u001B[43mname\u001B[49m\u001B[43m)\u001B[49m\n",
      "\u001B[36mFile \u001B[39m\u001B[32m~/PycharmProjects/LunaDemo/.venv/lib/python3.12/site-packages/luna_quantum/util/log_utils.py:163\u001B[39m, in \u001B[36mprogress.<locals>.decorated_func.<locals>.decorator\u001B[39m\u001B[34m(*args, **kwargs)\u001B[39m\n\u001B[32m    160\u001B[39m \u001B[38;5;129m@wraps\u001B[39m(func)\n\u001B[32m    161\u001B[39m \u001B[38;5;28;01mdef\u001B[39;00m\u001B[38;5;250m \u001B[39m\u001B[34mdecorator\u001B[39m(*args: P.args, **kwargs: P.kwargs) -> T:\n\u001B[32m    162\u001B[39m     \u001B[38;5;28;01mwith\u001B[39;00m progress_bar(total=total, desc=desc, unit=unit):\n\u001B[32m--> \u001B[39m\u001B[32m163\u001B[39m         \u001B[38;5;28;01mreturn\u001B[39;00m \u001B[43mfunc\u001B[49m\u001B[43m(\u001B[49m\u001B[43m*\u001B[49m\u001B[43margs\u001B[49m\u001B[43m,\u001B[49m\u001B[43m \u001B[49m\u001B[43m*\u001B[49m\u001B[43m*\u001B[49m\u001B[43mkwargs\u001B[49m\u001B[43m)\u001B[49m\n",
      "\u001B[36mFile \u001B[39m\u001B[32m~/PycharmProjects/LunaDemo/.venv/lib/python3.12/site-packages/luna_quantum/solve/usecases/solve_job_create_usecase.py:100\u001B[39m, in \u001B[36mSolveJobCreateUseCase.__call__\u001B[39m\u001B[34m(self, model, luna_solver, backend, name)\u001B[39m\n\u001B[32m     97\u001B[39m \u001B[38;5;28;01mif\u001B[39;00m \u001B[38;5;28misinstance\u001B[39m(backend, QpuTokenBackend):\n\u001B[32m     98\u001B[39m     qpu_tokens = backend.get_qpu_tokens()\n\u001B[32m--> \u001B[39m\u001B[32m100\u001B[39m solve_job: SolveJobSchema = \u001B[38;5;28;43mself\u001B[39;49m\u001B[43m.\u001B[49m\u001B[43mclient\u001B[49m\u001B[43m.\u001B[49m\u001B[43msolve_job\u001B[49m\u001B[43m.\u001B[49m\u001B[43mcreate\u001B[49m\u001B[43m(\u001B[49m\n\u001B[32m    101\u001B[39m \u001B[43m    \u001B[49m\u001B[43mmodel_id\u001B[49m\u001B[43m=\u001B[49m\u001B[43mmetadata\u001B[49m\u001B[43m.\u001B[49m\u001B[43mid\u001B[49m\u001B[43m,\u001B[49m\n\u001B[32m    102\u001B[39m \u001B[43m    \u001B[49m\u001B[43msolver_name\u001B[49m\u001B[43m=\u001B[49m\u001B[43mluna_solver\u001B[49m\u001B[43m.\u001B[49m\u001B[43malgorithm_name\u001B[49m\u001B[43m,\u001B[49m\n\u001B[32m    103\u001B[39m \u001B[43m    \u001B[49m\u001B[43msolver_parameters\u001B[49m\u001B[43m=\u001B[49m\u001B[43msolver_parameters\u001B[49m\u001B[43m,\u001B[49m\n\u001B[32m    104\u001B[39m \u001B[43m    \u001B[49m\u001B[43mprovider\u001B[49m\u001B[43m=\u001B[49m\u001B[43mbackend\u001B[49m\u001B[43m.\u001B[49m\u001B[43mprovider\u001B[49m\u001B[43m,\u001B[49m\n\u001B[32m    105\u001B[39m \u001B[43m    \u001B[49m\u001B[43mqpu_tokens\u001B[49m\u001B[43m=\u001B[49m\u001B[43mqpu_tokens\u001B[49m\u001B[43m,\u001B[49m\n\u001B[32m    106\u001B[39m \u001B[43m    \u001B[49m\u001B[43mname\u001B[49m\u001B[43m=\u001B[49m\u001B[43mname\u001B[49m\u001B[43m,\u001B[49m\n\u001B[32m    107\u001B[39m \u001B[43m\u001B[49m\u001B[43m)\u001B[49m\n\u001B[32m    108\u001B[39m sj = SolveJob.model_validate(solve_job.model_dump())\n\u001B[32m    110\u001B[39m sj.set_evaluation_model(model)\n",
      "\u001B[36mFile \u001B[39m\u001B[32m~/PycharmProjects/LunaDemo/.venv/lib/python3.12/site-packages/luna_quantum/client/rest_client/solve_job_rest_client.py:236\u001B[39m, in \u001B[36mSolveJobRestClient.create\u001B[39m\u001B[34m(self, model_id, solver_name, provider, qpu_tokens, solver_parameters, name, **kwargs)\u001B[39m\n\u001B[32m    225\u001B[39m solve_job_create = SolveJobCreate(\n\u001B[32m    226\u001B[39m     model_id=model_id,\n\u001B[32m    227\u001B[39m     solver_name=solver_name,\n\u001B[32m   (...)\u001B[39m\u001B[32m    231\u001B[39m     name=name,\n\u001B[32m    232\u001B[39m )\n\u001B[32m    233\u001B[39m SolveJobRestClient.logger.info(\n\u001B[32m    234\u001B[39m     solve_job_create.model_dump_json(exclude={\u001B[33m\"\u001B[39m\u001B[33mqpu_tokens\u001B[39m\u001B[33m\"\u001B[39m})\n\u001B[32m    235\u001B[39m )\n\u001B[32m--> \u001B[39m\u001B[32m236\u001B[39m response = \u001B[38;5;28;43mself\u001B[39;49m\u001B[43m.\u001B[49m\u001B[43m_client\u001B[49m\u001B[43m.\u001B[49m\u001B[43mpost\u001B[49m\u001B[43m(\u001B[49m\n\u001B[32m    237\u001B[39m \u001B[43m    \u001B[49m\u001B[38;5;28;43mself\u001B[39;49m\u001B[43m.\u001B[49m\u001B[43m_endpoint\u001B[49m\u001B[43m,\u001B[49m\u001B[43m \u001B[49m\u001B[43mcontent\u001B[49m\u001B[43m=\u001B[49m\u001B[43msolve_job_create\u001B[49m\u001B[43m.\u001B[49m\u001B[43mmodel_dump_json\u001B[49m\u001B[43m(\u001B[49m\u001B[43m)\u001B[49m\u001B[43m,\u001B[49m\u001B[43m \u001B[49m\u001B[43m*\u001B[49m\u001B[43m*\u001B[49m\u001B[43mkwargs\u001B[49m\n\u001B[32m    238\u001B[39m \u001B[43m\u001B[49m\u001B[43m)\u001B[49m\n\u001B[32m    239\u001B[39m response.raise_for_status()\n\u001B[32m    241\u001B[39m \u001B[38;5;28;01mreturn\u001B[39;00m SolveJobSchema.model_validate(response.json())\n",
      "\u001B[36mFile \u001B[39m\u001B[32m~/PycharmProjects/LunaDemo/.venv/lib/python3.12/site-packages/httpx/_client.py:1144\u001B[39m, in \u001B[36mClient.post\u001B[39m\u001B[34m(self, url, content, data, files, json, params, headers, cookies, auth, follow_redirects, timeout, extensions)\u001B[39m\n\u001B[32m   1123\u001B[39m \u001B[38;5;28;01mdef\u001B[39;00m\u001B[38;5;250m \u001B[39m\u001B[34mpost\u001B[39m(\n\u001B[32m   1124\u001B[39m     \u001B[38;5;28mself\u001B[39m,\n\u001B[32m   1125\u001B[39m     url: URL | \u001B[38;5;28mstr\u001B[39m,\n\u001B[32m   (...)\u001B[39m\u001B[32m   1137\u001B[39m     extensions: RequestExtensions | \u001B[38;5;28;01mNone\u001B[39;00m = \u001B[38;5;28;01mNone\u001B[39;00m,\n\u001B[32m   1138\u001B[39m ) -> Response:\n\u001B[32m   1139\u001B[39m \u001B[38;5;250m    \u001B[39m\u001B[33;03m\"\"\"\u001B[39;00m\n\u001B[32m   1140\u001B[39m \u001B[33;03m    Send a `POST` request.\u001B[39;00m\n\u001B[32m   1141\u001B[39m \n\u001B[32m   1142\u001B[39m \u001B[33;03m    **Parameters**: See `httpx.request`.\u001B[39;00m\n\u001B[32m   1143\u001B[39m \u001B[33;03m    \"\"\"\u001B[39;00m\n\u001B[32m-> \u001B[39m\u001B[32m1144\u001B[39m     \u001B[38;5;28;01mreturn\u001B[39;00m \u001B[38;5;28;43mself\u001B[39;49m\u001B[43m.\u001B[49m\u001B[43mrequest\u001B[49m\u001B[43m(\u001B[49m\n\u001B[32m   1145\u001B[39m \u001B[43m        \u001B[49m\u001B[33;43m\"\u001B[39;49m\u001B[33;43mPOST\u001B[39;49m\u001B[33;43m\"\u001B[39;49m\u001B[43m,\u001B[49m\n\u001B[32m   1146\u001B[39m \u001B[43m        \u001B[49m\u001B[43murl\u001B[49m\u001B[43m,\u001B[49m\n\u001B[32m   1147\u001B[39m \u001B[43m        \u001B[49m\u001B[43mcontent\u001B[49m\u001B[43m=\u001B[49m\u001B[43mcontent\u001B[49m\u001B[43m,\u001B[49m\n\u001B[32m   1148\u001B[39m \u001B[43m        \u001B[49m\u001B[43mdata\u001B[49m\u001B[43m=\u001B[49m\u001B[43mdata\u001B[49m\u001B[43m,\u001B[49m\n\u001B[32m   1149\u001B[39m \u001B[43m        \u001B[49m\u001B[43mfiles\u001B[49m\u001B[43m=\u001B[49m\u001B[43mfiles\u001B[49m\u001B[43m,\u001B[49m\n\u001B[32m   1150\u001B[39m \u001B[43m        \u001B[49m\u001B[43mjson\u001B[49m\u001B[43m=\u001B[49m\u001B[43mjson\u001B[49m\u001B[43m,\u001B[49m\n\u001B[32m   1151\u001B[39m \u001B[43m        \u001B[49m\u001B[43mparams\u001B[49m\u001B[43m=\u001B[49m\u001B[43mparams\u001B[49m\u001B[43m,\u001B[49m\n\u001B[32m   1152\u001B[39m \u001B[43m        \u001B[49m\u001B[43mheaders\u001B[49m\u001B[43m=\u001B[49m\u001B[43mheaders\u001B[49m\u001B[43m,\u001B[49m\n\u001B[32m   1153\u001B[39m \u001B[43m        \u001B[49m\u001B[43mcookies\u001B[49m\u001B[43m=\u001B[49m\u001B[43mcookies\u001B[49m\u001B[43m,\u001B[49m\n\u001B[32m   1154\u001B[39m \u001B[43m        \u001B[49m\u001B[43mauth\u001B[49m\u001B[43m=\u001B[49m\u001B[43mauth\u001B[49m\u001B[43m,\u001B[49m\n\u001B[32m   1155\u001B[39m \u001B[43m        \u001B[49m\u001B[43mfollow_redirects\u001B[49m\u001B[43m=\u001B[49m\u001B[43mfollow_redirects\u001B[49m\u001B[43m,\u001B[49m\n\u001B[32m   1156\u001B[39m \u001B[43m        \u001B[49m\u001B[43mtimeout\u001B[49m\u001B[43m=\u001B[49m\u001B[43mtimeout\u001B[49m\u001B[43m,\u001B[49m\n\u001B[32m   1157\u001B[39m \u001B[43m        \u001B[49m\u001B[43mextensions\u001B[49m\u001B[43m=\u001B[49m\u001B[43mextensions\u001B[49m\u001B[43m,\u001B[49m\n\u001B[32m   1158\u001B[39m \u001B[43m    \u001B[49m\u001B[43m)\u001B[49m\n",
      "\u001B[36mFile \u001B[39m\u001B[32m~/PycharmProjects/LunaDemo/.venv/lib/python3.12/site-packages/luna_quantum/client/controllers/luna_http_client.py:32\u001B[39m, in \u001B[36mLunaHTTPClient.request\u001B[39m\u001B[34m(self, *args, **kwargs)\u001B[39m\n\u001B[32m     30\u001B[39m \u001B[38;5;250m\u001B[39m\u001B[33;03m\"\"\"Send request to Luna platform.\"\"\"\u001B[39;00m\n\u001B[32m     31\u001B[39m \u001B[38;5;28;01mtry\u001B[39;00m:\n\u001B[32m---> \u001B[39m\u001B[32m32\u001B[39m     response: Response = \u001B[38;5;28;43msuper\u001B[39;49m\u001B[43m(\u001B[49m\u001B[43m)\u001B[49m\u001B[43m.\u001B[49m\u001B[43mrequest\u001B[49m\u001B[43m(\u001B[49m\u001B[43m*\u001B[49m\u001B[43margs\u001B[49m\u001B[43m,\u001B[49m\u001B[43m \u001B[49m\u001B[43m*\u001B[49m\u001B[43m*\u001B[49m\u001B[43mkwargs\u001B[49m\u001B[43m)\u001B[49m\n\u001B[32m     33\u001B[39m \u001B[38;5;28;01mexcept\u001B[39;00m httpx.TimeoutException:\n\u001B[32m     34\u001B[39m     \u001B[38;5;66;03m# Handle all possible in httpx timeout exceptions\u001B[39;00m\n\u001B[32m     35\u001B[39m     \u001B[38;5;28;01mraise\u001B[39;00m LunaTimeoutError \u001B[38;5;28;01mfrom\u001B[39;00m\u001B[38;5;250m \u001B[39m\u001B[38;5;28;01mNone\u001B[39;00m\n",
      "\u001B[36mFile \u001B[39m\u001B[32m~/PycharmProjects/LunaDemo/.venv/lib/python3.12/site-packages/httpx/_client.py:825\u001B[39m, in \u001B[36mClient.request\u001B[39m\u001B[34m(self, method, url, content, data, files, json, params, headers, cookies, auth, follow_redirects, timeout, extensions)\u001B[39m\n\u001B[32m    810\u001B[39m     warnings.warn(message, \u001B[38;5;167;01mDeprecationWarning\u001B[39;00m, stacklevel=\u001B[32m2\u001B[39m)\n\u001B[32m    812\u001B[39m request = \u001B[38;5;28mself\u001B[39m.build_request(\n\u001B[32m    813\u001B[39m     method=method,\n\u001B[32m    814\u001B[39m     url=url,\n\u001B[32m   (...)\u001B[39m\u001B[32m    823\u001B[39m     extensions=extensions,\n\u001B[32m    824\u001B[39m )\n\u001B[32m--> \u001B[39m\u001B[32m825\u001B[39m \u001B[38;5;28;01mreturn\u001B[39;00m \u001B[38;5;28;43mself\u001B[39;49m\u001B[43m.\u001B[49m\u001B[43msend\u001B[49m\u001B[43m(\u001B[49m\u001B[43mrequest\u001B[49m\u001B[43m,\u001B[49m\u001B[43m \u001B[49m\u001B[43mauth\u001B[49m\u001B[43m=\u001B[49m\u001B[43mauth\u001B[49m\u001B[43m,\u001B[49m\u001B[43m \u001B[49m\u001B[43mfollow_redirects\u001B[49m\u001B[43m=\u001B[49m\u001B[43mfollow_redirects\u001B[49m\u001B[43m)\u001B[49m\n",
      "\u001B[36mFile \u001B[39m\u001B[32m~/PycharmProjects/LunaDemo/.venv/lib/python3.12/site-packages/httpx/_client.py:914\u001B[39m, in \u001B[36mClient.send\u001B[39m\u001B[34m(self, request, stream, auth, follow_redirects)\u001B[39m\n\u001B[32m    910\u001B[39m \u001B[38;5;28mself\u001B[39m._set_timeout(request)\n\u001B[32m    912\u001B[39m auth = \u001B[38;5;28mself\u001B[39m._build_request_auth(request, auth)\n\u001B[32m--> \u001B[39m\u001B[32m914\u001B[39m response = \u001B[38;5;28;43mself\u001B[39;49m\u001B[43m.\u001B[49m\u001B[43m_send_handling_auth\u001B[49m\u001B[43m(\u001B[49m\n\u001B[32m    915\u001B[39m \u001B[43m    \u001B[49m\u001B[43mrequest\u001B[49m\u001B[43m,\u001B[49m\n\u001B[32m    916\u001B[39m \u001B[43m    \u001B[49m\u001B[43mauth\u001B[49m\u001B[43m=\u001B[49m\u001B[43mauth\u001B[49m\u001B[43m,\u001B[49m\n\u001B[32m    917\u001B[39m \u001B[43m    \u001B[49m\u001B[43mfollow_redirects\u001B[49m\u001B[43m=\u001B[49m\u001B[43mfollow_redirects\u001B[49m\u001B[43m,\u001B[49m\n\u001B[32m    918\u001B[39m \u001B[43m    \u001B[49m\u001B[43mhistory\u001B[49m\u001B[43m=\u001B[49m\u001B[43m[\u001B[49m\u001B[43m]\u001B[49m\u001B[43m,\u001B[49m\n\u001B[32m    919\u001B[39m \u001B[43m\u001B[49m\u001B[43m)\u001B[49m\n\u001B[32m    920\u001B[39m \u001B[38;5;28;01mtry\u001B[39;00m:\n\u001B[32m    921\u001B[39m     \u001B[38;5;28;01mif\u001B[39;00m \u001B[38;5;129;01mnot\u001B[39;00m stream:\n",
      "\u001B[36mFile \u001B[39m\u001B[32m~/PycharmProjects/LunaDemo/.venv/lib/python3.12/site-packages/httpx/_client.py:942\u001B[39m, in \u001B[36mClient._send_handling_auth\u001B[39m\u001B[34m(self, request, auth, follow_redirects, history)\u001B[39m\n\u001B[32m    939\u001B[39m request = \u001B[38;5;28mnext\u001B[39m(auth_flow)\n\u001B[32m    941\u001B[39m \u001B[38;5;28;01mwhile\u001B[39;00m \u001B[38;5;28;01mTrue\u001B[39;00m:\n\u001B[32m--> \u001B[39m\u001B[32m942\u001B[39m     response = \u001B[38;5;28;43mself\u001B[39;49m\u001B[43m.\u001B[49m\u001B[43m_send_handling_redirects\u001B[49m\u001B[43m(\u001B[49m\n\u001B[32m    943\u001B[39m \u001B[43m        \u001B[49m\u001B[43mrequest\u001B[49m\u001B[43m,\u001B[49m\n\u001B[32m    944\u001B[39m \u001B[43m        \u001B[49m\u001B[43mfollow_redirects\u001B[49m\u001B[43m=\u001B[49m\u001B[43mfollow_redirects\u001B[49m\u001B[43m,\u001B[49m\n\u001B[32m    945\u001B[39m \u001B[43m        \u001B[49m\u001B[43mhistory\u001B[49m\u001B[43m=\u001B[49m\u001B[43mhistory\u001B[49m\u001B[43m,\u001B[49m\n\u001B[32m    946\u001B[39m \u001B[43m    \u001B[49m\u001B[43m)\u001B[49m\n\u001B[32m    947\u001B[39m     \u001B[38;5;28;01mtry\u001B[39;00m:\n\u001B[32m    948\u001B[39m         \u001B[38;5;28;01mtry\u001B[39;00m:\n",
      "\u001B[36mFile \u001B[39m\u001B[32m~/PycharmProjects/LunaDemo/.venv/lib/python3.12/site-packages/httpx/_client.py:999\u001B[39m, in \u001B[36mClient._send_handling_redirects\u001B[39m\u001B[34m(self, request, follow_redirects, history)\u001B[39m\n\u001B[32m    997\u001B[39m \u001B[38;5;28;01mexcept\u001B[39;00m \u001B[38;5;167;01mBaseException\u001B[39;00m \u001B[38;5;28;01mas\u001B[39;00m exc:\n\u001B[32m    998\u001B[39m     response.close()\n\u001B[32m--> \u001B[39m\u001B[32m999\u001B[39m     \u001B[38;5;28;01mraise\u001B[39;00m exc\n",
      "\u001B[36mFile \u001B[39m\u001B[32m~/PycharmProjects/LunaDemo/.venv/lib/python3.12/site-packages/httpx/_client.py:982\u001B[39m, in \u001B[36mClient._send_handling_redirects\u001B[39m\u001B[34m(self, request, follow_redirects, history)\u001B[39m\n\u001B[32m    980\u001B[39m \u001B[38;5;28;01mtry\u001B[39;00m:\n\u001B[32m    981\u001B[39m     \u001B[38;5;28;01mfor\u001B[39;00m hook \u001B[38;5;129;01min\u001B[39;00m \u001B[38;5;28mself\u001B[39m._event_hooks[\u001B[33m\"\u001B[39m\u001B[33mresponse\u001B[39m\u001B[33m\"\u001B[39m]:\n\u001B[32m--> \u001B[39m\u001B[32m982\u001B[39m         \u001B[43mhook\u001B[49m\u001B[43m(\u001B[49m\u001B[43mresponse\u001B[49m\u001B[43m)\u001B[49m\n\u001B[32m    983\u001B[39m     response.history = \u001B[38;5;28mlist\u001B[39m(history)\n\u001B[32m    985\u001B[39m     \u001B[38;5;28;01mif\u001B[39;00m \u001B[38;5;129;01mnot\u001B[39;00m response.has_redirect_location:\n",
      "\u001B[36mFile \u001B[39m\u001B[32m~/PycharmProjects/LunaDemo/.venv/lib/python3.12/site-packages/luna_quantum/client/controllers/luna_platform_client.py:42\u001B[39m, in \u001B[36mcheck_httpx_exceptions\u001B[39m\u001B[34m(response)\u001B[39m\n\u001B[32m     30\u001B[39m \u001B[38;5;28;01mdef\u001B[39;00m\u001B[38;5;250m \u001B[39m\u001B[34mcheck_httpx_exceptions\u001B[39m(response: Response) -> \u001B[38;5;28;01mNone\u001B[39;00m:\n\u001B[32m     31\u001B[39m \u001B[38;5;250m    \u001B[39m\u001B[33;03m\"\"\"\u001B[39;00m\n\u001B[32m     32\u001B[39m \u001B[33;03m    Check if response contains errors from the server.\u001B[39;00m\n\u001B[32m     33\u001B[39m \n\u001B[32m   (...)\u001B[39m\u001B[32m     40\u001B[39m \u001B[33;03m        The HTTP response object to be examined for error conditions.\u001B[39;00m\n\u001B[32m     41\u001B[39m \u001B[33;03m    \"\"\"\u001B[39;00m\n\u001B[32m---> \u001B[39m\u001B[32m42\u001B[39m     \u001B[43mHttpErrorUtils\u001B[49m\u001B[43m.\u001B[49m\u001B[43mcheck_for_error\u001B[49m\u001B[43m(\u001B[49m\u001B[43mresponse\u001B[49m\u001B[43m)\u001B[49m\n",
      "\u001B[36mFile \u001B[39m\u001B[32m~/PycharmProjects/LunaDemo/.venv/lib/python3.12/site-packages/luna_quantum/client/error/utils/http_error_utils.py:106\u001B[39m, in \u001B[36mHttpErrorUtils.check_for_error\u001B[39m\u001B[34m(response)\u001B[39m\n\u001B[32m    104\u001B[39m \u001B[38;5;28;01mif\u001B[39;00m exception:\n\u001B[32m    105\u001B[39m     logger.exception(exception, exc_info=\u001B[38;5;28;01mFalse\u001B[39;00m)\n\u001B[32m--> \u001B[39m\u001B[32m106\u001B[39m     \u001B[38;5;28;01mraise\u001B[39;00m exception \u001B[38;5;28;01mfrom\u001B[39;00m\u001B[38;5;250m \u001B[39m\u001B[38;5;28;01mNone\u001B[39;00m\n\u001B[32m    107\u001B[39m logger.error(exception, exc_info=\u001B[38;5;28;01mTrue\u001B[39;00m)\n\u001B[32m    108\u001B[39m \u001B[38;5;28;01mraise\u001B[39;00m\n",
      "\u001B[31mLunaServerError\u001B[39m: The Luna-Server reported the error 'QPU_TOKEN_MISSING' with the message:\n No aws token was specified in the request, or the QPU token name provided cannot be found. Please specify a valid QPU token to use via the `qpu_tokens` object."
     ]
    }
   ],
   "execution_count": 19
  },
  {
   "metadata": {
    "ExecuteTime": {
     "end_time": "2025-06-24T08:29:31.967771Z",
     "start_time": "2025-06-24T08:29:30.458890Z"
    }
   },
   "cell_type": "code",
   "source": [
    "# 6. Analyze solution\n",
    "solution = job.result()\n",
    "solution.best().obj_value"
   ],
   "id": "fdf7b6eb402fe57b",
   "outputs": [
    {
     "data": {
      "text/plain": [
       "Output()"
      ],
      "application/vnd.jupyter.widget-view+json": {
       "version_major": 2,
       "version_minor": 0,
       "model_id": "b2eb5d8daa524c07ae175437af53b33a"
      }
     },
     "metadata": {},
     "output_type": "display_data"
    },
    {
     "data": {
      "text/plain": [
       "Output()"
      ],
      "application/vnd.jupyter.widget-view+json": {
       "version_major": 2,
       "version_minor": 0,
       "model_id": "a6e19089f91744fbb9bb7f69f509194e"
      }
     },
     "metadata": {},
     "output_type": "display_data"
    },
    {
     "data": {
      "text/plain": [],
      "text/html": [
       "<pre style=\"white-space:pre;overflow-x:auto;line-height:normal;font-family:Menlo,'DejaVu Sans Mono',consolas,'Courier New',monospace\"></pre>\n"
      ]
     },
     "metadata": {},
     "output_type": "display_data"
    },
    {
     "data": {
      "text/plain": [],
      "text/html": [
       "<pre style=\"white-space:pre;overflow-x:auto;line-height:normal;font-family:Menlo,'DejaVu Sans Mono',consolas,'Courier New',monospace\"></pre>\n"
      ]
     },
     "metadata": {},
     "output_type": "display_data"
    },
    {
     "data": {
      "text/plain": [
       "1964.0"
      ]
     },
     "execution_count": 8,
     "metadata": {},
     "output_type": "execute_result"
    }
   ],
   "execution_count": 8
  },
  {
   "metadata": {
    "ExecuteTime": {
     "end_time": "2025-06-24T08:29:31.991101Z",
     "start_time": "2025-06-24T08:29:31.985897Z"
    }
   },
   "cell_type": "code",
   "source": "solution.expectation_value()",
   "id": "40ece1a3e1748f88",
   "outputs": [
    {
     "data": {
      "text/plain": [
       "1964.0"
      ]
     },
     "execution_count": 9,
     "metadata": {},
     "output_type": "execute_result"
    }
   ],
   "execution_count": 9
  },
  {
   "metadata": {
    "ExecuteTime": {
     "end_time": "2025-06-24T08:29:37.180193Z",
     "start_time": "2025-06-24T08:29:37.175318Z"
    }
   },
   "cell_type": "code",
   "source": [
    "# Extract tour from solution\n",
    "tour = extract_tour_from_solution(\n",
    "    variable_names=solution.variable_names,\n",
    "    sample_values=solution.best().sample,\n",
    "    start_city='Berlin'\n",
    ")\n",
    "\n",
    "# Display the optimal tour\n",
    "print(f\"🎯 Optimal Tour:\")\n",
    "print(f\"   → Route: {' → '.join(tour)}\")"
   ],
   "id": "2cfb374d9aec79e8",
   "outputs": [
    {
     "name": "stdout",
     "output_type": "stream",
     "text": [
      "🎯 Optimal Tour:\n",
      "   → Route: Berlin → Munich → Hamburg → Bonn → Berlin\n"
     ]
    }
   ],
   "execution_count": 10
  },
  {
   "cell_type": "markdown",
   "id": "49e772cfa6647b4d",
   "metadata": {},
   "source": [
    "**⚠️ Note**:\n",
    "The above is a preview of the complete workflow. We'll build the actual model step-by-step in the following sections."
   ]
  },
  {
   "cell_type": "markdown",
   "id": "da6badc6be3192bd",
   "metadata": {},
   "source": "## 2. 📊 Problem Data Setup\n"
  },
  {
   "cell_type": "code",
   "id": "15066e0d104f7706",
   "metadata": {
    "ExecuteTime": {
     "end_time": "2025-06-24T08:29:41.725412Z",
     "start_time": "2025-06-24T08:29:41.712593Z"
    }
   },
   "source": [
    "cities = {\n",
    "    \"Berlin\": (52.52, 13.405),\n",
    "    \"Hamburg\": (53.5511, 9.9937),\n",
    "    \"Munich\": (48.1351, 11.582),\n",
    "    \"Bonn\": (50.7374, 7.0982),\n",
    "}\n",
    "distance_matrix = calculate_distance_matrix(cities)"
   ],
   "outputs": [],
   "execution_count": 11
  },
  {
   "cell_type": "markdown",
   "id": "9d375c9bcf34e981",
   "metadata": {},
   "source": [
    "### 🔗 Graph Representation\n",
    "\n",
    "We use NetworkX to create a mathematical representation of our TSP problem:\n",
    "\n",
    "**Graph Structure:**\n",
    "- **Nodes**: Cities with GPS coordinates as attributes\n",
    "- **Edges**: All possible routes between cities with distance weights\n",
    "- **Complete Graph**: Every city connects to every other city (K₄ graph)"
   ]
  },
  {
   "cell_type": "code",
   "id": "477c79d727d0b69",
   "metadata": {
    "ExecuteTime": {
     "end_time": "2025-06-24T08:29:43.653815Z",
     "start_time": "2025-06-24T08:29:43.649195Z"
    }
   },
   "source": [
    "# Create a graph\n",
    "G = nx.Graph()\n",
    "\n",
    "# Add nodes with their geographic coordinates\n",
    "for city, (lat, lon) in cities.items():\n",
    "    G.add_node(city, pos=(lon, lat))  # Note: NetworkX expects (x, y) = (lon, lat)\n",
    "\n",
    "# Add edges\n",
    "for city1, city2 in itertools.combinations(cities, 2):\n",
    "    G.add_edge(city1, city2, weight=distance_matrix[city1][city2])"
   ],
   "outputs": [],
   "execution_count": 12
  },
  {
   "cell_type": "markdown",
   "id": "6270dce95d985488",
   "metadata": {},
   "source": "### Problem Visualization"
  },
  {
   "cell_type": "code",
   "id": "b75ffd4530c4c9ee",
   "metadata": {
    "ExecuteTime": {
     "end_time": "2025-06-24T08:29:44.964451Z",
     "start_time": "2025-06-24T08:29:44.934639Z"
    }
   },
   "source": [
    "map = plot_graph_on_map(G = G, cities = cities)\n",
    "map"
   ],
   "outputs": [
    {
     "data": {
      "text/plain": [
       "<folium.folium.Map at 0x11d4160c0>"
      ],
      "text/html": [
       "<div style=\"width:100%;\"><div style=\"position:relative;width:100%;height:0;padding-bottom:60%;\"><span style=\"color:#565656\">Make this Notebook Trusted to load map: File -> Trust Notebook</span><iframe srcdoc=\"&lt;!DOCTYPE html&gt;\n",
       "&lt;html&gt;\n",
       "&lt;head&gt;\n",
       "    \n",
       "    &lt;meta http-equiv=&quot;content-type&quot; content=&quot;text/html; charset=UTF-8&quot; /&gt;\n",
       "    &lt;script src=&quot;https://cdn.jsdelivr.net/npm/leaflet@1.9.3/dist/leaflet.js&quot;&gt;&lt;/script&gt;\n",
       "    &lt;script src=&quot;https://code.jquery.com/jquery-3.7.1.min.js&quot;&gt;&lt;/script&gt;\n",
       "    &lt;script src=&quot;https://cdn.jsdelivr.net/npm/bootstrap@5.2.2/dist/js/bootstrap.bundle.min.js&quot;&gt;&lt;/script&gt;\n",
       "    &lt;script src=&quot;https://cdnjs.cloudflare.com/ajax/libs/Leaflet.awesome-markers/2.0.2/leaflet.awesome-markers.js&quot;&gt;&lt;/script&gt;\n",
       "    &lt;link rel=&quot;stylesheet&quot; href=&quot;https://cdn.jsdelivr.net/npm/leaflet@1.9.3/dist/leaflet.css&quot;/&gt;\n",
       "    &lt;link rel=&quot;stylesheet&quot; href=&quot;https://cdn.jsdelivr.net/npm/bootstrap@5.2.2/dist/css/bootstrap.min.css&quot;/&gt;\n",
       "    &lt;link rel=&quot;stylesheet&quot; href=&quot;https://netdna.bootstrapcdn.com/bootstrap/3.0.0/css/bootstrap-glyphicons.css&quot;/&gt;\n",
       "    &lt;link rel=&quot;stylesheet&quot; href=&quot;https://cdn.jsdelivr.net/npm/@fortawesome/fontawesome-free@6.2.0/css/all.min.css&quot;/&gt;\n",
       "    &lt;link rel=&quot;stylesheet&quot; href=&quot;https://cdnjs.cloudflare.com/ajax/libs/Leaflet.awesome-markers/2.0.2/leaflet.awesome-markers.css&quot;/&gt;\n",
       "    &lt;link rel=&quot;stylesheet&quot; href=&quot;https://cdn.jsdelivr.net/gh/python-visualization/folium/folium/templates/leaflet.awesome.rotate.min.css&quot;/&gt;\n",
       "    \n",
       "            &lt;meta name=&quot;viewport&quot; content=&quot;width=device-width,\n",
       "                initial-scale=1.0, maximum-scale=1.0, user-scalable=no&quot; /&gt;\n",
       "            &lt;style&gt;\n",
       "                #map_0b3a708e9972253062c3c1d9e2c05961 {\n",
       "                    position: relative;\n",
       "                    width: 100.0%;\n",
       "                    height: 100.0%;\n",
       "                    left: 0.0%;\n",
       "                    top: 0.0%;\n",
       "                }\n",
       "                .leaflet-container { font-size: 1rem; }\n",
       "            &lt;/style&gt;\n",
       "\n",
       "            &lt;style&gt;html, body {\n",
       "                width: 100%;\n",
       "                height: 100%;\n",
       "                margin: 0;\n",
       "                padding: 0;\n",
       "            }\n",
       "            &lt;/style&gt;\n",
       "\n",
       "            &lt;style&gt;#map {\n",
       "                position:absolute;\n",
       "                top:0;\n",
       "                bottom:0;\n",
       "                right:0;\n",
       "                left:0;\n",
       "                }\n",
       "            &lt;/style&gt;\n",
       "\n",
       "            &lt;script&gt;\n",
       "                L_NO_TOUCH = false;\n",
       "                L_DISABLE_3D = false;\n",
       "            &lt;/script&gt;\n",
       "\n",
       "        \n",
       "&lt;/head&gt;\n",
       "&lt;body&gt;\n",
       "    \n",
       "    \n",
       "            &lt;div class=&quot;folium-map&quot; id=&quot;map_0b3a708e9972253062c3c1d9e2c05961&quot; &gt;&lt;/div&gt;\n",
       "        \n",
       "&lt;/body&gt;\n",
       "&lt;script&gt;\n",
       "    \n",
       "    \n",
       "            var map_0b3a708e9972253062c3c1d9e2c05961 = L.map(\n",
       "                &quot;map_0b3a708e9972253062c3c1d9e2c05961&quot;,\n",
       "                {\n",
       "                    center: [51.1657, 10.4515],\n",
       "                    crs: L.CRS.EPSG3857,\n",
       "                    ...{\n",
       "  &quot;zoom&quot;: 7,\n",
       "  &quot;zoomControl&quot;: true,\n",
       "  &quot;preferCanvas&quot;: false,\n",
       "}\n",
       "\n",
       "                }\n",
       "            );\n",
       "\n",
       "            \n",
       "\n",
       "        \n",
       "    \n",
       "            var tile_layer_4e89ce03e913ce1602945777fa959b3d = L.tileLayer(\n",
       "                &quot;https://tile.openstreetmap.org/{z}/{x}/{y}.png&quot;,\n",
       "                {\n",
       "  &quot;minZoom&quot;: 0,\n",
       "  &quot;maxZoom&quot;: 19,\n",
       "  &quot;maxNativeZoom&quot;: 19,\n",
       "  &quot;noWrap&quot;: false,\n",
       "  &quot;attribution&quot;: &quot;\\u0026copy; \\u003ca href=\\&quot;https://www.openstreetmap.org/copyright\\&quot;\\u003eOpenStreetMap\\u003c/a\\u003e contributors&quot;,\n",
       "  &quot;subdomains&quot;: &quot;abc&quot;,\n",
       "  &quot;detectRetina&quot;: false,\n",
       "  &quot;tms&quot;: false,\n",
       "  &quot;opacity&quot;: 1,\n",
       "}\n",
       "\n",
       "            );\n",
       "        \n",
       "    \n",
       "            tile_layer_4e89ce03e913ce1602945777fa959b3d.addTo(map_0b3a708e9972253062c3c1d9e2c05961);\n",
       "        \n",
       "    \n",
       "            var marker_3e46ab243308d9c6673e958dc888ce84 = L.marker(\n",
       "                [52.52, 13.405],\n",
       "                {\n",
       "}\n",
       "            ).addTo(map_0b3a708e9972253062c3c1d9e2c05961);\n",
       "        \n",
       "    \n",
       "        var popup_e111943cdf78a0ccfa039d0122212b49 = L.popup({\n",
       "  &quot;maxWidth&quot;: &quot;100%&quot;,\n",
       "});\n",
       "\n",
       "        \n",
       "            \n",
       "                var html_b928652de3e0489ee122d232c736bf61 = $(`&lt;div id=&quot;html_b928652de3e0489ee122d232c736bf61&quot; style=&quot;width: 100.0%; height: 100.0%;&quot;&gt;Berlin&lt;/div&gt;`)[0];\n",
       "                popup_e111943cdf78a0ccfa039d0122212b49.setContent(html_b928652de3e0489ee122d232c736bf61);\n",
       "            \n",
       "        \n",
       "\n",
       "        marker_3e46ab243308d9c6673e958dc888ce84.bindPopup(popup_e111943cdf78a0ccfa039d0122212b49)\n",
       "        ;\n",
       "\n",
       "        \n",
       "    \n",
       "    \n",
       "            var marker_d95ed212b4eaa76d86c8a81c39964999 = L.marker(\n",
       "                [53.5511, 9.9937],\n",
       "                {\n",
       "}\n",
       "            ).addTo(map_0b3a708e9972253062c3c1d9e2c05961);\n",
       "        \n",
       "    \n",
       "        var popup_68e423f1d86a1b069263469a0f1b05cc = L.popup({\n",
       "  &quot;maxWidth&quot;: &quot;100%&quot;,\n",
       "});\n",
       "\n",
       "        \n",
       "            \n",
       "                var html_70d69246afd15099090078226e50a7e2 = $(`&lt;div id=&quot;html_70d69246afd15099090078226e50a7e2&quot; style=&quot;width: 100.0%; height: 100.0%;&quot;&gt;Hamburg&lt;/div&gt;`)[0];\n",
       "                popup_68e423f1d86a1b069263469a0f1b05cc.setContent(html_70d69246afd15099090078226e50a7e2);\n",
       "            \n",
       "        \n",
       "\n",
       "        marker_d95ed212b4eaa76d86c8a81c39964999.bindPopup(popup_68e423f1d86a1b069263469a0f1b05cc)\n",
       "        ;\n",
       "\n",
       "        \n",
       "    \n",
       "    \n",
       "            var marker_9ed007222105c62dd311a928f22059e2 = L.marker(\n",
       "                [48.1351, 11.582],\n",
       "                {\n",
       "}\n",
       "            ).addTo(map_0b3a708e9972253062c3c1d9e2c05961);\n",
       "        \n",
       "    \n",
       "        var popup_31b8104caf70538364905343bf58e24a = L.popup({\n",
       "  &quot;maxWidth&quot;: &quot;100%&quot;,\n",
       "});\n",
       "\n",
       "        \n",
       "            \n",
       "                var html_56fd663ea3fd005eeaa24816f9619673 = $(`&lt;div id=&quot;html_56fd663ea3fd005eeaa24816f9619673&quot; style=&quot;width: 100.0%; height: 100.0%;&quot;&gt;Munich&lt;/div&gt;`)[0];\n",
       "                popup_31b8104caf70538364905343bf58e24a.setContent(html_56fd663ea3fd005eeaa24816f9619673);\n",
       "            \n",
       "        \n",
       "\n",
       "        marker_9ed007222105c62dd311a928f22059e2.bindPopup(popup_31b8104caf70538364905343bf58e24a)\n",
       "        ;\n",
       "\n",
       "        \n",
       "    \n",
       "    \n",
       "            var marker_5be9b51d74e7e29a9608012ef423a8f5 = L.marker(\n",
       "                [50.7374, 7.0982],\n",
       "                {\n",
       "}\n",
       "            ).addTo(map_0b3a708e9972253062c3c1d9e2c05961);\n",
       "        \n",
       "    \n",
       "        var popup_1a7b103b16d7fc5f01e06a102e074b25 = L.popup({\n",
       "  &quot;maxWidth&quot;: &quot;100%&quot;,\n",
       "});\n",
       "\n",
       "        \n",
       "            \n",
       "                var html_2ff525f04c64080f039c85907ced2b58 = $(`&lt;div id=&quot;html_2ff525f04c64080f039c85907ced2b58&quot; style=&quot;width: 100.0%; height: 100.0%;&quot;&gt;Bonn&lt;/div&gt;`)[0];\n",
       "                popup_1a7b103b16d7fc5f01e06a102e074b25.setContent(html_2ff525f04c64080f039c85907ced2b58);\n",
       "            \n",
       "        \n",
       "\n",
       "        marker_5be9b51d74e7e29a9608012ef423a8f5.bindPopup(popup_1a7b103b16d7fc5f01e06a102e074b25)\n",
       "        ;\n",
       "\n",
       "        \n",
       "    \n",
       "    \n",
       "            var poly_line_5dcd5b655cd0e0a2465edd84b22001d9 = L.polyline(\n",
       "                [[52.52, 13.405], [53.5511, 9.9937]],\n",
       "                {&quot;bubblingMouseEvents&quot;: true, &quot;color&quot;: &quot;blue&quot;, &quot;dashArray&quot;: null, &quot;dashOffset&quot;: null, &quot;fill&quot;: false, &quot;fillColor&quot;: &quot;blue&quot;, &quot;fillOpacity&quot;: 0.2, &quot;fillRule&quot;: &quot;evenodd&quot;, &quot;lineCap&quot;: &quot;round&quot;, &quot;lineJoin&quot;: &quot;round&quot;, &quot;noClip&quot;: false, &quot;opacity&quot;: 0.7, &quot;smoothFactor&quot;: 1.0, &quot;stroke&quot;: true, &quot;weight&quot;: 3}\n",
       "            ).addTo(map_0b3a708e9972253062c3c1d9e2c05961);\n",
       "        \n",
       "    \n",
       "            var poly_line_8ac829e0b814896dbe75d2cf58596ec4 = L.polyline(\n",
       "                [[52.52, 13.405], [48.1351, 11.582]],\n",
       "                {&quot;bubblingMouseEvents&quot;: true, &quot;color&quot;: &quot;blue&quot;, &quot;dashArray&quot;: null, &quot;dashOffset&quot;: null, &quot;fill&quot;: false, &quot;fillColor&quot;: &quot;blue&quot;, &quot;fillOpacity&quot;: 0.2, &quot;fillRule&quot;: &quot;evenodd&quot;, &quot;lineCap&quot;: &quot;round&quot;, &quot;lineJoin&quot;: &quot;round&quot;, &quot;noClip&quot;: false, &quot;opacity&quot;: 0.7, &quot;smoothFactor&quot;: 1.0, &quot;stroke&quot;: true, &quot;weight&quot;: 3}\n",
       "            ).addTo(map_0b3a708e9972253062c3c1d9e2c05961);\n",
       "        \n",
       "    \n",
       "            var poly_line_dbf8a78834aea053adaedcd26711ee17 = L.polyline(\n",
       "                [[52.52, 13.405], [50.7374, 7.0982]],\n",
       "                {&quot;bubblingMouseEvents&quot;: true, &quot;color&quot;: &quot;blue&quot;, &quot;dashArray&quot;: null, &quot;dashOffset&quot;: null, &quot;fill&quot;: false, &quot;fillColor&quot;: &quot;blue&quot;, &quot;fillOpacity&quot;: 0.2, &quot;fillRule&quot;: &quot;evenodd&quot;, &quot;lineCap&quot;: &quot;round&quot;, &quot;lineJoin&quot;: &quot;round&quot;, &quot;noClip&quot;: false, &quot;opacity&quot;: 0.7, &quot;smoothFactor&quot;: 1.0, &quot;stroke&quot;: true, &quot;weight&quot;: 3}\n",
       "            ).addTo(map_0b3a708e9972253062c3c1d9e2c05961);\n",
       "        \n",
       "    \n",
       "            var poly_line_739129706572f766cf094b66f4c45a98 = L.polyline(\n",
       "                [[53.5511, 9.9937], [48.1351, 11.582]],\n",
       "                {&quot;bubblingMouseEvents&quot;: true, &quot;color&quot;: &quot;blue&quot;, &quot;dashArray&quot;: null, &quot;dashOffset&quot;: null, &quot;fill&quot;: false, &quot;fillColor&quot;: &quot;blue&quot;, &quot;fillOpacity&quot;: 0.2, &quot;fillRule&quot;: &quot;evenodd&quot;, &quot;lineCap&quot;: &quot;round&quot;, &quot;lineJoin&quot;: &quot;round&quot;, &quot;noClip&quot;: false, &quot;opacity&quot;: 0.7, &quot;smoothFactor&quot;: 1.0, &quot;stroke&quot;: true, &quot;weight&quot;: 3}\n",
       "            ).addTo(map_0b3a708e9972253062c3c1d9e2c05961);\n",
       "        \n",
       "    \n",
       "            var poly_line_c68d91f06a4ea781ef6617b8d73ab5f9 = L.polyline(\n",
       "                [[53.5511, 9.9937], [50.7374, 7.0982]],\n",
       "                {&quot;bubblingMouseEvents&quot;: true, &quot;color&quot;: &quot;blue&quot;, &quot;dashArray&quot;: null, &quot;dashOffset&quot;: null, &quot;fill&quot;: false, &quot;fillColor&quot;: &quot;blue&quot;, &quot;fillOpacity&quot;: 0.2, &quot;fillRule&quot;: &quot;evenodd&quot;, &quot;lineCap&quot;: &quot;round&quot;, &quot;lineJoin&quot;: &quot;round&quot;, &quot;noClip&quot;: false, &quot;opacity&quot;: 0.7, &quot;smoothFactor&quot;: 1.0, &quot;stroke&quot;: true, &quot;weight&quot;: 3}\n",
       "            ).addTo(map_0b3a708e9972253062c3c1d9e2c05961);\n",
       "        \n",
       "    \n",
       "            var poly_line_c6adfc2597e89925e53b669dd709cd8b = L.polyline(\n",
       "                [[48.1351, 11.582], [50.7374, 7.0982]],\n",
       "                {&quot;bubblingMouseEvents&quot;: true, &quot;color&quot;: &quot;blue&quot;, &quot;dashArray&quot;: null, &quot;dashOffset&quot;: null, &quot;fill&quot;: false, &quot;fillColor&quot;: &quot;blue&quot;, &quot;fillOpacity&quot;: 0.2, &quot;fillRule&quot;: &quot;evenodd&quot;, &quot;lineCap&quot;: &quot;round&quot;, &quot;lineJoin&quot;: &quot;round&quot;, &quot;noClip&quot;: false, &quot;opacity&quot;: 0.7, &quot;smoothFactor&quot;: 1.0, &quot;stroke&quot;: true, &quot;weight&quot;: 3}\n",
       "            ).addTo(map_0b3a708e9972253062c3c1d9e2c05961);\n",
       "        \n",
       "&lt;/script&gt;\n",
       "&lt;/html&gt;\" style=\"position:absolute;width:100%;height:100%;left:0;top:0;border:none !important;\" allowfullscreen webkitallowfullscreen mozallowfullscreen></iframe></div></div>"
      ]
     },
     "execution_count": 13,
     "metadata": {},
     "output_type": "execute_result"
    }
   ],
   "execution_count": 13
  },
  {
   "cell_type": "markdown",
   "id": "3ef5cbf3e5a83f58",
   "metadata": {},
   "source": [
    "# 🚀 Building Optimization Models with Luna Quantum\n",
    "\n",
    "![LunaSolve Flow Model](plots/FlowModel.png)\n",
    "\n",
    "## Method 1: Predefined Use Cases - Luna Quantum's Rapid Development Engine\n",
    "\n",
    "Luna Quantum's predefined use cases allows a simplified optimization development for\n",
    "common problem types.\n",
    "\n"
   ]
  },
  {
   "cell_type": "code",
   "id": "b1f1ad95da0f0817",
   "metadata": {
    "ExecuteTime": {
     "end_time": "2025-06-17T12:56:56.264989Z",
     "start_time": "2025-06-17T12:56:54.725683Z"
    }
   },
   "source": [
    "# Instantiate Luna\n",
    "ls = LunaSolve()\n",
    "tsp_graph = nx.to_dict_of_dicts(G)\n",
    "\n",
    "# Use predefined use case to define model\n",
    "tsp = TravellingSalesmanProblem(graph=tsp_graph)\n",
    "model = ls.model.create_from_use_case(name=\"predefined TSP\", use_case=tsp)\n",
    "print(ls.model.get_model(model.id))"
   ],
   "outputs": [
    {
     "name": "stdout",
     "output_type": "stream",
     "text": [
      "Model: predefined TSP\n",
      "Minimize\n",
      "  1226 * x_0 * x_1 + 1226 * x_0 * x_2 + 1226 * x_0 * x_3 + 1226 * x_0 * x_4 \n",
      "  + 255 * x_0 * x_5 + 255 * x_0 * x_7 + 1226 * x_0 * x_8 + 504 * x_0 * x_9 \n",
      "  + 504 * x_0 * x_11 + 1226 * x_0 * x_12 + 478 * x_0 * x_13 + 478 * x_0 * x_15 \n",
      "  + 1226 * x_1 * x_2 + 1226 * x_1 * x_3 + 255 * x_1 * x_4 + 1226 * x_1 * x_5 \n",
      "  + 255 * x_1 * x_6 + 504 * x_1 * x_8 + 1226 * x_1 * x_9 + 504 * x_1 * x_10 \n",
      "  + 478 * x_1 * x_12 + 1226 * x_1 * x_13 + 478 * x_1 * x_14 + 1226 * x_2 * x_3 \n",
      "  + 255 * x_2 * x_5 + 1226 * x_2 * x_6 + 255 * x_2 * x_7 + 504 * x_2 * x_9 \n",
      "  + 1226 * x_2 * x_10 + 504 * x_2 * x_11 + 478 * x_2 * x_13 + 1226 * x_2 * x_14 \n",
      "  + 478 * x_2 * x_15 + 255 * x_3 * x_4 + 255 * x_3 * x_6 + 1226 * x_3 * x_7 \n",
      "  + 504 * x_3 * x_8 + 504 * x_3 * x_10 + 1226 * x_3 * x_11 + 478 * x_3 * x_12 \n",
      "  + 478 * x_3 * x_14 + 1226 * x_3 * x_15 + 1226 * x_4 * x_5 + 1226 * x_4 * x_6 \n",
      "  + 1226 * x_4 * x_7 + 1226 * x_4 * x_8 + 612 * x_4 * x_9 + 612 * x_4 * x_11 \n",
      "  + 1226 * x_4 * x_12 + 370 * x_4 * x_13 + 370 * x_4 * x_15 + 1226 * x_5 * x_6 \n",
      "  + 1226 * x_5 * x_7 + 612 * x_5 * x_8 + 1226 * x_5 * x_9 + 612 * x_5 * x_10 \n",
      "  + 370 * x_5 * x_12 + 1226 * x_5 * x_13 + 370 * x_5 * x_14 + 1226 * x_6 * x_7 \n",
      "  + 612 * x_6 * x_9 + 1226 * x_6 * x_10 + 612 * x_6 * x_11 + 370 * x_6 * x_13 \n",
      "  + 1226 * x_6 * x_14 + 370 * x_6 * x_15 + 612 * x_7 * x_8 + 612 * x_7 * x_10 \n",
      "  + 1226 * x_7 * x_11 + 370 * x_7 * x_12 + 370 * x_7 * x_14 + 1226 * x_7 * x_15 \n",
      "  + 1226 * x_8 * x_9 + 1226 * x_8 * x_10 + 1226 * x_8 * x_11 + 1226 * x_8 * x_12\n",
      "  + 434 * x_8 * x_13 + 434 * x_8 * x_15 + 1226 * x_9 * x_10 + 1226 * x_9 * x_11 \n",
      "  + 434 * x_9 * x_12 + 1226 * x_9 * x_13 + 434 * x_9 * x_14 + 1226 * x_10 * x_11\n",
      "  + 434 * x_10 * x_13 + 1226 * x_10 * x_14 + 434 * x_10 * x_15 \n",
      "  + 434 * x_11 * x_12 + 434 * x_11 * x_14 + 1226 * x_11 * x_15 \n",
      "  + 1226 * x_12 * x_13 + 1226 * x_12 * x_14 + 1226 * x_12 * x_15 \n",
      "  + 1226 * x_13 * x_14 + 1226 * x_13 * x_15 + 1226 * x_14 * x_15 - 1226 * x_0 \n",
      "  - 1226 * x_1 - 1226 * x_2 - 1226 * x_3 - 1226 * x_4 - 1226 * x_5 - 1226 * x_6 \n",
      "  - 1226 * x_7 - 1226 * x_8 - 1226 * x_9 - 1226 * x_10 - 1226 * x_11 \n",
      "  - 1226 * x_12 - 1226 * x_13 - 1226 * x_14 - 1226 * x_15\n",
      "Bounds\n",
      "  0 <= x_0 <= 1\n",
      "  0 <= x_1 <= 1\n",
      "  0 <= x_2 <= 1\n",
      "  0 <= x_3 <= 1\n",
      "  0 <= x_4 <= 1\n",
      "  0 <= x_5 <= 1\n",
      "  0 <= x_6 <= 1\n",
      "  0 <= x_7 <= 1\n",
      "  0 <= x_8 <= 1\n",
      "  0 <= x_9 <= 1\n",
      "  0 <= x_10 <= 1\n",
      "  0 <= x_11 <= 1\n",
      "  0 <= x_12 <= 1\n",
      "  0 <= x_13 <= 1\n",
      "  0 <= x_14 <= 1\n",
      "  0 <= x_15 <= 1\n",
      "Binary\n",
      "  x_0 x_1 x_2 x_3 x_4 x_5 x_6 x_7 x_8 x_9 x_10 x_11 x_12 x_13 x_14 x_15\n"
     ]
    }
   ],
   "execution_count": 8
  },
  {
   "cell_type": "markdown",
   "id": "e4ac98f2a11d786d",
   "metadata": {},
   "source": [
    "## Method 2: AqModels - Luna Quantum's Advanced Custom Modeling Engine\n",
    "\n",
    "**AqModels** represents Luna Quantum's core package for advanced optimization modeling.\n",
    "This powerful framework combines the best practices of classical optimization with\n",
    "cutting-edge quantum capabilities, providing flexibility and control.\n",
    "\n",
    "### 🌟 AqModels Features:\n",
    "\n",
    "- **Single API** for both classical and quantum algorithm development\n",
    "- **Automatic problem transformations** (LP → QUBO, QUBO → Ising, etc.)\n",
    "- **Algorithm-agnostic modeling** - write once, solve anywhere"
   ]
  },
  {
   "cell_type": "code",
   "id": "f10141a478afaf8f",
   "metadata": {
    "ExecuteTime": {
     "end_time": "2025-06-17T12:56:56.291512Z",
     "start_time": "2025-06-17T12:56:56.280914Z"
    }
   },
   "source": [
    "# Traveling Salesman Problem (TSP) - Position-Based Formulation\n",
    "# This implementation uses a position-based approach where each city is assigned\n",
    "# to a specific position in the tour (except the starting city which is fixed)\n",
    "\n",
    "# Initialize the model and fix starting city\n",
    "travel_cities = list(cities.keys())\n",
    "start_city = travel_cities.pop(0)\n",
    "n_nodes = len(cities)\n",
    "\n",
    "model = Model()\n",
    "x = {}\n",
    "with model.environment:\n",
    "    # Decision Variables x[i, j] = 1 if city i is visited at position j in the tour, 0 otherwise\n",
    "    for i in travel_cities:\n",
    "        for j in range(1, n_nodes):\n",
    "            x[i, j] = Variable(f\"x_{i}_{j}\", vtype=Vtype.Binary)\n",
    "\n",
    "# Objective Function: Minimize total travel distance\n",
    "\n",
    "# Distance from and to starting city\n",
    "for i in travel_cities:\n",
    "    model.objective += distance_matrix[start_city][i] * x[i, 1]\n",
    "    model.objective += distance_matrix[i][start_city] * x[i, n_nodes-1]\n",
    "\n",
    "# Distance between consecutive positions in the tour\n",
    "for pos in range(1, n_nodes-1):\n",
    "    for i, j in itertools.combinations(travel_cities, 2):\n",
    "        # If city i is at position 'pos' AND city j is at position 'pos+1'\n",
    "        # then add distance from i to j and its reverse\n",
    "        model.objective += distance_matrix[i][j] * x[i, pos] * x[j, pos+1]\n",
    "        model.objective += distance_matrix[j][i] * x[j, pos] * x[i, pos+1]\n",
    "\n",
    "# Constraints as penalty terms in objective\n",
    "penalty_term = float(distance_matrix.max().max()) *10\n",
    "constrained_model = False\n",
    "from luna_quantum import quicksum\n",
    "# Constraint 1: Each city (except the starting city) must be visited exactly once\n",
    "for i in travel_cities:\n",
    "    lhs = quicksum(x[i, j] for j in range(1, n_nodes))\n",
    "    if constrained_model:\n",
    "        model.add_constraint(lhs == 1, name=f\"city_{i}_visited_once\")\n",
    "    else:\n",
    "        model.objective += penalty_term * (lhs**2) + penalty_term - 2*lhs*penalty_term\n",
    "\n",
    "# Constraint 2: # Each position (except position 0 which is fixed to start_city)\n",
    "# must be occupied by exactly one city\n",
    "for j in range(1, n_nodes):\n",
    "    lhs = sum(x[i, j] for i in travel_cities)\n",
    "    if constrained_model:\n",
    "        model.add_constraint(lhs == 1, name=f\"pos_{j}_occupied_once\")\n",
    "    else:\n",
    "        model.objective += penalty_term * (lhs**2) + penalty_term - 2*lhs*penalty_term\n",
    "\n",
    "# The final model\n",
    "print(model)\n",
    "\n",
    "# easily save model\n",
    "LpTranslator.from_aq(model = model, filepath ='tsp_model')"
   ],
   "outputs": [
    {
     "name": "stdout",
     "output_type": "stream",
     "text": [
      "Model: unnamed\n",
      "Minimize\n",
      "  12240 * x_Hamburg_1 * x_Hamburg_2 + 12240 * x_Hamburg_1 * x_Hamburg_3 \n",
      "  + 12240 * x_Hamburg_1 * x_Munich_1 + 612 * x_Hamburg_1 * x_Munich_2 \n",
      "  + 12240 * x_Hamburg_1 * x_Bonn_1 + 370 * x_Hamburg_1 * x_Bonn_2 \n",
      "  + 12240 * x_Hamburg_2 * x_Hamburg_3 + 612 * x_Hamburg_2 * x_Munich_1 \n",
      "  + 12240 * x_Hamburg_2 * x_Munich_2 + 612 * x_Hamburg_2 * x_Munich_3 \n",
      "  + 370 * x_Hamburg_2 * x_Bonn_1 + 12240 * x_Hamburg_2 * x_Bonn_2 \n",
      "  + 370 * x_Hamburg_2 * x_Bonn_3 + 612 * x_Hamburg_3 * x_Munich_2 \n",
      "  + 12240 * x_Hamburg_3 * x_Munich_3 + 370 * x_Hamburg_3 * x_Bonn_2 \n",
      "  + 12240 * x_Hamburg_3 * x_Bonn_3 + 12240 * x_Munich_1 * x_Munich_2 \n",
      "  + 12240 * x_Munich_1 * x_Munich_3 + 12240 * x_Munich_1 * x_Bonn_1 \n",
      "  + 434 * x_Munich_1 * x_Bonn_2 + 12240 * x_Munich_2 * x_Munich_3 \n",
      "  + 434 * x_Munich_2 * x_Bonn_1 + 12240 * x_Munich_2 * x_Bonn_2 \n",
      "  + 434 * x_Munich_2 * x_Bonn_3 + 434 * x_Munich_3 * x_Bonn_2 \n",
      "  + 12240 * x_Munich_3 * x_Bonn_3 + 12240 * x_Bonn_1 * x_Bonn_2 \n",
      "  + 12240 * x_Bonn_1 * x_Bonn_3 + 12240 * x_Bonn_2 * x_Bonn_3 \n",
      "  - 11985 * x_Hamburg_1 - 12240 * x_Hamburg_2 - 11985 * x_Hamburg_3 \n",
      "  - 11736 * x_Munich_1 - 12240 * x_Munich_2 - 11736 * x_Munich_3 \n",
      "  - 11762 * x_Bonn_1 - 12240 * x_Bonn_2 - 11762 * x_Bonn_3 + 36720\n",
      "Bounds\n",
      "  0 <= x_Hamburg_1 <= 1\n",
      "  0 <= x_Hamburg_2 <= 1\n",
      "  0 <= x_Hamburg_3 <= 1\n",
      "  0 <= x_Munich_1 <= 1\n",
      "  0 <= x_Munich_2 <= 1\n",
      "  0 <= x_Munich_3 <= 1\n",
      "  0 <= x_Bonn_1 <= 1\n",
      "  0 <= x_Bonn_2 <= 1\n",
      "  0 <= x_Bonn_3 <= 1\n",
      "Binary\n",
      "  x_Hamburg_1 x_Hamburg_2 x_Hamburg_3 x_Munich_1 x_Munich_2 x_Munich_3 x_Bonn_1 \n",
      "  x_Bonn_2 x_Bonn_3\n"
     ]
    }
   ],
   "execution_count": 9
  },
  {
   "cell_type": "markdown",
   "id": "f3439d1e3b6520d3",
   "metadata": {},
   "source": []
  },
  {
   "cell_type": "markdown",
   "id": "e46a9e4b8cf8aa4c",
   "metadata": {},
   "source": [
    "### 🔐 Authentication Setup\n",
    "\n",
    "Before running optimization jobs, we need to set up authentication for quantum hardware access:"
   ]
  },
  {
   "cell_type": "code",
   "id": "8244eeb4874be67d",
   "metadata": {
    "ExecuteTime": {
     "end_time": "2025-06-17T12:56:19.370805Z",
     "start_time": "2025-06-17T10:45:41.275860Z"
    }
   },
   "source": [
    "# Set up D-Wave quantum computing token\n",
    "\n",
    "personal_qpu_token = ls.qpu_token.create(\n",
    "    provider='dwave',\n",
    "    name='my-dwave-token',\n",
    "    token=os.environ.get(\"DWAVE_TOKEN\"),  # Set this environment variable\n",
    "    token_type=\"personal\"\n",
    ")\n"
   ],
   "outputs": [
    {
     "data": {
      "text/plain": [
       "\u001B[2;36m2025-06-17 12:45:41\u001B[0m\u001B[2;36m \u001B[0m\u001B[1;91mERROR   \u001B[0m The Luna-Server reported the error \u001B[32m'QPU_TOKEN_NAME_ALREADY_EXISTS'\u001B[0m with the message:  \n",
       "\u001B[2;36m                    \u001B[0m          The provided QPU-Token-Name already exists.                                          \n"
      ],
      "text/html": [
       "<pre style=\"white-space:pre;overflow-x:auto;line-height:normal;font-family:Menlo,'DejaVu Sans Mono',consolas,'Courier New',monospace\"><span style=\"color: #7fbfbf; text-decoration-color: #7fbfbf\">2025-06-17 12:45:41 </span><span style=\"color: #ff0000; text-decoration-color: #ff0000; font-weight: bold\">ERROR   </span> The Luna-Server reported the error <span style=\"color: #008000; text-decoration-color: #008000\">'QPU_TOKEN_NAME_ALREADY_EXISTS'</span> with the message:  \n",
       "<span style=\"color: #7fbfbf; text-decoration-color: #7fbfbf\">                    </span>          The provided QPU-Token-Name already exists.                                          \n",
       "</pre>\n"
      ]
     },
     "metadata": {},
     "output_type": "display_data"
    },
    {
     "ename": "LunaServerError",
     "evalue": "The Luna-Server reported the error 'QPU_TOKEN_NAME_ALREADY_EXISTS' with the message:\n The provided QPU-Token-Name already exists.",
     "output_type": "error",
     "traceback": [
      "\u001B[31m---------------------------------------------------------------------------\u001B[39m",
      "\u001B[31mLunaServerError\u001B[39m                           Traceback (most recent call last)",
      "\u001B[36mCell\u001B[39m\u001B[36m \u001B[39m\u001B[32mIn[9]\u001B[39m\u001B[32m, line 3\u001B[39m\n\u001B[32m      1\u001B[39m \u001B[38;5;66;03m# Set up D-Wave quantum computing token\u001B[39;00m\n\u001B[32m----> \u001B[39m\u001B[32m3\u001B[39m personal_qpu_token = \u001B[43mls\u001B[49m\u001B[43m.\u001B[49m\u001B[43mqpu_token\u001B[49m\u001B[43m.\u001B[49m\u001B[43mcreate\u001B[49m\u001B[43m(\u001B[49m\n\u001B[32m      4\u001B[39m \u001B[43m    \u001B[49m\u001B[43mprovider\u001B[49m\u001B[43m=\u001B[49m\u001B[33;43m'\u001B[39;49m\u001B[33;43mdwave\u001B[39;49m\u001B[33;43m'\u001B[39;49m\u001B[43m,\u001B[49m\n\u001B[32m      5\u001B[39m \u001B[43m    \u001B[49m\u001B[43mname\u001B[49m\u001B[43m=\u001B[49m\u001B[33;43m'\u001B[39;49m\u001B[33;43mmy-dwave-token\u001B[39;49m\u001B[33;43m'\u001B[39;49m\u001B[43m,\u001B[49m\n\u001B[32m      6\u001B[39m \u001B[43m    \u001B[49m\u001B[43mtoken\u001B[49m\u001B[43m=\u001B[49m\u001B[43mos\u001B[49m\u001B[43m.\u001B[49m\u001B[43menviron\u001B[49m\u001B[43m.\u001B[49m\u001B[43mget\u001B[49m\u001B[43m(\u001B[49m\u001B[33;43m\"\u001B[39;49m\u001B[33;43mDWAVE_TOKEN\u001B[39;49m\u001B[33;43m\"\u001B[39;49m\u001B[43m)\u001B[49m\u001B[43m,\u001B[49m\u001B[43m  \u001B[49m\u001B[38;5;66;43;03m# Set this environment variable\u001B[39;49;00m\n\u001B[32m      7\u001B[39m \u001B[43m    \u001B[49m\u001B[43mtoken_type\u001B[49m\u001B[43m=\u001B[49m\u001B[33;43m\"\u001B[39;49m\u001B[33;43mpersonal\u001B[39;49m\u001B[33;43m\"\u001B[39;49m\n\u001B[32m      8\u001B[39m \u001B[43m)\u001B[49m\n",
      "\u001B[36mFile \u001B[39m\u001B[32m~/PycharmProjects/LunaDemo/.venv/lib/python3.12/site-packages/luna_quantum/client/rest_client/qpu_token_rest_client.py:90\u001B[39m, in \u001B[36mQpuTokenRestClient.create\u001B[39m\u001B[34m(self, name, provider, token, token_type, **kwargs)\u001B[39m\n\u001B[32m     61\u001B[39m \u001B[38;5;250m\u001B[39m\u001B[33;03m\"\"\"\u001B[39;00m\n\u001B[32m     62\u001B[39m \u001B[33;03mCreate QPU token.\u001B[39;00m\n\u001B[32m     63\u001B[39m \n\u001B[32m   (...)\u001B[39m\u001B[32m     82\u001B[39m \u001B[33;03m    QpuToken instances.\u001B[39;00m\n\u001B[32m     83\u001B[39m \u001B[33;03m\"\"\"\u001B[39;00m\n\u001B[32m     84\u001B[39m qpu_token = QpuTokenIn(\n\u001B[32m     85\u001B[39m     name=name,\n\u001B[32m     86\u001B[39m     provider=provider,\n\u001B[32m     87\u001B[39m     token=token,\n\u001B[32m     88\u001B[39m )\n\u001B[32m---> \u001B[39m\u001B[32m90\u001B[39m response: Response = \u001B[38;5;28;43mself\u001B[39;49m\u001B[43m.\u001B[49m\u001B[43m_client\u001B[49m\u001B[43m.\u001B[49m\u001B[43mpost\u001B[49m\u001B[43m(\u001B[49m\n\u001B[32m     91\u001B[39m \u001B[43m    \u001B[49m\u001B[38;5;28;43mself\u001B[39;49m\u001B[43m.\u001B[49m\u001B[43m_get_endpoint_by_type\u001B[49m\u001B[43m(\u001B[49m\u001B[43mtoken_type\u001B[49m\u001B[43m)\u001B[49m\u001B[43m,\u001B[49m\n\u001B[32m     92\u001B[39m \u001B[43m    \u001B[49m\u001B[43mcontent\u001B[49m\u001B[43m=\u001B[49m\u001B[43mqpu_token\u001B[49m\u001B[43m.\u001B[49m\u001B[43mmodel_dump_json\u001B[49m\u001B[43m(\u001B[49m\u001B[43m)\u001B[49m\u001B[43m,\u001B[49m\n\u001B[32m     93\u001B[39m \u001B[43m    \u001B[49m\u001B[43m*\u001B[49m\u001B[43m*\u001B[49m\u001B[43mkwargs\u001B[49m\u001B[43m,\u001B[49m\n\u001B[32m     94\u001B[39m \u001B[43m\u001B[49m\u001B[43m)\u001B[49m\n\u001B[32m     95\u001B[39m response.raise_for_status()\n\u001B[32m     96\u001B[39m qpu_token_data = response.json()\n",
      "\u001B[36mFile \u001B[39m\u001B[32m~/PycharmProjects/LunaDemo/.venv/lib/python3.12/site-packages/httpx/_client.py:1144\u001B[39m, in \u001B[36mClient.post\u001B[39m\u001B[34m(self, url, content, data, files, json, params, headers, cookies, auth, follow_redirects, timeout, extensions)\u001B[39m\n\u001B[32m   1123\u001B[39m \u001B[38;5;28;01mdef\u001B[39;00m\u001B[38;5;250m \u001B[39m\u001B[34mpost\u001B[39m(\n\u001B[32m   1124\u001B[39m     \u001B[38;5;28mself\u001B[39m,\n\u001B[32m   1125\u001B[39m     url: URL | \u001B[38;5;28mstr\u001B[39m,\n\u001B[32m   (...)\u001B[39m\u001B[32m   1137\u001B[39m     extensions: RequestExtensions | \u001B[38;5;28;01mNone\u001B[39;00m = \u001B[38;5;28;01mNone\u001B[39;00m,\n\u001B[32m   1138\u001B[39m ) -> Response:\n\u001B[32m   1139\u001B[39m \u001B[38;5;250m    \u001B[39m\u001B[33;03m\"\"\"\u001B[39;00m\n\u001B[32m   1140\u001B[39m \u001B[33;03m    Send a `POST` request.\u001B[39;00m\n\u001B[32m   1141\u001B[39m \n\u001B[32m   1142\u001B[39m \u001B[33;03m    **Parameters**: See `httpx.request`.\u001B[39;00m\n\u001B[32m   1143\u001B[39m \u001B[33;03m    \"\"\"\u001B[39;00m\n\u001B[32m-> \u001B[39m\u001B[32m1144\u001B[39m     \u001B[38;5;28;01mreturn\u001B[39;00m \u001B[38;5;28;43mself\u001B[39;49m\u001B[43m.\u001B[49m\u001B[43mrequest\u001B[49m\u001B[43m(\u001B[49m\n\u001B[32m   1145\u001B[39m \u001B[43m        \u001B[49m\u001B[33;43m\"\u001B[39;49m\u001B[33;43mPOST\u001B[39;49m\u001B[33;43m\"\u001B[39;49m\u001B[43m,\u001B[49m\n\u001B[32m   1146\u001B[39m \u001B[43m        \u001B[49m\u001B[43murl\u001B[49m\u001B[43m,\u001B[49m\n\u001B[32m   1147\u001B[39m \u001B[43m        \u001B[49m\u001B[43mcontent\u001B[49m\u001B[43m=\u001B[49m\u001B[43mcontent\u001B[49m\u001B[43m,\u001B[49m\n\u001B[32m   1148\u001B[39m \u001B[43m        \u001B[49m\u001B[43mdata\u001B[49m\u001B[43m=\u001B[49m\u001B[43mdata\u001B[49m\u001B[43m,\u001B[49m\n\u001B[32m   1149\u001B[39m \u001B[43m        \u001B[49m\u001B[43mfiles\u001B[49m\u001B[43m=\u001B[49m\u001B[43mfiles\u001B[49m\u001B[43m,\u001B[49m\n\u001B[32m   1150\u001B[39m \u001B[43m        \u001B[49m\u001B[43mjson\u001B[49m\u001B[43m=\u001B[49m\u001B[43mjson\u001B[49m\u001B[43m,\u001B[49m\n\u001B[32m   1151\u001B[39m \u001B[43m        \u001B[49m\u001B[43mparams\u001B[49m\u001B[43m=\u001B[49m\u001B[43mparams\u001B[49m\u001B[43m,\u001B[49m\n\u001B[32m   1152\u001B[39m \u001B[43m        \u001B[49m\u001B[43mheaders\u001B[49m\u001B[43m=\u001B[49m\u001B[43mheaders\u001B[49m\u001B[43m,\u001B[49m\n\u001B[32m   1153\u001B[39m \u001B[43m        \u001B[49m\u001B[43mcookies\u001B[49m\u001B[43m=\u001B[49m\u001B[43mcookies\u001B[49m\u001B[43m,\u001B[49m\n\u001B[32m   1154\u001B[39m \u001B[43m        \u001B[49m\u001B[43mauth\u001B[49m\u001B[43m=\u001B[49m\u001B[43mauth\u001B[49m\u001B[43m,\u001B[49m\n\u001B[32m   1155\u001B[39m \u001B[43m        \u001B[49m\u001B[43mfollow_redirects\u001B[49m\u001B[43m=\u001B[49m\u001B[43mfollow_redirects\u001B[49m\u001B[43m,\u001B[49m\n\u001B[32m   1156\u001B[39m \u001B[43m        \u001B[49m\u001B[43mtimeout\u001B[49m\u001B[43m=\u001B[49m\u001B[43mtimeout\u001B[49m\u001B[43m,\u001B[49m\n\u001B[32m   1157\u001B[39m \u001B[43m        \u001B[49m\u001B[43mextensions\u001B[49m\u001B[43m=\u001B[49m\u001B[43mextensions\u001B[49m\u001B[43m,\u001B[49m\n\u001B[32m   1158\u001B[39m \u001B[43m    \u001B[49m\u001B[43m)\u001B[49m\n",
      "\u001B[36mFile \u001B[39m\u001B[32m~/PycharmProjects/LunaDemo/.venv/lib/python3.12/site-packages/luna_quantum/client/controllers/luna_http_client.py:32\u001B[39m, in \u001B[36mLunaHTTPClient.request\u001B[39m\u001B[34m(self, *args, **kwargs)\u001B[39m\n\u001B[32m     30\u001B[39m \u001B[38;5;250m\u001B[39m\u001B[33;03m\"\"\"Send request to Luna platform.\"\"\"\u001B[39;00m\n\u001B[32m     31\u001B[39m \u001B[38;5;28;01mtry\u001B[39;00m:\n\u001B[32m---> \u001B[39m\u001B[32m32\u001B[39m     response: Response = \u001B[38;5;28;43msuper\u001B[39;49m\u001B[43m(\u001B[49m\u001B[43m)\u001B[49m\u001B[43m.\u001B[49m\u001B[43mrequest\u001B[49m\u001B[43m(\u001B[49m\u001B[43m*\u001B[49m\u001B[43margs\u001B[49m\u001B[43m,\u001B[49m\u001B[43m \u001B[49m\u001B[43m*\u001B[49m\u001B[43m*\u001B[49m\u001B[43mkwargs\u001B[49m\u001B[43m)\u001B[49m\n\u001B[32m     33\u001B[39m \u001B[38;5;28;01mexcept\u001B[39;00m httpx.TimeoutException:\n\u001B[32m     34\u001B[39m     \u001B[38;5;66;03m# Handle all possible in httpx timeout exceptions\u001B[39;00m\n\u001B[32m     35\u001B[39m     \u001B[38;5;28;01mraise\u001B[39;00m LunaTimeoutError \u001B[38;5;28;01mfrom\u001B[39;00m\u001B[38;5;250m \u001B[39m\u001B[38;5;28;01mNone\u001B[39;00m\n",
      "\u001B[36mFile \u001B[39m\u001B[32m~/PycharmProjects/LunaDemo/.venv/lib/python3.12/site-packages/httpx/_client.py:825\u001B[39m, in \u001B[36mClient.request\u001B[39m\u001B[34m(self, method, url, content, data, files, json, params, headers, cookies, auth, follow_redirects, timeout, extensions)\u001B[39m\n\u001B[32m    810\u001B[39m     warnings.warn(message, \u001B[38;5;167;01mDeprecationWarning\u001B[39;00m, stacklevel=\u001B[32m2\u001B[39m)\n\u001B[32m    812\u001B[39m request = \u001B[38;5;28mself\u001B[39m.build_request(\n\u001B[32m    813\u001B[39m     method=method,\n\u001B[32m    814\u001B[39m     url=url,\n\u001B[32m   (...)\u001B[39m\u001B[32m    823\u001B[39m     extensions=extensions,\n\u001B[32m    824\u001B[39m )\n\u001B[32m--> \u001B[39m\u001B[32m825\u001B[39m \u001B[38;5;28;01mreturn\u001B[39;00m \u001B[38;5;28;43mself\u001B[39;49m\u001B[43m.\u001B[49m\u001B[43msend\u001B[49m\u001B[43m(\u001B[49m\u001B[43mrequest\u001B[49m\u001B[43m,\u001B[49m\u001B[43m \u001B[49m\u001B[43mauth\u001B[49m\u001B[43m=\u001B[49m\u001B[43mauth\u001B[49m\u001B[43m,\u001B[49m\u001B[43m \u001B[49m\u001B[43mfollow_redirects\u001B[49m\u001B[43m=\u001B[49m\u001B[43mfollow_redirects\u001B[49m\u001B[43m)\u001B[49m\n",
      "\u001B[36mFile \u001B[39m\u001B[32m~/PycharmProjects/LunaDemo/.venv/lib/python3.12/site-packages/httpx/_client.py:914\u001B[39m, in \u001B[36mClient.send\u001B[39m\u001B[34m(self, request, stream, auth, follow_redirects)\u001B[39m\n\u001B[32m    910\u001B[39m \u001B[38;5;28mself\u001B[39m._set_timeout(request)\n\u001B[32m    912\u001B[39m auth = \u001B[38;5;28mself\u001B[39m._build_request_auth(request, auth)\n\u001B[32m--> \u001B[39m\u001B[32m914\u001B[39m response = \u001B[38;5;28;43mself\u001B[39;49m\u001B[43m.\u001B[49m\u001B[43m_send_handling_auth\u001B[49m\u001B[43m(\u001B[49m\n\u001B[32m    915\u001B[39m \u001B[43m    \u001B[49m\u001B[43mrequest\u001B[49m\u001B[43m,\u001B[49m\n\u001B[32m    916\u001B[39m \u001B[43m    \u001B[49m\u001B[43mauth\u001B[49m\u001B[43m=\u001B[49m\u001B[43mauth\u001B[49m\u001B[43m,\u001B[49m\n\u001B[32m    917\u001B[39m \u001B[43m    \u001B[49m\u001B[43mfollow_redirects\u001B[49m\u001B[43m=\u001B[49m\u001B[43mfollow_redirects\u001B[49m\u001B[43m,\u001B[49m\n\u001B[32m    918\u001B[39m \u001B[43m    \u001B[49m\u001B[43mhistory\u001B[49m\u001B[43m=\u001B[49m\u001B[43m[\u001B[49m\u001B[43m]\u001B[49m\u001B[43m,\u001B[49m\n\u001B[32m    919\u001B[39m \u001B[43m\u001B[49m\u001B[43m)\u001B[49m\n\u001B[32m    920\u001B[39m \u001B[38;5;28;01mtry\u001B[39;00m:\n\u001B[32m    921\u001B[39m     \u001B[38;5;28;01mif\u001B[39;00m \u001B[38;5;129;01mnot\u001B[39;00m stream:\n",
      "\u001B[36mFile \u001B[39m\u001B[32m~/PycharmProjects/LunaDemo/.venv/lib/python3.12/site-packages/httpx/_client.py:942\u001B[39m, in \u001B[36mClient._send_handling_auth\u001B[39m\u001B[34m(self, request, auth, follow_redirects, history)\u001B[39m\n\u001B[32m    939\u001B[39m request = \u001B[38;5;28mnext\u001B[39m(auth_flow)\n\u001B[32m    941\u001B[39m \u001B[38;5;28;01mwhile\u001B[39;00m \u001B[38;5;28;01mTrue\u001B[39;00m:\n\u001B[32m--> \u001B[39m\u001B[32m942\u001B[39m     response = \u001B[38;5;28;43mself\u001B[39;49m\u001B[43m.\u001B[49m\u001B[43m_send_handling_redirects\u001B[49m\u001B[43m(\u001B[49m\n\u001B[32m    943\u001B[39m \u001B[43m        \u001B[49m\u001B[43mrequest\u001B[49m\u001B[43m,\u001B[49m\n\u001B[32m    944\u001B[39m \u001B[43m        \u001B[49m\u001B[43mfollow_redirects\u001B[49m\u001B[43m=\u001B[49m\u001B[43mfollow_redirects\u001B[49m\u001B[43m,\u001B[49m\n\u001B[32m    945\u001B[39m \u001B[43m        \u001B[49m\u001B[43mhistory\u001B[49m\u001B[43m=\u001B[49m\u001B[43mhistory\u001B[49m\u001B[43m,\u001B[49m\n\u001B[32m    946\u001B[39m \u001B[43m    \u001B[49m\u001B[43m)\u001B[49m\n\u001B[32m    947\u001B[39m     \u001B[38;5;28;01mtry\u001B[39;00m:\n\u001B[32m    948\u001B[39m         \u001B[38;5;28;01mtry\u001B[39;00m:\n",
      "\u001B[36mFile \u001B[39m\u001B[32m~/PycharmProjects/LunaDemo/.venv/lib/python3.12/site-packages/httpx/_client.py:999\u001B[39m, in \u001B[36mClient._send_handling_redirects\u001B[39m\u001B[34m(self, request, follow_redirects, history)\u001B[39m\n\u001B[32m    997\u001B[39m \u001B[38;5;28;01mexcept\u001B[39;00m \u001B[38;5;167;01mBaseException\u001B[39;00m \u001B[38;5;28;01mas\u001B[39;00m exc:\n\u001B[32m    998\u001B[39m     response.close()\n\u001B[32m--> \u001B[39m\u001B[32m999\u001B[39m     \u001B[38;5;28;01mraise\u001B[39;00m exc\n",
      "\u001B[36mFile \u001B[39m\u001B[32m~/PycharmProjects/LunaDemo/.venv/lib/python3.12/site-packages/httpx/_client.py:982\u001B[39m, in \u001B[36mClient._send_handling_redirects\u001B[39m\u001B[34m(self, request, follow_redirects, history)\u001B[39m\n\u001B[32m    980\u001B[39m \u001B[38;5;28;01mtry\u001B[39;00m:\n\u001B[32m    981\u001B[39m     \u001B[38;5;28;01mfor\u001B[39;00m hook \u001B[38;5;129;01min\u001B[39;00m \u001B[38;5;28mself\u001B[39m._event_hooks[\u001B[33m\"\u001B[39m\u001B[33mresponse\u001B[39m\u001B[33m\"\u001B[39m]:\n\u001B[32m--> \u001B[39m\u001B[32m982\u001B[39m         \u001B[43mhook\u001B[49m\u001B[43m(\u001B[49m\u001B[43mresponse\u001B[49m\u001B[43m)\u001B[49m\n\u001B[32m    983\u001B[39m     response.history = \u001B[38;5;28mlist\u001B[39m(history)\n\u001B[32m    985\u001B[39m     \u001B[38;5;28;01mif\u001B[39;00m \u001B[38;5;129;01mnot\u001B[39;00m response.has_redirect_location:\n",
      "\u001B[36mFile \u001B[39m\u001B[32m~/PycharmProjects/LunaDemo/.venv/lib/python3.12/site-packages/luna_quantum/client/controllers/luna_platform_client.py:42\u001B[39m, in \u001B[36mcheck_httpx_exceptions\u001B[39m\u001B[34m(response)\u001B[39m\n\u001B[32m     30\u001B[39m \u001B[38;5;28;01mdef\u001B[39;00m\u001B[38;5;250m \u001B[39m\u001B[34mcheck_httpx_exceptions\u001B[39m(response: Response) -> \u001B[38;5;28;01mNone\u001B[39;00m:\n\u001B[32m     31\u001B[39m \u001B[38;5;250m    \u001B[39m\u001B[33;03m\"\"\"\u001B[39;00m\n\u001B[32m     32\u001B[39m \u001B[33;03m    Check if response contains errors from the server.\u001B[39;00m\n\u001B[32m     33\u001B[39m \n\u001B[32m   (...)\u001B[39m\u001B[32m     40\u001B[39m \u001B[33;03m        The HTTP response object to be examined for error conditions.\u001B[39;00m\n\u001B[32m     41\u001B[39m \u001B[33;03m    \"\"\"\u001B[39;00m\n\u001B[32m---> \u001B[39m\u001B[32m42\u001B[39m     \u001B[43mHttpErrorUtils\u001B[49m\u001B[43m.\u001B[49m\u001B[43mcheck_for_error\u001B[49m\u001B[43m(\u001B[49m\u001B[43mresponse\u001B[49m\u001B[43m)\u001B[49m\n",
      "\u001B[36mFile \u001B[39m\u001B[32m~/PycharmProjects/LunaDemo/.venv/lib/python3.12/site-packages/luna_quantum/client/error/utils/http_error_utils.py:106\u001B[39m, in \u001B[36mHttpErrorUtils.check_for_error\u001B[39m\u001B[34m(response)\u001B[39m\n\u001B[32m    104\u001B[39m \u001B[38;5;28;01mif\u001B[39;00m exception:\n\u001B[32m    105\u001B[39m     logger.exception(exception, exc_info=\u001B[38;5;28;01mFalse\u001B[39;00m)\n\u001B[32m--> \u001B[39m\u001B[32m106\u001B[39m     \u001B[38;5;28;01mraise\u001B[39;00m exception \u001B[38;5;28;01mfrom\u001B[39;00m\u001B[38;5;250m \u001B[39m\u001B[38;5;28;01mNone\u001B[39;00m\n\u001B[32m    107\u001B[39m logger.error(exception, exc_info=\u001B[38;5;28;01mTrue\u001B[39;00m)\n\u001B[32m    108\u001B[39m \u001B[38;5;28;01mraise\u001B[39;00m\n",
      "\u001B[31mLunaServerError\u001B[39m: The Luna-Server reported the error 'QPU_TOKEN_NAME_ALREADY_EXISTS' with the message:\n The provided QPU-Token-Name already exists."
     ]
    }
   ],
   "execution_count": 9
  },
  {
   "cell_type": "markdown",
   "id": "8dab917a61179685",
   "metadata": {},
   "source": [
    "**⚠️ Important Setup Notes:**\n",
    "- Set your D-Wave token: `export DWAVE_TOKEN=\"your_token_here\"`\n",
    "- Get tokens from [D-Wave Leap](https://cloud.dwavesys.com/leap/)\n",
    "- Tokens are securely managed by Luna Quantum\n",
    "- No credentials stored in code - uses environment variables"
   ]
  },
  {
   "cell_type": "markdown",
   "id": "406fbc3afa6d80f2",
   "metadata": {},
   "source": [
    "### 🚀 Seamless Multi-Algorithm Execution\n",
    "\n",
    "Luna Quantum's execution model demonstrates the power of our plug-and-play architecture. Below, we solve the **exact same model** using two completely different approaches:\n",
    "\n",
    "![LunaSolve Flow Algorithm Selection](plots/FlowAlgorithm.png)"
   ]
  },
  {
   "cell_type": "markdown",
   "id": "95c4281a89577f62",
   "metadata": {},
   "source": [
    "### 🔧 Backend and Algorithm Configuration\n",
    "\n",
    "Luna Quantum's flexible architecture allows you to choose different execution environments:"
   ]
  },
  {
   "cell_type": "code",
   "id": "8ab278f940991ed8",
   "metadata": {
    "ExecuteTime": {
     "end_time": "2025-06-17T12:57:02.321662Z",
     "start_time": "2025-06-17T12:57:02.314523Z"
    }
   },
   "source": [
    "# Classical simulation backend (no tokens required)\n",
    "classic_backend = backends.DWave()\n",
    "\n",
    "# Quantum hardware backend (requires D-Wave token)\n",
    "from luna_quantum.client.schemas.qpu_token.qpu_token import PersonalQpuToken\n",
    "personal_qpu_token = PersonalQpuToken(name='my-dwave-token')\n",
    "qpu_backend = backends.DWaveQpu(token=personal_qpu_token)\n",
    "\n",
    "# Algorithm selection with different backends\n",
    "tabu_search = algorithms.TabuSearch(num_reads=100, backend=classic_backend)\n",
    "quantum_annealing = algorithms.QuantumAnnealing(num_reads=100, backend=qpu_backend)"
   ],
   "outputs": [],
   "execution_count": 10
  },
  {
   "cell_type": "markdown",
   "id": "a3a96d442c2ad48d",
   "metadata": {},
   "source": [
    "**Algorithm Comparison:**\n",
    "\n",
    "- **Tabu Search**: Classical heuristic, fast execution, good for development\n",
    "- **Quantum Annealing**: Quantum algorithm, potential for better solutions, requires quantum hardware"
   ]
  },
  {
   "cell_type": "markdown",
   "id": "b98169d4bcbc8380",
   "metadata": {},
   "source": [
    "# Runninc model\n",
    "\n",
    "![LunaSolve Flow Compute](plots/FlowCompute.png)"
   ]
  },
  {
   "cell_type": "markdown",
   "id": "4d808176b8613416",
   "metadata": {},
   "source": [
    "### 🚀 Parallel Job Execution\n",
    "\n",
    "Luna Quantum supports running multiple optimization jobs concurrently:"
   ]
  },
  {
   "cell_type": "code",
   "id": "f5b038ed3de12db1",
   "metadata": {
    "ExecuteTime": {
     "end_time": "2025-06-17T12:57:12.309761Z",
     "start_time": "2025-06-17T12:57:08.481116Z"
    }
   },
   "source": [
    "# Submit both jobs simultaneously\n",
    "print(\"🔄 Submitting optimization jobs...\")\n",
    "print(\"   → Classical Tabu Search\")\n",
    "print(\"   → Quantum Annealing (if token available)\")\n",
    "\n",
    "tabu_job = tabu_search.run(model)\n",
    "quantum_job = quantum_annealing.run(model)\n",
    "\n",
    "print(\"✅ Jobs submitted successfully!\")\n",
    "print(\"   → Job 1 ID:\", tabu_job.id if hasattr(tabu_job, 'id') else 'Classical job')\n",
    "print(\"   → Job 2 ID:\", quantum_job.id if hasattr(quantum_job, 'id') else 'Quantum job')"
   ],
   "outputs": [
    {
     "name": "stdout",
     "output_type": "stream",
     "text": [
      "🔄 Submitting optimization jobs...\n",
      "   → Classical Tabu Search\n",
      "   → Quantum Annealing (if token available)\n"
     ]
    },
    {
     "data": {
      "text/plain": [
       "Output()"
      ],
      "application/vnd.jupyter.widget-view+json": {
       "version_major": 2,
       "version_minor": 0,
       "model_id": "0f23d6af4b654d3ab01fa041361dbb05"
      }
     },
     "metadata": {},
     "output_type": "display_data"
    },
    {
     "data": {
      "text/plain": [
       "Output()"
      ],
      "application/vnd.jupyter.widget-view+json": {
       "version_major": 2,
       "version_minor": 0,
       "model_id": "a699ac1bc9d0449c9647941e292cfb32"
      }
     },
     "metadata": {},
     "output_type": "display_data"
    },
    {
     "data": {
      "text/plain": [],
      "text/html": [
       "<pre style=\"white-space:pre;overflow-x:auto;line-height:normal;font-family:Menlo,'DejaVu Sans Mono',consolas,'Courier New',monospace\"></pre>\n"
      ]
     },
     "metadata": {},
     "output_type": "display_data"
    },
    {
     "data": {
      "text/plain": [
       "\u001B[2;36m2025-06-17 14:57:09\u001B[0m\u001B[2;36m \u001B[0m\u001B[92mINFO    \u001B[0m \u001B[1m{\u001B[0m\u001B[32m\"model_id\"\u001B[0m:\u001B[32m\"6851310efeb4512569869b57\"\u001B[0m,\u001B[32m\"solver_name\"\u001B[0m:\u001B[32m\"TS\"\u001B[0m,\u001B[32m\"provider\"\u001B[0m:\u001B[32m\"dwave\"\u001B[0m,\u001B[32m\"paramete\u001B[0m\n",
       "\u001B[2;36m                    \u001B[0m         \u001B[32mrs\"\u001B[0m:\u001B[1m{\u001B[0m\u001B[32m\"num_reads\"\u001B[0m:\u001B[1;36m100\u001B[0m,\u001B[32m\"tenure\"\u001B[0m:null,\u001B[32m\"timeout\"\u001B[0m:\u001B[1;36m100\u001B[0m,\u001B[32m\"seed\"\u001B[0m:null,\u001B[32m\"num_restarts\"\u001B[0m:\u001B[1;36m1000000\u001B[0m,\u001B[32m\"e\u001B[0m\n",
       "\u001B[2;36m                    \u001B[0m         \u001B[32mnergy_threshold\"\u001B[0m:null,\u001B[32m\"coefficient_z_first\"\u001B[0m:null,\u001B[32m\"coefficient_z_restart\"\u001B[0m:null,\u001B[32m\"lower_b\u001B[0m\n",
       "\u001B[2;36m                    \u001B[0m         \u001B[32mound_z\"\u001B[0m:null,\u001B[32m\"initial_states\"\u001B[0m:null,\u001B[32m\"initial_states_generator\"\u001B[0m:\u001B[32m\"random\"\u001B[0m\u001B[1m}\u001B[0m,\u001B[32m\"name\"\u001B[0m:null\u001B[1m}\u001B[0m  \n"
      ],
      "text/html": [
       "<pre style=\"white-space:pre;overflow-x:auto;line-height:normal;font-family:Menlo,'DejaVu Sans Mono',consolas,'Courier New',monospace\"><span style=\"color: #7fbfbf; text-decoration-color: #7fbfbf\">2025-06-17 14:57:09 </span><span style=\"color: #00ff00; text-decoration-color: #00ff00\">INFO    </span> <span style=\"font-weight: bold\">{</span><span style=\"color: #008000; text-decoration-color: #008000\">\"model_id\"</span>:<span style=\"color: #008000; text-decoration-color: #008000\">\"6851310efeb4512569869b57\"</span>,<span style=\"color: #008000; text-decoration-color: #008000\">\"solver_name\"</span>:<span style=\"color: #008000; text-decoration-color: #008000\">\"TS\"</span>,<span style=\"color: #008000; text-decoration-color: #008000\">\"provider\"</span>:<span style=\"color: #008000; text-decoration-color: #008000\">\"dwave\"</span>,<span style=\"color: #008000; text-decoration-color: #008000\">\"paramete</span>\n",
       "<span style=\"color: #7fbfbf; text-decoration-color: #7fbfbf\">                    </span>         <span style=\"color: #008000; text-decoration-color: #008000\">rs\"</span>:<span style=\"font-weight: bold\">{</span><span style=\"color: #008000; text-decoration-color: #008000\">\"num_reads\"</span>:<span style=\"color: #008080; text-decoration-color: #008080; font-weight: bold\">100</span>,<span style=\"color: #008000; text-decoration-color: #008000\">\"tenure\"</span>:null,<span style=\"color: #008000; text-decoration-color: #008000\">\"timeout\"</span>:<span style=\"color: #008080; text-decoration-color: #008080; font-weight: bold\">100</span>,<span style=\"color: #008000; text-decoration-color: #008000\">\"seed\"</span>:null,<span style=\"color: #008000; text-decoration-color: #008000\">\"num_restarts\"</span>:<span style=\"color: #008080; text-decoration-color: #008080; font-weight: bold\">1000000</span>,<span style=\"color: #008000; text-decoration-color: #008000\">\"e</span>\n",
       "<span style=\"color: #7fbfbf; text-decoration-color: #7fbfbf\">                    </span>         <span style=\"color: #008000; text-decoration-color: #008000\">nergy_threshold\"</span>:null,<span style=\"color: #008000; text-decoration-color: #008000\">\"coefficient_z_first\"</span>:null,<span style=\"color: #008000; text-decoration-color: #008000\">\"coefficient_z_restart\"</span>:null,<span style=\"color: #008000; text-decoration-color: #008000\">\"lower_b</span>\n",
       "<span style=\"color: #7fbfbf; text-decoration-color: #7fbfbf\">                    </span>         <span style=\"color: #008000; text-decoration-color: #008000\">ound_z\"</span>:null,<span style=\"color: #008000; text-decoration-color: #008000\">\"initial_states\"</span>:null,<span style=\"color: #008000; text-decoration-color: #008000\">\"initial_states_generator\"</span>:<span style=\"color: #008000; text-decoration-color: #008000\">\"random\"</span><span style=\"font-weight: bold\">}</span>,<span style=\"color: #008000; text-decoration-color: #008000\">\"name\"</span>:null<span style=\"font-weight: bold\">}</span>  \n",
       "</pre>\n"
      ]
     },
     "metadata": {},
     "output_type": "display_data"
    },
    {
     "data": {
      "text/plain": [],
      "text/html": [
       "<pre style=\"white-space:pre;overflow-x:auto;line-height:normal;font-family:Menlo,'DejaVu Sans Mono',consolas,'Courier New',monospace\"></pre>\n"
      ]
     },
     "metadata": {},
     "output_type": "display_data"
    },
    {
     "data": {
      "text/plain": [
       "Output()"
      ],
      "application/vnd.jupyter.widget-view+json": {
       "version_major": 2,
       "version_minor": 0,
       "model_id": "35f9675936564ad3870d4159a2f1547a"
      }
     },
     "metadata": {},
     "output_type": "display_data"
    },
    {
     "data": {
      "text/plain": [
       "Output()"
      ],
      "application/vnd.jupyter.widget-view+json": {
       "version_major": 2,
       "version_minor": 0,
       "model_id": "3a8f19cd7d2a4c88887defdf7dc6b50a"
      }
     },
     "metadata": {},
     "output_type": "display_data"
    },
    {
     "data": {
      "text/plain": [],
      "text/html": [
       "<pre style=\"white-space:pre;overflow-x:auto;line-height:normal;font-family:Menlo,'DejaVu Sans Mono',consolas,'Courier New',monospace\"></pre>\n"
      ]
     },
     "metadata": {},
     "output_type": "display_data"
    },
    {
     "data": {
      "text/plain": [
       "\u001B[2;36m2025-06-17 14:57:11\u001B[0m\u001B[2;36m \u001B[0m\u001B[92mINFO    \u001B[0m \u001B[1m{\u001B[0m\u001B[32m\"model_id\"\u001B[0m:\u001B[32m\"6851310efeb4512569869b57\"\u001B[0m,\u001B[32m\"solver_name\"\u001B[0m:\u001B[32m\"QA\"\u001B[0m,\u001B[32m\"provider\"\u001B[0m:\u001B[32m\"dwave\"\u001B[0m,\u001B[32m\"paramete\u001B[0m\n",
       "\u001B[2;36m                    \u001B[0m         \u001B[32mrs\"\u001B[0m:\u001B[1m{\u001B[0m\u001B[32m\"anneal_offsets\"\u001B[0m:null,\u001B[32m\"anneal_schedule\"\u001B[0m:null,\u001B[32m\"annealing_time\"\u001B[0m:null,\u001B[32m\"auto_scale\"\u001B[0m:n\n",
       "\u001B[2;36m                    \u001B[0m         ull,\u001B[32m\"fast_anneal\"\u001B[0m:false,\u001B[32m\"flux_biases\"\u001B[0m:null,\u001B[32m\"flux_drift_compensation\"\u001B[0m:true,\u001B[32m\"h_gain_sche\u001B[0m\n",
       "\u001B[2;36m                    \u001B[0m         \u001B[32mdule\"\u001B[0m:null,\u001B[32m\"initial_state\"\u001B[0m:null,\u001B[32m\"max_answers\"\u001B[0m:null,\u001B[32m\"num_reads\"\u001B[0m:\u001B[1;36m100\u001B[0m,\u001B[32m\"programming_therma\u001B[0m\n",
       "\u001B[2;36m                    \u001B[0m         \u001B[32mlization\"\u001B[0m:null,\u001B[32m\"readout_thermalization\"\u001B[0m:null,\u001B[32m\"reduce_intersample_correlation\"\u001B[0m:false,\u001B[32m\"r\u001B[0m\n",
       "\u001B[2;36m                    \u001B[0m         \u001B[32meinitialize_state\"\u001B[0m:null,\u001B[32m\"embedding_parameters\"\u001B[0m:null,\u001B[32m\"qpu_backend\"\u001B[0m:\u001B[32m\"default\"\u001B[0m\u001B[1m}\u001B[0m,\u001B[32m\"name\"\u001B[0m:nu\n",
       "\u001B[2;36m                    \u001B[0m         ll\u001B[1m}\u001B[0m                                                                                   \n"
      ],
      "text/html": [
       "<pre style=\"white-space:pre;overflow-x:auto;line-height:normal;font-family:Menlo,'DejaVu Sans Mono',consolas,'Courier New',monospace\"><span style=\"color: #7fbfbf; text-decoration-color: #7fbfbf\">2025-06-17 14:57:11 </span><span style=\"color: #00ff00; text-decoration-color: #00ff00\">INFO    </span> <span style=\"font-weight: bold\">{</span><span style=\"color: #008000; text-decoration-color: #008000\">\"model_id\"</span>:<span style=\"color: #008000; text-decoration-color: #008000\">\"6851310efeb4512569869b57\"</span>,<span style=\"color: #008000; text-decoration-color: #008000\">\"solver_name\"</span>:<span style=\"color: #008000; text-decoration-color: #008000\">\"QA\"</span>,<span style=\"color: #008000; text-decoration-color: #008000\">\"provider\"</span>:<span style=\"color: #008000; text-decoration-color: #008000\">\"dwave\"</span>,<span style=\"color: #008000; text-decoration-color: #008000\">\"paramete</span>\n",
       "<span style=\"color: #7fbfbf; text-decoration-color: #7fbfbf\">                    </span>         <span style=\"color: #008000; text-decoration-color: #008000\">rs\"</span>:<span style=\"font-weight: bold\">{</span><span style=\"color: #008000; text-decoration-color: #008000\">\"anneal_offsets\"</span>:null,<span style=\"color: #008000; text-decoration-color: #008000\">\"anneal_schedule\"</span>:null,<span style=\"color: #008000; text-decoration-color: #008000\">\"annealing_time\"</span>:null,<span style=\"color: #008000; text-decoration-color: #008000\">\"auto_scale\"</span>:n\n",
       "<span style=\"color: #7fbfbf; text-decoration-color: #7fbfbf\">                    </span>         ull,<span style=\"color: #008000; text-decoration-color: #008000\">\"fast_anneal\"</span>:false,<span style=\"color: #008000; text-decoration-color: #008000\">\"flux_biases\"</span>:null,<span style=\"color: #008000; text-decoration-color: #008000\">\"flux_drift_compensation\"</span>:true,<span style=\"color: #008000; text-decoration-color: #008000\">\"h_gain_sche</span>\n",
       "<span style=\"color: #7fbfbf; text-decoration-color: #7fbfbf\">                    </span>         <span style=\"color: #008000; text-decoration-color: #008000\">dule\"</span>:null,<span style=\"color: #008000; text-decoration-color: #008000\">\"initial_state\"</span>:null,<span style=\"color: #008000; text-decoration-color: #008000\">\"max_answers\"</span>:null,<span style=\"color: #008000; text-decoration-color: #008000\">\"num_reads\"</span>:<span style=\"color: #008080; text-decoration-color: #008080; font-weight: bold\">100</span>,<span style=\"color: #008000; text-decoration-color: #008000\">\"programming_therma</span>\n",
       "<span style=\"color: #7fbfbf; text-decoration-color: #7fbfbf\">                    </span>         <span style=\"color: #008000; text-decoration-color: #008000\">lization\"</span>:null,<span style=\"color: #008000; text-decoration-color: #008000\">\"readout_thermalization\"</span>:null,<span style=\"color: #008000; text-decoration-color: #008000\">\"reduce_intersample_correlation\"</span>:false,<span style=\"color: #008000; text-decoration-color: #008000\">\"r</span>\n",
       "<span style=\"color: #7fbfbf; text-decoration-color: #7fbfbf\">                    </span>         <span style=\"color: #008000; text-decoration-color: #008000\">einitialize_state\"</span>:null,<span style=\"color: #008000; text-decoration-color: #008000\">\"embedding_parameters\"</span>:null,<span style=\"color: #008000; text-decoration-color: #008000\">\"qpu_backend\"</span>:<span style=\"color: #008000; text-decoration-color: #008000\">\"default\"</span><span style=\"font-weight: bold\">}</span>,<span style=\"color: #008000; text-decoration-color: #008000\">\"name\"</span>:nu\n",
       "<span style=\"color: #7fbfbf; text-decoration-color: #7fbfbf\">                    </span>         ll<span style=\"font-weight: bold\">}</span>                                                                                   \n",
       "</pre>\n"
      ]
     },
     "metadata": {},
     "output_type": "display_data"
    },
    {
     "data": {
      "text/plain": [],
      "text/html": [
       "<pre style=\"white-space:pre;overflow-x:auto;line-height:normal;font-family:Menlo,'DejaVu Sans Mono',consolas,'Courier New',monospace\"></pre>\n"
      ]
     },
     "metadata": {},
     "output_type": "display_data"
    },
    {
     "name": "stdout",
     "output_type": "stream",
     "text": [
      "✅ Jobs submitted successfully!\n",
      "   → Job 1 ID: 68516626459b5712d4f8fb18\n",
      "   → Job 2 ID: 68516627459b5712d4f8fb1a\n"
     ]
    }
   ],
   "execution_count": 12
  },
  {
   "cell_type": "markdown",
   "id": "24c6e72ce7f7f756",
   "metadata": {},
   "source": [
    "## 📊 Luna Quantum's Job Management\n",
    "\n",
    "\n",
    "\n",
    "Luna Quantum's result handling system provides sophisticated, async job management and\n",
    "analytics capabilities that make working with optimization results intuitive and powerful.\n"
   ]
  },
  {
   "cell_type": "code",
   "id": "978dc0dffbf0b0b1",
   "metadata": {
    "ExecuteTime": {
     "end_time": "2025-06-17T12:57:32.587644Z",
     "start_time": "2025-06-17T12:57:12.330098Z"
    }
   },
   "source": [
    "# Retrieve solutions (this will wait for job completion)\n",
    "print(\"⏳ Waiting for job completion...\")\n",
    "\n",
    "tabu_solution = tabu_job.result()\n",
    "qa_solution = quantum_job.result()\n",
    "\n",
    "print(f'\\nTabu Search found solution with {tabu_solution.best().obj_value}')\n",
    "print(tabu_solution)\n",
    "\n",
    "print(f'\\nQuantum annealing found solution with {qa_solution.best().obj_value}')\n",
    "print(tabu_solution)"
   ],
   "outputs": [
    {
     "name": "stdout",
     "output_type": "stream",
     "text": [
      "⏳ Waiting for job completion...\n"
     ]
    },
    {
     "data": {
      "text/plain": [
       "Output()"
      ],
      "application/vnd.jupyter.widget-view+json": {
       "version_major": 2,
       "version_minor": 0,
       "model_id": "f3484705cbc14c7280ffaa6ec9e7c8ae"
      }
     },
     "metadata": {},
     "output_type": "display_data"
    },
    {
     "data": {
      "text/plain": [
       "Output()"
      ],
      "application/vnd.jupyter.widget-view+json": {
       "version_major": 2,
       "version_minor": 0,
       "model_id": "c0cba85f4df044d2b0ce3956acc52b03"
      }
     },
     "metadata": {},
     "output_type": "display_data"
    },
    {
     "data": {
      "text/plain": [],
      "text/html": [
       "<pre style=\"white-space:pre;overflow-x:auto;line-height:normal;font-family:Menlo,'DejaVu Sans Mono',consolas,'Courier New',monospace\"></pre>\n"
      ]
     },
     "metadata": {},
     "output_type": "display_data"
    },
    {
     "data": {
      "text/plain": [
       "\u001B[2;36m2025-06-17 14:57:13\u001B[0m\u001B[2;36m \u001B[0m\u001B[92mINFO    \u001B[0m Sleeping for \u001B[1;36m5.0\u001B[0m seconds. Waiting and checking a function in a loop.                  \n"
      ],
      "text/html": [
       "<pre style=\"white-space:pre;overflow-x:auto;line-height:normal;font-family:Menlo,'DejaVu Sans Mono',consolas,'Courier New',monospace\"><span style=\"color: #7fbfbf; text-decoration-color: #7fbfbf\">2025-06-17 14:57:13 </span><span style=\"color: #00ff00; text-decoration-color: #00ff00\">INFO    </span> Sleeping for <span style=\"color: #008080; text-decoration-color: #008080; font-weight: bold\">5.0</span> seconds. Waiting and checking a function in a loop.                  \n",
       "</pre>\n"
      ]
     },
     "metadata": {},
     "output_type": "display_data"
    },
    {
     "data": {
      "text/plain": [
       "Output()"
      ],
      "application/vnd.jupyter.widget-view+json": {
       "version_major": 2,
       "version_minor": 0,
       "model_id": "4009cd3855f14bb7b340ee1484c9c27e"
      }
     },
     "metadata": {},
     "output_type": "display_data"
    },
    {
     "data": {
      "text/plain": [],
      "text/html": [
       "<pre style=\"white-space:pre;overflow-x:auto;line-height:normal;font-family:Menlo,'DejaVu Sans Mono',consolas,'Courier New',monospace\"></pre>\n"
      ]
     },
     "metadata": {},
     "output_type": "display_data"
    },
    {
     "data": {
      "text/plain": [
       "\u001B[2;36m2025-06-17 14:57:19\u001B[0m\u001B[2;36m \u001B[0m\u001B[92mINFO    \u001B[0m Sleeping for \u001B[1;36m10.0\u001B[0m seconds. Waiting and checking a function in a loop.                 \n"
      ],
      "text/html": [
       "<pre style=\"white-space:pre;overflow-x:auto;line-height:normal;font-family:Menlo,'DejaVu Sans Mono',consolas,'Courier New',monospace\"><span style=\"color: #7fbfbf; text-decoration-color: #7fbfbf\">2025-06-17 14:57:19 </span><span style=\"color: #00ff00; text-decoration-color: #00ff00\">INFO    </span> Sleeping for <span style=\"color: #008080; text-decoration-color: #008080; font-weight: bold\">10.0</span> seconds. Waiting and checking a function in a loop.                 \n",
       "</pre>\n"
      ]
     },
     "metadata": {},
     "output_type": "display_data"
    },
    {
     "data": {
      "text/plain": [
       "Output()"
      ],
      "application/vnd.jupyter.widget-view+json": {
       "version_major": 2,
       "version_minor": 0,
       "model_id": "99120324cdfd49b0b6614b1661ad3cb3"
      }
     },
     "metadata": {},
     "output_type": "display_data"
    },
    {
     "data": {
      "text/plain": [],
      "text/html": [
       "<pre style=\"white-space:pre;overflow-x:auto;line-height:normal;font-family:Menlo,'DejaVu Sans Mono',consolas,'Courier New',monospace\"></pre>\n"
      ]
     },
     "metadata": {},
     "output_type": "display_data"
    },
    {
     "data": {
      "text/plain": [],
      "text/html": [
       "<pre style=\"white-space:pre;overflow-x:auto;line-height:normal;font-family:Menlo,'DejaVu Sans Mono',consolas,'Courier New',monospace\"></pre>\n"
      ]
     },
     "metadata": {},
     "output_type": "display_data"
    },
    {
     "data": {
      "text/plain": [
       "Output()"
      ],
      "application/vnd.jupyter.widget-view+json": {
       "version_major": 2,
       "version_minor": 0,
       "model_id": "efc0c779c72c41e3843c627012c36256"
      }
     },
     "metadata": {},
     "output_type": "display_data"
    },
    {
     "data": {
      "text/plain": [
       "Output()"
      ],
      "application/vnd.jupyter.widget-view+json": {
       "version_major": 2,
       "version_minor": 0,
       "model_id": "ab7e792c4d0c40a9b1074b0174e3cd68"
      }
     },
     "metadata": {},
     "output_type": "display_data"
    },
    {
     "data": {
      "text/plain": [],
      "text/html": [
       "<pre style=\"white-space:pre;overflow-x:auto;line-height:normal;font-family:Menlo,'DejaVu Sans Mono',consolas,'Courier New',monospace\"></pre>\n"
      ]
     },
     "metadata": {},
     "output_type": "display_data"
    },
    {
     "data": {
      "text/plain": [],
      "text/html": [
       "<pre style=\"white-space:pre;overflow-x:auto;line-height:normal;font-family:Menlo,'DejaVu Sans Mono',consolas,'Courier New',monospace\"></pre>\n"
      ]
     },
     "metadata": {},
     "output_type": "display_data"
    },
    {
     "name": "stdout",
     "output_type": "stream",
     "text": [
      "\n",
      "Tabu Search found solution with 1563.0\n",
      "x_Ham x_Ham x_Ham x_Mun x_Mun x_Mun x_Bon x_Bon x_Bon │ feas   raw   obj count\n",
      "    1     0     0     0     0     1     0     1     0 │    t 1.6e3 1.6e3    46\n",
      "    0     0     1     1     0     0     0     1     0 │    t 1.6e3 1.6e3    54\n",
      "\n",
      "Total samples: 2\n",
      "Total variables: 9\n",
      "\n",
      "Timing:\n",
      "Total: 10.124897718s\n",
      "\n",
      "Quantum annealing found solution with 1563.0\n",
      "x_Ham x_Ham x_Ham x_Mun x_Mun x_Mun x_Bon x_Bon x_Bon │ feas   raw   obj count\n",
      "    1     0     0     0     0     1     0     1     0 │    t 1.6e3 1.6e3    46\n",
      "    0     0     1     1     0     0     0     1     0 │    t 1.6e3 1.6e3    54\n",
      "\n",
      "Total samples: 2\n",
      "Total variables: 9\n",
      "\n",
      "Timing:\n",
      "Total: 10.124897718s\n"
     ]
    }
   ],
   "execution_count": 13
  },
  {
   "cell_type": "markdown",
   "id": "1bf6b2b888c23ccc",
   "metadata": {},
   "source": [
    "## 🎯 Luna Quantum's Intelligent Solution Processing\n",
    "\n",
    "![LunaSolve Flow Solution](plots/FlowSolution.png)\n",
    "Luna Quantum transforms raw optimization results into actionable business insights through sophisticated post-processing capabilities.\n",
    "\n",
    "### 🗺️ Tour Extraction and Visualization\n",
    "\n",
    "Transform optimization results into a readable tour format:"
   ]
  },
  {
   "cell_type": "code",
   "id": "55b5201c1cca8d71",
   "metadata": {
    "ExecuteTime": {
     "end_time": "2025-06-17T12:57:32.619936Z",
     "start_time": "2025-06-17T12:57:32.614978Z"
    }
   },
   "source": [
    "# we will continue using the tabu search solution\n",
    "solution = qa_solution\n",
    "\n",
    "# Extract tour from solution\n",
    "tour = extract_tour_from_solution(\n",
    "    variable_names=solution.variable_names,\n",
    "    sample_values=solution.best().sample,\n",
    "    start_city=start_city\n",
    ")\n",
    "\n",
    "# Display the optimal tour\n",
    "print(f\"🎯 Optimal Tour:\")\n",
    "print(f\"   → Route: {' → '.join(tour)}\")\n",
    "\n",
    "# Calculate total distance\n",
    "total_distance = 0\n",
    "for i in range(len(tour) - 1):\n",
    "    total_distance += distance_matrix[tour[i]][tour[i + 1]]\n",
    "\n",
    "print(f\"   → Total Distance: {total_distance:.1f} km\")"
   ],
   "outputs": [
    {
     "name": "stdout",
     "output_type": "stream",
     "text": [
      "🎯 Optimal Tour:\n",
      "   → Route: Berlin → Hamburg → Bonn → Munich → Berlin\n",
      "   → Total Distance: 1563.0 km\n"
     ]
    }
   ],
   "execution_count": 14
  },
  {
   "cell_type": "markdown",
   "id": "3d0ec89e17b52cc6",
   "metadata": {},
   "source": [
    "### 🗺️ Interactive Solution Visualization\n",
    "\n",
    "Create an interactive map showing the optimal tour:\n"
   ]
  },
  {
   "cell_type": "code",
   "id": "d7962d51b686c8ef",
   "metadata": {
    "ExecuteTime": {
     "end_time": "2025-06-17T12:57:32.666888Z",
     "start_time": "2025-06-17T12:57:32.648252Z"
    }
   },
   "source": [
    "# Generate interactive map with solution\n",
    "solution_map = plot_solution_tour(\n",
    "    G=G,\n",
    "    tour=tour,\n",
    "    cities=cities,\n",
    "    distance_matrix=distance_matrix,\n",
    ")\n",
    "\n",
    "print(\"🗺️  Interactive solution map generated!\")\n",
    "print(f\"   → Shows optimal tour: {' → '.join(tour[:-1])}\")\n",
    "print(f\"   → Green line indicates optimal route\")\n",
    "print(f\"   → Red markers show city locations\")\n",
    "\n",
    "# Display the map\n",
    "solution_map"
   ],
   "outputs": [
    {
     "name": "stdout",
     "output_type": "stream",
     "text": [
      "🗺️  Interactive solution map generated!\n",
      "   → Shows optimal tour: Berlin → Hamburg → Bonn → Munich\n",
      "   → Green line indicates optimal route\n",
      "   → Red markers show city locations\n"
     ]
    },
    {
     "data": {
      "text/plain": [
       "<folium.folium.Map at 0x1212caa50>"
      ],
      "text/html": [
       "<div style=\"width:100%;\"><div style=\"position:relative;width:100%;height:0;padding-bottom:60%;\"><span style=\"color:#565656\">Make this Notebook Trusted to load map: File -> Trust Notebook</span><iframe srcdoc=\"&lt;!DOCTYPE html&gt;\n",
       "&lt;html&gt;\n",
       "&lt;head&gt;\n",
       "    \n",
       "    &lt;meta http-equiv=&quot;content-type&quot; content=&quot;text/html; charset=UTF-8&quot; /&gt;\n",
       "    &lt;script src=&quot;https://cdn.jsdelivr.net/npm/leaflet@1.9.3/dist/leaflet.js&quot;&gt;&lt;/script&gt;\n",
       "    &lt;script src=&quot;https://code.jquery.com/jquery-3.7.1.min.js&quot;&gt;&lt;/script&gt;\n",
       "    &lt;script src=&quot;https://cdn.jsdelivr.net/npm/bootstrap@5.2.2/dist/js/bootstrap.bundle.min.js&quot;&gt;&lt;/script&gt;\n",
       "    &lt;script src=&quot;https://cdnjs.cloudflare.com/ajax/libs/Leaflet.awesome-markers/2.0.2/leaflet.awesome-markers.js&quot;&gt;&lt;/script&gt;\n",
       "    &lt;link rel=&quot;stylesheet&quot; href=&quot;https://cdn.jsdelivr.net/npm/leaflet@1.9.3/dist/leaflet.css&quot;/&gt;\n",
       "    &lt;link rel=&quot;stylesheet&quot; href=&quot;https://cdn.jsdelivr.net/npm/bootstrap@5.2.2/dist/css/bootstrap.min.css&quot;/&gt;\n",
       "    &lt;link rel=&quot;stylesheet&quot; href=&quot;https://netdna.bootstrapcdn.com/bootstrap/3.0.0/css/bootstrap-glyphicons.css&quot;/&gt;\n",
       "    &lt;link rel=&quot;stylesheet&quot; href=&quot;https://cdn.jsdelivr.net/npm/@fortawesome/fontawesome-free@6.2.0/css/all.min.css&quot;/&gt;\n",
       "    &lt;link rel=&quot;stylesheet&quot; href=&quot;https://cdnjs.cloudflare.com/ajax/libs/Leaflet.awesome-markers/2.0.2/leaflet.awesome-markers.css&quot;/&gt;\n",
       "    &lt;link rel=&quot;stylesheet&quot; href=&quot;https://cdn.jsdelivr.net/gh/python-visualization/folium/folium/templates/leaflet.awesome.rotate.min.css&quot;/&gt;\n",
       "    \n",
       "            &lt;meta name=&quot;viewport&quot; content=&quot;width=device-width,\n",
       "                initial-scale=1.0, maximum-scale=1.0, user-scalable=no&quot; /&gt;\n",
       "            &lt;style&gt;\n",
       "                #map_7007b1cb0d1597655ceca5f0c3c66da4 {\n",
       "                    position: relative;\n",
       "                    width: 100.0%;\n",
       "                    height: 100.0%;\n",
       "                    left: 0.0%;\n",
       "                    top: 0.0%;\n",
       "                }\n",
       "                .leaflet-container { font-size: 1rem; }\n",
       "            &lt;/style&gt;\n",
       "\n",
       "            &lt;style&gt;html, body {\n",
       "                width: 100%;\n",
       "                height: 100%;\n",
       "                margin: 0;\n",
       "                padding: 0;\n",
       "            }\n",
       "            &lt;/style&gt;\n",
       "\n",
       "            &lt;style&gt;#map {\n",
       "                position:absolute;\n",
       "                top:0;\n",
       "                bottom:0;\n",
       "                right:0;\n",
       "                left:0;\n",
       "                }\n",
       "            &lt;/style&gt;\n",
       "\n",
       "            &lt;script&gt;\n",
       "                L_NO_TOUCH = false;\n",
       "                L_DISABLE_3D = false;\n",
       "            &lt;/script&gt;\n",
       "\n",
       "        \n",
       "&lt;/head&gt;\n",
       "&lt;body&gt;\n",
       "    \n",
       "    \n",
       "    &lt;div style=&quot;position: fixed;\n",
       "                bottom: 50px; left: 50px; width: 240px; height: 150px;\n",
       "                background-color: white; z-index: 9999;\n",
       "                border:2px solid grey; border-radius: 5px;\n",
       "                font-size: 14px; padding: 10px;\n",
       "                box-shadow: 2px 2px 10px rgba(0,0,0,0.3);&quot;&gt;\n",
       "    &lt;p style=&quot;margin: 0; font-weight: bold; font-size: 16px;&quot;&gt;TSP Solution&lt;/p&gt;\n",
       "    &lt;p style=&quot;margin: 5px 0; font-size: 12px;&quot;&gt;Tour: Berlin → Hamburg → Bonn → Munich → Berlin&lt;/p&gt;\n",
       "    &lt;p style=&quot;margin: 5px 0; font-weight: bold; color: darkgreen;&quot;&gt;Total Distance: 1563 km&lt;/p&gt;\n",
       "    &lt;hr style=&quot;margin: 5px 0;&quot;&gt;\n",
       "    &lt;p style=&quot;margin: 5px 0;&quot;&gt;&lt;span style=&quot;color: red; font-weight: bold;&quot;&gt;━━━ ▲&lt;/span&gt; Optimal tour&lt;/p&gt;\n",
       "    &lt;p style=&quot;margin: 5px 0;&quot;&gt;&lt;span style=&quot;color: lightgray;&quot;&gt;━━━&lt;/span&gt; All connections&lt;/p&gt;\n",
       "    &lt;/div&gt;\n",
       "    \n",
       "    \n",
       "            &lt;div class=&quot;folium-map&quot; id=&quot;map_7007b1cb0d1597655ceca5f0c3c66da4&quot; &gt;&lt;/div&gt;\n",
       "        \n",
       "&lt;/body&gt;\n",
       "&lt;script&gt;\n",
       "    \n",
       "    \n",
       "            var map_7007b1cb0d1597655ceca5f0c3c66da4 = L.map(\n",
       "                &quot;map_7007b1cb0d1597655ceca5f0c3c66da4&quot;,\n",
       "                {\n",
       "                    center: [51.1657, 10.4515],\n",
       "                    crs: L.CRS.EPSG3857,\n",
       "                    ...{\n",
       "  &quot;zoom&quot;: 7,\n",
       "  &quot;zoomControl&quot;: true,\n",
       "  &quot;preferCanvas&quot;: false,\n",
       "}\n",
       "\n",
       "                }\n",
       "            );\n",
       "\n",
       "            \n",
       "\n",
       "        \n",
       "    \n",
       "            var tile_layer_5692a878f0bfa3ff3b52e509f5cbfcba = L.tileLayer(\n",
       "                &quot;https://tile.openstreetmap.org/{z}/{x}/{y}.png&quot;,\n",
       "                {\n",
       "  &quot;minZoom&quot;: 0,\n",
       "  &quot;maxZoom&quot;: 19,\n",
       "  &quot;maxNativeZoom&quot;: 19,\n",
       "  &quot;noWrap&quot;: false,\n",
       "  &quot;attribution&quot;: &quot;\\u0026copy; \\u003ca href=\\&quot;https://www.openstreetmap.org/copyright\\&quot;\\u003eOpenStreetMap\\u003c/a\\u003e contributors&quot;,\n",
       "  &quot;subdomains&quot;: &quot;abc&quot;,\n",
       "  &quot;detectRetina&quot;: false,\n",
       "  &quot;tms&quot;: false,\n",
       "  &quot;opacity&quot;: 1,\n",
       "}\n",
       "\n",
       "            );\n",
       "        \n",
       "    \n",
       "            tile_layer_5692a878f0bfa3ff3b52e509f5cbfcba.addTo(map_7007b1cb0d1597655ceca5f0c3c66da4);\n",
       "        \n",
       "    \n",
       "            var poly_line_56ff91c46ddca808edf8a5a954454a93 = L.polyline(\n",
       "                [[52.52, 13.405], [53.5511, 9.9937]],\n",
       "                {&quot;bubblingMouseEvents&quot;: true, &quot;color&quot;: &quot;lightgray&quot;, &quot;dashArray&quot;: null, &quot;dashOffset&quot;: null, &quot;fill&quot;: false, &quot;fillColor&quot;: &quot;lightgray&quot;, &quot;fillOpacity&quot;: 0.2, &quot;fillRule&quot;: &quot;evenodd&quot;, &quot;lineCap&quot;: &quot;round&quot;, &quot;lineJoin&quot;: &quot;round&quot;, &quot;noClip&quot;: false, &quot;opacity&quot;: 0.3, &quot;smoothFactor&quot;: 1.0, &quot;stroke&quot;: true, &quot;weight&quot;: 1}\n",
       "            ).addTo(map_7007b1cb0d1597655ceca5f0c3c66da4);\n",
       "        \n",
       "    \n",
       "            var poly_line_d1e6ef00320710964ea7c44908c72686 = L.polyline(\n",
       "                [[52.52, 13.405], [48.1351, 11.582]],\n",
       "                {&quot;bubblingMouseEvents&quot;: true, &quot;color&quot;: &quot;lightgray&quot;, &quot;dashArray&quot;: null, &quot;dashOffset&quot;: null, &quot;fill&quot;: false, &quot;fillColor&quot;: &quot;lightgray&quot;, &quot;fillOpacity&quot;: 0.2, &quot;fillRule&quot;: &quot;evenodd&quot;, &quot;lineCap&quot;: &quot;round&quot;, &quot;lineJoin&quot;: &quot;round&quot;, &quot;noClip&quot;: false, &quot;opacity&quot;: 0.3, &quot;smoothFactor&quot;: 1.0, &quot;stroke&quot;: true, &quot;weight&quot;: 1}\n",
       "            ).addTo(map_7007b1cb0d1597655ceca5f0c3c66da4);\n",
       "        \n",
       "    \n",
       "            var poly_line_71527797e8ececadd084b06e50767152 = L.polyline(\n",
       "                [[52.52, 13.405], [50.7374, 7.0982]],\n",
       "                {&quot;bubblingMouseEvents&quot;: true, &quot;color&quot;: &quot;lightgray&quot;, &quot;dashArray&quot;: null, &quot;dashOffset&quot;: null, &quot;fill&quot;: false, &quot;fillColor&quot;: &quot;lightgray&quot;, &quot;fillOpacity&quot;: 0.2, &quot;fillRule&quot;: &quot;evenodd&quot;, &quot;lineCap&quot;: &quot;round&quot;, &quot;lineJoin&quot;: &quot;round&quot;, &quot;noClip&quot;: false, &quot;opacity&quot;: 0.3, &quot;smoothFactor&quot;: 1.0, &quot;stroke&quot;: true, &quot;weight&quot;: 1}\n",
       "            ).addTo(map_7007b1cb0d1597655ceca5f0c3c66da4);\n",
       "        \n",
       "    \n",
       "            var poly_line_290503bf841c8aec4ba896343a7ddfe8 = L.polyline(\n",
       "                [[53.5511, 9.9937], [48.1351, 11.582]],\n",
       "                {&quot;bubblingMouseEvents&quot;: true, &quot;color&quot;: &quot;lightgray&quot;, &quot;dashArray&quot;: null, &quot;dashOffset&quot;: null, &quot;fill&quot;: false, &quot;fillColor&quot;: &quot;lightgray&quot;, &quot;fillOpacity&quot;: 0.2, &quot;fillRule&quot;: &quot;evenodd&quot;, &quot;lineCap&quot;: &quot;round&quot;, &quot;lineJoin&quot;: &quot;round&quot;, &quot;noClip&quot;: false, &quot;opacity&quot;: 0.3, &quot;smoothFactor&quot;: 1.0, &quot;stroke&quot;: true, &quot;weight&quot;: 1}\n",
       "            ).addTo(map_7007b1cb0d1597655ceca5f0c3c66da4);\n",
       "        \n",
       "    \n",
       "            var poly_line_5310eac258ced4cf7c3242d53e7635a1 = L.polyline(\n",
       "                [[53.5511, 9.9937], [50.7374, 7.0982]],\n",
       "                {&quot;bubblingMouseEvents&quot;: true, &quot;color&quot;: &quot;lightgray&quot;, &quot;dashArray&quot;: null, &quot;dashOffset&quot;: null, &quot;fill&quot;: false, &quot;fillColor&quot;: &quot;lightgray&quot;, &quot;fillOpacity&quot;: 0.2, &quot;fillRule&quot;: &quot;evenodd&quot;, &quot;lineCap&quot;: &quot;round&quot;, &quot;lineJoin&quot;: &quot;round&quot;, &quot;noClip&quot;: false, &quot;opacity&quot;: 0.3, &quot;smoothFactor&quot;: 1.0, &quot;stroke&quot;: true, &quot;weight&quot;: 1}\n",
       "            ).addTo(map_7007b1cb0d1597655ceca5f0c3c66da4);\n",
       "        \n",
       "    \n",
       "            var poly_line_1732dd114cd01a985ac6af397a46dc8e = L.polyline(\n",
       "                [[48.1351, 11.582], [50.7374, 7.0982]],\n",
       "                {&quot;bubblingMouseEvents&quot;: true, &quot;color&quot;: &quot;lightgray&quot;, &quot;dashArray&quot;: null, &quot;dashOffset&quot;: null, &quot;fill&quot;: false, &quot;fillColor&quot;: &quot;lightgray&quot;, &quot;fillOpacity&quot;: 0.2, &quot;fillRule&quot;: &quot;evenodd&quot;, &quot;lineCap&quot;: &quot;round&quot;, &quot;lineJoin&quot;: &quot;round&quot;, &quot;noClip&quot;: false, &quot;opacity&quot;: 0.3, &quot;smoothFactor&quot;: 1.0, &quot;stroke&quot;: true, &quot;weight&quot;: 1}\n",
       "            ).addTo(map_7007b1cb0d1597655ceca5f0c3c66da4);\n",
       "        \n",
       "    \n",
       "            var poly_line_af6f331b47f42c4ffc9331cdf75339f7 = L.polyline(\n",
       "                [[52.52, 13.405], [53.5511, 9.9937]],\n",
       "                {&quot;bubblingMouseEvents&quot;: true, &quot;color&quot;: &quot;red&quot;, &quot;dashArray&quot;: null, &quot;dashOffset&quot;: null, &quot;fill&quot;: false, &quot;fillColor&quot;: &quot;red&quot;, &quot;fillOpacity&quot;: 0.2, &quot;fillRule&quot;: &quot;evenodd&quot;, &quot;lineCap&quot;: &quot;round&quot;, &quot;lineJoin&quot;: &quot;round&quot;, &quot;noClip&quot;: false, &quot;opacity&quot;: 0.8, &quot;smoothFactor&quot;: 1.0, &quot;stroke&quot;: true, &quot;weight&quot;: 5}\n",
       "            ).addTo(map_7007b1cb0d1597655ceca5f0c3c66da4);\n",
       "        \n",
       "    \n",
       "        var popup_d9644ea53cf2503954172fe3ddf88847 = L.popup({\n",
       "  &quot;maxWidth&quot;: &quot;100%&quot;,\n",
       "});\n",
       "\n",
       "        \n",
       "            \n",
       "                var html_1ed6c122098bf6abdeb184532902e980 = $(`&lt;div id=&quot;html_1ed6c122098bf6abdeb184532902e980&quot; style=&quot;width: 100.0%; height: 100.0%;&quot;&gt;Berlin → Hamburg: 255 km&lt;/div&gt;`)[0];\n",
       "                popup_d9644ea53cf2503954172fe3ddf88847.setContent(html_1ed6c122098bf6abdeb184532902e980);\n",
       "            \n",
       "        \n",
       "\n",
       "        poly_line_af6f331b47f42c4ffc9331cdf75339f7.bindPopup(popup_d9644ea53cf2503954172fe3ddf88847)\n",
       "        ;\n",
       "\n",
       "        \n",
       "    \n",
       "    \n",
       "            var marker_4ebf9d433e1acf6d08a46bb6e21e5cb1 = L.marker(\n",
       "                [53.03555, 11.699349999999999],\n",
       "                {\n",
       "}\n",
       "            ).addTo(map_7007b1cb0d1597655ceca5f0c3c66da4);\n",
       "        \n",
       "    \n",
       "            var div_icon_9e7ccf4b6f24a8827dec340eb16df8bb = L.divIcon({\n",
       "  &quot;html&quot;: &quot;\\n            \\u003cdiv style=\\&quot;position: relative; width: 40px; height: 40px;\\&quot;\\u003e\\n                \\u003cdiv style=\\&quot;\\n                    position: absolute;\\n                    top: 50%;\\n                    left: 50%;\\n                    transform: translate(-50%, -50%) rotate(-73.18202591978812deg);\\n                    width: 0;\\n                    height: 0;\\n                    border-left: 8px solid transparent;\\n                    border-right: 8px solid transparent;\\n                    border-bottom: 25px solid darkred;\\n                    filter: drop-shadow(0px 0px 2px white);\\n                \\&quot;\\u003e\\u003c/div\\u003e\\n            \\u003c/div\\u003e\\n            &quot;,\n",
       "  &quot;iconSize&quot;: [40, 40],\n",
       "  &quot;iconAnchor&quot;: [20, 20],\n",
       "  &quot;className&quot;: &quot;empty&quot;,\n",
       "});\n",
       "        \n",
       "    \n",
       "                marker_4ebf9d433e1acf6d08a46bb6e21e5cb1.setIcon(div_icon_9e7ccf4b6f24a8827dec340eb16df8bb);\n",
       "            \n",
       "    \n",
       "            var poly_line_4361619d20a9e97b7f45072bd2e418c6 = L.polyline(\n",
       "                [[53.5511, 9.9937], [50.7374, 7.0982]],\n",
       "                {&quot;bubblingMouseEvents&quot;: true, &quot;color&quot;: &quot;red&quot;, &quot;dashArray&quot;: null, &quot;dashOffset&quot;: null, &quot;fill&quot;: false, &quot;fillColor&quot;: &quot;red&quot;, &quot;fillOpacity&quot;: 0.2, &quot;fillRule&quot;: &quot;evenodd&quot;, &quot;lineCap&quot;: &quot;round&quot;, &quot;lineJoin&quot;: &quot;round&quot;, &quot;noClip&quot;: false, &quot;opacity&quot;: 0.8, &quot;smoothFactor&quot;: 1.0, &quot;stroke&quot;: true, &quot;weight&quot;: 5}\n",
       "            ).addTo(map_7007b1cb0d1597655ceca5f0c3c66da4);\n",
       "        \n",
       "    \n",
       "        var popup_68e98bcab827921ef02b59a4280d3e21 = L.popup({\n",
       "  &quot;maxWidth&quot;: &quot;100%&quot;,\n",
       "});\n",
       "\n",
       "        \n",
       "            \n",
       "                var html_b8e9891f2ff7c83382c7c7f1551e66ee = $(`&lt;div id=&quot;html_b8e9891f2ff7c83382c7c7f1551e66ee&quot; style=&quot;width: 100.0%; height: 100.0%;&quot;&gt;Hamburg → Bonn: 370 km&lt;/div&gt;`)[0];\n",
       "                popup_68e98bcab827921ef02b59a4280d3e21.setContent(html_b8e9891f2ff7c83382c7c7f1551e66ee);\n",
       "            \n",
       "        \n",
       "\n",
       "        poly_line_4361619d20a9e97b7f45072bd2e418c6.bindPopup(popup_68e98bcab827921ef02b59a4280d3e21)\n",
       "        ;\n",
       "\n",
       "        \n",
       "    \n",
       "    \n",
       "            var marker_67eb37e298749d9aa9dff0d93154d558 = L.marker(\n",
       "                [52.14425, 8.545950000000001],\n",
       "                {\n",
       "}\n",
       "            ).addTo(map_7007b1cb0d1597655ceca5f0c3c66da4);\n",
       "        \n",
       "    \n",
       "            var div_icon_ac4eb25a9db69c0399a33d41cd5c346d = L.divIcon({\n",
       "  &quot;html&quot;: &quot;\\n            \\u003cdiv style=\\&quot;position: relative; width: 40px; height: 40px;\\&quot;\\u003e\\n                \\u003cdiv style=\\&quot;\\n                    position: absolute;\\n                    top: 50%;\\n                    left: 50%;\\n                    transform: translate(-50%, -50%) rotate(-134.17913646483888deg);\\n                    width: 0;\\n                    height: 0;\\n                    border-left: 8px solid transparent;\\n                    border-right: 8px solid transparent;\\n                    border-bottom: 25px solid darkred;\\n                    filter: drop-shadow(0px 0px 2px white);\\n                \\&quot;\\u003e\\u003c/div\\u003e\\n            \\u003c/div\\u003e\\n            &quot;,\n",
       "  &quot;iconSize&quot;: [40, 40],\n",
       "  &quot;iconAnchor&quot;: [20, 20],\n",
       "  &quot;className&quot;: &quot;empty&quot;,\n",
       "});\n",
       "        \n",
       "    \n",
       "                marker_67eb37e298749d9aa9dff0d93154d558.setIcon(div_icon_ac4eb25a9db69c0399a33d41cd5c346d);\n",
       "            \n",
       "    \n",
       "            var poly_line_f23780ccbe487ed038d69481aa0599f0 = L.polyline(\n",
       "                [[50.7374, 7.0982], [48.1351, 11.582]],\n",
       "                {&quot;bubblingMouseEvents&quot;: true, &quot;color&quot;: &quot;red&quot;, &quot;dashArray&quot;: null, &quot;dashOffset&quot;: null, &quot;fill&quot;: false, &quot;fillColor&quot;: &quot;red&quot;, &quot;fillOpacity&quot;: 0.2, &quot;fillRule&quot;: &quot;evenodd&quot;, &quot;lineCap&quot;: &quot;round&quot;, &quot;lineJoin&quot;: &quot;round&quot;, &quot;noClip&quot;: false, &quot;opacity&quot;: 0.8, &quot;smoothFactor&quot;: 1.0, &quot;stroke&quot;: true, &quot;weight&quot;: 5}\n",
       "            ).addTo(map_7007b1cb0d1597655ceca5f0c3c66da4);\n",
       "        \n",
       "    \n",
       "        var popup_cd1aff7932ec370e1a3de0ca7bf588f7 = L.popup({\n",
       "  &quot;maxWidth&quot;: &quot;100%&quot;,\n",
       "});\n",
       "\n",
       "        \n",
       "            \n",
       "                var html_d5b74a8bc58e422a90b5784052f1893e = $(`&lt;div id=&quot;html_d5b74a8bc58e422a90b5784052f1893e&quot; style=&quot;width: 100.0%; height: 100.0%;&quot;&gt;Bonn → Munich: 434 km&lt;/div&gt;`)[0];\n",
       "                popup_cd1aff7932ec370e1a3de0ca7bf588f7.setContent(html_d5b74a8bc58e422a90b5784052f1893e);\n",
       "            \n",
       "        \n",
       "\n",
       "        poly_line_f23780ccbe487ed038d69481aa0599f0.bindPopup(popup_cd1aff7932ec370e1a3de0ca7bf588f7)\n",
       "        ;\n",
       "\n",
       "        \n",
       "    \n",
       "    \n",
       "            var marker_2e8ea96b4d09afa0942baaca6c2044d8 = L.marker(\n",
       "                [49.43625, 9.3401],\n",
       "                {\n",
       "}\n",
       "            ).addTo(map_7007b1cb0d1597655ceca5f0c3c66da4);\n",
       "        \n",
       "    \n",
       "            var div_icon_7411b7765bc05b59765617b22b11b53d = L.divIcon({\n",
       "  &quot;html&quot;: &quot;\\n            \\u003cdiv style=\\&quot;position: relative; width: 40px; height: 40px;\\&quot;\\u003e\\n                \\u003cdiv style=\\&quot;\\n                    position: absolute;\\n                    top: 50%;\\n                    left: 50%;\\n                    transform: translate(-50%, -50%) rotate(120.12994731196402deg);\\n                    width: 0;\\n                    height: 0;\\n                    border-left: 8px solid transparent;\\n                    border-right: 8px solid transparent;\\n                    border-bottom: 25px solid darkred;\\n                    filter: drop-shadow(0px 0px 2px white);\\n                \\&quot;\\u003e\\u003c/div\\u003e\\n            \\u003c/div\\u003e\\n            &quot;,\n",
       "  &quot;iconSize&quot;: [40, 40],\n",
       "  &quot;iconAnchor&quot;: [20, 20],\n",
       "  &quot;className&quot;: &quot;empty&quot;,\n",
       "});\n",
       "        \n",
       "    \n",
       "                marker_2e8ea96b4d09afa0942baaca6c2044d8.setIcon(div_icon_7411b7765bc05b59765617b22b11b53d);\n",
       "            \n",
       "    \n",
       "            var poly_line_f7cdf7294467e7b0d28e72151fe266db = L.polyline(\n",
       "                [[48.1351, 11.582], [52.52, 13.405]],\n",
       "                {&quot;bubblingMouseEvents&quot;: true, &quot;color&quot;: &quot;red&quot;, &quot;dashArray&quot;: null, &quot;dashOffset&quot;: null, &quot;fill&quot;: false, &quot;fillColor&quot;: &quot;red&quot;, &quot;fillOpacity&quot;: 0.2, &quot;fillRule&quot;: &quot;evenodd&quot;, &quot;lineCap&quot;: &quot;round&quot;, &quot;lineJoin&quot;: &quot;round&quot;, &quot;noClip&quot;: false, &quot;opacity&quot;: 0.8, &quot;smoothFactor&quot;: 1.0, &quot;stroke&quot;: true, &quot;weight&quot;: 5}\n",
       "            ).addTo(map_7007b1cb0d1597655ceca5f0c3c66da4);\n",
       "        \n",
       "    \n",
       "        var popup_d094da39e85532aae0b9e1c53790bd2b = L.popup({\n",
       "  &quot;maxWidth&quot;: &quot;100%&quot;,\n",
       "});\n",
       "\n",
       "        \n",
       "            \n",
       "                var html_90aa264a5fc61d8df9462b978730e62c = $(`&lt;div id=&quot;html_90aa264a5fc61d8df9462b978730e62c&quot; style=&quot;width: 100.0%; height: 100.0%;&quot;&gt;Munich → Berlin: 504 km&lt;/div&gt;`)[0];\n",
       "                popup_d094da39e85532aae0b9e1c53790bd2b.setContent(html_90aa264a5fc61d8df9462b978730e62c);\n",
       "            \n",
       "        \n",
       "\n",
       "        poly_line_f7cdf7294467e7b0d28e72151fe266db.bindPopup(popup_d094da39e85532aae0b9e1c53790bd2b)\n",
       "        ;\n",
       "\n",
       "        \n",
       "    \n",
       "    \n",
       "            var marker_47c6931889025fc1d1064d01f696e3b6 = L.marker(\n",
       "                [50.32755, 12.493500000000001],\n",
       "                {\n",
       "}\n",
       "            ).addTo(map_7007b1cb0d1597655ceca5f0c3c66da4);\n",
       "        \n",
       "    \n",
       "            var div_icon_c4df071bf1583c9c70fa1414dd5054d3 = L.divIcon({\n",
       "  &quot;html&quot;: &quot;\\n            \\u003cdiv style=\\&quot;position: relative; width: 40px; height: 40px;\\&quot;\\u003e\\n                \\u003cdiv style=\\&quot;\\n                    position: absolute;\\n                    top: 50%;\\n                    left: 50%;\\n                    transform: translate(-50%, -50%) rotate(22.574851604707117deg);\\n                    width: 0;\\n                    height: 0;\\n                    border-left: 8px solid transparent;\\n                    border-right: 8px solid transparent;\\n                    border-bottom: 25px solid darkred;\\n                    filter: drop-shadow(0px 0px 2px white);\\n                \\&quot;\\u003e\\u003c/div\\u003e\\n            \\u003c/div\\u003e\\n            &quot;,\n",
       "  &quot;iconSize&quot;: [40, 40],\n",
       "  &quot;iconAnchor&quot;: [20, 20],\n",
       "  &quot;className&quot;: &quot;empty&quot;,\n",
       "});\n",
       "        \n",
       "    \n",
       "                marker_47c6931889025fc1d1064d01f696e3b6.setIcon(div_icon_c4df071bf1583c9c70fa1414dd5054d3);\n",
       "            \n",
       "    \n",
       "            var marker_ee36455246498cbd8844607392918863 = L.marker(\n",
       "                [52.52, 13.405],\n",
       "                {\n",
       "}\n",
       "            ).addTo(map_7007b1cb0d1597655ceca5f0c3c66da4);\n",
       "        \n",
       "    \n",
       "            var div_icon_44e5fdf268ea6b72c433c893c4712d7d = L.divIcon({\n",
       "  &quot;html&quot;: &quot;\\n            \\u003cdiv style=\\&quot;font-size: 12pt; color: white; font-weight: bold;\\n                        text-align: center; vertical-align: middle;\\n                        background-color: red; border-radius: 50%;\\n                        width: 30px; height: 30px; line-height: 30px;\\n                        border: 2px solid darkred;\\n                        box-shadow: 0px 0px 4px rgba(0,0,0,0.5);\\&quot;\\u003e\\n                1\\n            \\u003c/div\\u003e\\n            &quot;,\n",
       "  &quot;iconSize&quot;: [30, 30],\n",
       "  &quot;iconAnchor&quot;: [15, 15],\n",
       "  &quot;className&quot;: &quot;empty&quot;,\n",
       "});\n",
       "        \n",
       "    \n",
       "        var popup_1b3a8b7cda390f63e48d33840d56ad8e = L.popup({\n",
       "  &quot;maxWidth&quot;: &quot;100%&quot;,\n",
       "});\n",
       "\n",
       "        \n",
       "            \n",
       "                var html_3923053e47d56c18be0e620c34d36ba9 = $(`&lt;div id=&quot;html_3923053e47d56c18be0e620c34d36ba9&quot; style=&quot;width: 100.0%; height: 100.0%;&quot;&gt;&lt;b&gt;Berlin&lt;/b&gt;&lt;br&gt;Position 1 in tour&lt;/div&gt;`)[0];\n",
       "                popup_1b3a8b7cda390f63e48d33840d56ad8e.setContent(html_3923053e47d56c18be0e620c34d36ba9);\n",
       "            \n",
       "        \n",
       "\n",
       "        marker_ee36455246498cbd8844607392918863.bindPopup(popup_1b3a8b7cda390f63e48d33840d56ad8e)\n",
       "        ;\n",
       "\n",
       "        \n",
       "    \n",
       "    \n",
       "            marker_ee36455246498cbd8844607392918863.bindTooltip(\n",
       "                `&lt;div&gt;\n",
       "                     1. Berlin\n",
       "                 &lt;/div&gt;`,\n",
       "                {\n",
       "  &quot;sticky&quot;: true,\n",
       "}\n",
       "            );\n",
       "        \n",
       "    \n",
       "                marker_ee36455246498cbd8844607392918863.setIcon(div_icon_44e5fdf268ea6b72c433c893c4712d7d);\n",
       "            \n",
       "    \n",
       "            var marker_562463845c649d1a849a8a0c6792a682 = L.marker(\n",
       "                [53.5511, 9.9937],\n",
       "                {\n",
       "}\n",
       "            ).addTo(map_7007b1cb0d1597655ceca5f0c3c66da4);\n",
       "        \n",
       "    \n",
       "            var div_icon_bef995a67707cbffae312664c998ba27 = L.divIcon({\n",
       "  &quot;html&quot;: &quot;\\n            \\u003cdiv style=\\&quot;font-size: 12pt; color: white; font-weight: bold;\\n                        text-align: center; vertical-align: middle;\\n                        background-color: red; border-radius: 50%;\\n                        width: 30px; height: 30px; line-height: 30px;\\n                        border: 2px solid darkred;\\n                        box-shadow: 0px 0px 4px rgba(0,0,0,0.5);\\&quot;\\u003e\\n                2\\n            \\u003c/div\\u003e\\n            &quot;,\n",
       "  &quot;iconSize&quot;: [30, 30],\n",
       "  &quot;iconAnchor&quot;: [15, 15],\n",
       "  &quot;className&quot;: &quot;empty&quot;,\n",
       "});\n",
       "        \n",
       "    \n",
       "        var popup_4bf42c48f010aae613b02649c0f0fd7b = L.popup({\n",
       "  &quot;maxWidth&quot;: &quot;100%&quot;,\n",
       "});\n",
       "\n",
       "        \n",
       "            \n",
       "                var html_7faa827a2f4f2a192a716e1aee141266 = $(`&lt;div id=&quot;html_7faa827a2f4f2a192a716e1aee141266&quot; style=&quot;width: 100.0%; height: 100.0%;&quot;&gt;&lt;b&gt;Hamburg&lt;/b&gt;&lt;br&gt;Position 2 in tour&lt;/div&gt;`)[0];\n",
       "                popup_4bf42c48f010aae613b02649c0f0fd7b.setContent(html_7faa827a2f4f2a192a716e1aee141266);\n",
       "            \n",
       "        \n",
       "\n",
       "        marker_562463845c649d1a849a8a0c6792a682.bindPopup(popup_4bf42c48f010aae613b02649c0f0fd7b)\n",
       "        ;\n",
       "\n",
       "        \n",
       "    \n",
       "    \n",
       "            marker_562463845c649d1a849a8a0c6792a682.bindTooltip(\n",
       "                `&lt;div&gt;\n",
       "                     2. Hamburg\n",
       "                 &lt;/div&gt;`,\n",
       "                {\n",
       "  &quot;sticky&quot;: true,\n",
       "}\n",
       "            );\n",
       "        \n",
       "    \n",
       "                marker_562463845c649d1a849a8a0c6792a682.setIcon(div_icon_bef995a67707cbffae312664c998ba27);\n",
       "            \n",
       "    \n",
       "            var marker_1702a82a22b246d31260ea509eed42e8 = L.marker(\n",
       "                [50.7374, 7.0982],\n",
       "                {\n",
       "}\n",
       "            ).addTo(map_7007b1cb0d1597655ceca5f0c3c66da4);\n",
       "        \n",
       "    \n",
       "            var div_icon_d8072b6c5115bd23a03dbb79fa4a4d00 = L.divIcon({\n",
       "  &quot;html&quot;: &quot;\\n            \\u003cdiv style=\\&quot;font-size: 12pt; color: white; font-weight: bold;\\n                        text-align: center; vertical-align: middle;\\n                        background-color: red; border-radius: 50%;\\n                        width: 30px; height: 30px; line-height: 30px;\\n                        border: 2px solid darkred;\\n                        box-shadow: 0px 0px 4px rgba(0,0,0,0.5);\\&quot;\\u003e\\n                3\\n            \\u003c/div\\u003e\\n            &quot;,\n",
       "  &quot;iconSize&quot;: [30, 30],\n",
       "  &quot;iconAnchor&quot;: [15, 15],\n",
       "  &quot;className&quot;: &quot;empty&quot;,\n",
       "});\n",
       "        \n",
       "    \n",
       "        var popup_25dd2286b6081af2461930d00e3a941d = L.popup({\n",
       "  &quot;maxWidth&quot;: &quot;100%&quot;,\n",
       "});\n",
       "\n",
       "        \n",
       "            \n",
       "                var html_7bcac9259802389a890e022740f3985d = $(`&lt;div id=&quot;html_7bcac9259802389a890e022740f3985d&quot; style=&quot;width: 100.0%; height: 100.0%;&quot;&gt;&lt;b&gt;Bonn&lt;/b&gt;&lt;br&gt;Position 3 in tour&lt;/div&gt;`)[0];\n",
       "                popup_25dd2286b6081af2461930d00e3a941d.setContent(html_7bcac9259802389a890e022740f3985d);\n",
       "            \n",
       "        \n",
       "\n",
       "        marker_1702a82a22b246d31260ea509eed42e8.bindPopup(popup_25dd2286b6081af2461930d00e3a941d)\n",
       "        ;\n",
       "\n",
       "        \n",
       "    \n",
       "    \n",
       "            marker_1702a82a22b246d31260ea509eed42e8.bindTooltip(\n",
       "                `&lt;div&gt;\n",
       "                     3. Bonn\n",
       "                 &lt;/div&gt;`,\n",
       "                {\n",
       "  &quot;sticky&quot;: true,\n",
       "}\n",
       "            );\n",
       "        \n",
       "    \n",
       "                marker_1702a82a22b246d31260ea509eed42e8.setIcon(div_icon_d8072b6c5115bd23a03dbb79fa4a4d00);\n",
       "            \n",
       "    \n",
       "            var marker_9ea3368db23543f62d00274a95456408 = L.marker(\n",
       "                [48.1351, 11.582],\n",
       "                {\n",
       "}\n",
       "            ).addTo(map_7007b1cb0d1597655ceca5f0c3c66da4);\n",
       "        \n",
       "    \n",
       "            var div_icon_6a08625bf706e4dcccb7f96ebfddca1e = L.divIcon({\n",
       "  &quot;html&quot;: &quot;\\n            \\u003cdiv style=\\&quot;font-size: 12pt; color: white; font-weight: bold;\\n                        text-align: center; vertical-align: middle;\\n                        background-color: red; border-radius: 50%;\\n                        width: 30px; height: 30px; line-height: 30px;\\n                        border: 2px solid darkred;\\n                        box-shadow: 0px 0px 4px rgba(0,0,0,0.5);\\&quot;\\u003e\\n                4\\n            \\u003c/div\\u003e\\n            &quot;,\n",
       "  &quot;iconSize&quot;: [30, 30],\n",
       "  &quot;iconAnchor&quot;: [15, 15],\n",
       "  &quot;className&quot;: &quot;empty&quot;,\n",
       "});\n",
       "        \n",
       "    \n",
       "        var popup_11a87cb5694a562457e9be4d18664814 = L.popup({\n",
       "  &quot;maxWidth&quot;: &quot;100%&quot;,\n",
       "});\n",
       "\n",
       "        \n",
       "            \n",
       "                var html_a89d7528a8a86de2cf2c2a5528beca64 = $(`&lt;div id=&quot;html_a89d7528a8a86de2cf2c2a5528beca64&quot; style=&quot;width: 100.0%; height: 100.0%;&quot;&gt;&lt;b&gt;Munich&lt;/b&gt;&lt;br&gt;Position 4 in tour&lt;/div&gt;`)[0];\n",
       "                popup_11a87cb5694a562457e9be4d18664814.setContent(html_a89d7528a8a86de2cf2c2a5528beca64);\n",
       "            \n",
       "        \n",
       "\n",
       "        marker_9ea3368db23543f62d00274a95456408.bindPopup(popup_11a87cb5694a562457e9be4d18664814)\n",
       "        ;\n",
       "\n",
       "        \n",
       "    \n",
       "    \n",
       "            marker_9ea3368db23543f62d00274a95456408.bindTooltip(\n",
       "                `&lt;div&gt;\n",
       "                     4. Munich\n",
       "                 &lt;/div&gt;`,\n",
       "                {\n",
       "  &quot;sticky&quot;: true,\n",
       "}\n",
       "            );\n",
       "        \n",
       "    \n",
       "                marker_9ea3368db23543f62d00274a95456408.setIcon(div_icon_6a08625bf706e4dcccb7f96ebfddca1e);\n",
       "            \n",
       "    \n",
       "            var marker_6806889069aefbb1de6ef71cf6b5dea2 = L.marker(\n",
       "                [52.52, 13.405],\n",
       "                {\n",
       "}\n",
       "            ).addTo(map_7007b1cb0d1597655ceca5f0c3c66da4);\n",
       "        \n",
       "    \n",
       "            var div_icon_d467711a7e82b661bbe4d4c2ea2653c9 = L.divIcon({\n",
       "  &quot;html&quot;: &quot;\\n                \\u003cdiv style=\\&quot;font-size: 11pt; color: black; font-weight: bold;\\n                            text-shadow: 2px 2px 4px white, -2px -2px 4px white,\\n                                         2px -2px 4px white, -2px 2px 4px white;\\n                            margin-top: -38px; margin-left: -35px; width: 70px;\\n                            text-align: center;\\&quot;\\u003e\\n                    Berlin\\n                \\u003c/div\\u003e\\n                &quot;,\n",
       "  &quot;iconSize&quot;: [70, 20],\n",
       "  &quot;iconAnchor&quot;: [35, 10],\n",
       "  &quot;className&quot;: &quot;empty&quot;,\n",
       "});\n",
       "        \n",
       "    \n",
       "                marker_6806889069aefbb1de6ef71cf6b5dea2.setIcon(div_icon_d467711a7e82b661bbe4d4c2ea2653c9);\n",
       "            \n",
       "    \n",
       "            var marker_35366e734b0aae986aa10334c59adf6a = L.marker(\n",
       "                [53.5511, 9.9937],\n",
       "                {\n",
       "}\n",
       "            ).addTo(map_7007b1cb0d1597655ceca5f0c3c66da4);\n",
       "        \n",
       "    \n",
       "            var div_icon_dc0fa48cc724a7e3fcd962353bb074c6 = L.divIcon({\n",
       "  &quot;html&quot;: &quot;\\n                \\u003cdiv style=\\&quot;font-size: 11pt; color: black; font-weight: bold;\\n                            text-shadow: 2px 2px 4px white, -2px -2px 4px white,\\n                                         2px -2px 4px white, -2px 2px 4px white;\\n                            margin-top: -38px; margin-left: -35px; width: 70px;\\n                            text-align: center;\\&quot;\\u003e\\n                    Hamburg\\n                \\u003c/div\\u003e\\n                &quot;,\n",
       "  &quot;iconSize&quot;: [70, 20],\n",
       "  &quot;iconAnchor&quot;: [35, 10],\n",
       "  &quot;className&quot;: &quot;empty&quot;,\n",
       "});\n",
       "        \n",
       "    \n",
       "                marker_35366e734b0aae986aa10334c59adf6a.setIcon(div_icon_dc0fa48cc724a7e3fcd962353bb074c6);\n",
       "            \n",
       "    \n",
       "            var marker_0cc83697b8629b2199b6829c07011012 = L.marker(\n",
       "                [48.1351, 11.582],\n",
       "                {\n",
       "}\n",
       "            ).addTo(map_7007b1cb0d1597655ceca5f0c3c66da4);\n",
       "        \n",
       "    \n",
       "            var div_icon_4ec5a5fdb39f3aa26b64647fff79928a = L.divIcon({\n",
       "  &quot;html&quot;: &quot;\\n                \\u003cdiv style=\\&quot;font-size: 11pt; color: black; font-weight: bold;\\n                            text-shadow: 2px 2px 4px white, -2px -2px 4px white,\\n                                         2px -2px 4px white, -2px 2px 4px white;\\n                            margin-top: -38px; margin-left: -35px; width: 70px;\\n                            text-align: center;\\&quot;\\u003e\\n                    Munich\\n                \\u003c/div\\u003e\\n                &quot;,\n",
       "  &quot;iconSize&quot;: [70, 20],\n",
       "  &quot;iconAnchor&quot;: [35, 10],\n",
       "  &quot;className&quot;: &quot;empty&quot;,\n",
       "});\n",
       "        \n",
       "    \n",
       "                marker_0cc83697b8629b2199b6829c07011012.setIcon(div_icon_4ec5a5fdb39f3aa26b64647fff79928a);\n",
       "            \n",
       "    \n",
       "            var marker_6f5e5ec20f85416cd6916b3976821af6 = L.marker(\n",
       "                [50.7374, 7.0982],\n",
       "                {\n",
       "}\n",
       "            ).addTo(map_7007b1cb0d1597655ceca5f0c3c66da4);\n",
       "        \n",
       "    \n",
       "            var div_icon_c29a3758fd975a97280a66b5bde1e177 = L.divIcon({\n",
       "  &quot;html&quot;: &quot;\\n                \\u003cdiv style=\\&quot;font-size: 11pt; color: black; font-weight: bold;\\n                            text-shadow: 2px 2px 4px white, -2px -2px 4px white,\\n                                         2px -2px 4px white, -2px 2px 4px white;\\n                            margin-top: -38px; margin-left: -35px; width: 70px;\\n                            text-align: center;\\&quot;\\u003e\\n                    Bonn\\n                \\u003c/div\\u003e\\n                &quot;,\n",
       "  &quot;iconSize&quot;: [70, 20],\n",
       "  &quot;iconAnchor&quot;: [35, 10],\n",
       "  &quot;className&quot;: &quot;empty&quot;,\n",
       "});\n",
       "        \n",
       "    \n",
       "                marker_6f5e5ec20f85416cd6916b3976821af6.setIcon(div_icon_c29a3758fd975a97280a66b5bde1e177);\n",
       "            \n",
       "&lt;/script&gt;\n",
       "&lt;/html&gt;\" style=\"position:absolute;width:100%;height:100%;left:0;top:0;border:none !important;\" allowfullscreen webkitallowfullscreen mozallowfullscreen></iframe></div></div>"
      ]
     },
     "execution_count": 15,
     "metadata": {},
     "output_type": "execute_result"
    }
   ],
   "execution_count": 15
  },
  {
   "cell_type": "markdown",
   "id": "93e8c4c566cb45cd",
   "metadata": {},
   "source": [
    "---\n",
    "\n",
    "## 🌟 Luna Quantum SDK: Your Gateway to Quantum-Enhanced Optimization\n",
    "\n",
    "### 🎯 What You've Experienced\n",
    "\n",
    "This demo showcased Luna Quantum's complete optimization ecosystem through a practical TSP implementation:\n",
    "\n",
    "✅ **Rapid Development** with predefined optimization patterns  \n",
    "✅ **Advanced Modeling** using AqModels' flexible framework  \n",
    "✅ **Multi-Algorithm Execution** comparing classical and quantum approaches  \n",
    "✅ **Enterprise-Grade Infrastructure** with secure token management  \n",
    "✅ **Intelligent Result Processing** from variables to business decisions  \n",
    "\n",
    "\n",
    "### 🚀 Ready to Transform Your Optimization Challenges?\n",
    "\n",
    "**Start your quantum optimization journey with Luna Quantum SDK today!**\n",
    "\n",
    "---\n",
    "\n",
    "*For more information, visit our documentation, explore additional examples, or contact our team for enterprise solutions.*"
   ]
  },
  {
   "metadata": {},
   "cell_type": "code",
   "outputs": [],
   "execution_count": null,
   "source": "",
   "id": "32562b8ae9e6cbd4"
  }
 ],
 "metadata": {
  "kernelspec": {
   "display_name": "Python 3 (ipykernel)",
   "language": "python",
   "name": "python3"
  },
  "language_info": {
   "codemirror_mode": {
    "name": "ipython",
    "version": 3
   },
   "file_extension": ".py",
   "mimetype": "text/x-python",
   "name": "python",
   "nbconvert_exporter": "python",
   "pygments_lexer": "ipython3",
   "version": "3.12.3"
  }
 },
 "nbformat": 4,
 "nbformat_minor": 5
}
