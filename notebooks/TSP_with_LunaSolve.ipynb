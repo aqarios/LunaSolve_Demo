{
 "cells": [
  {
   "cell_type": "markdown",
   "id": "6771c787bd8ecde7",
   "metadata": {},
   "source": [
    "# Luna Quantum SDK: Traveling Salesman Problem Demo\n",
    "\n",
    "Welcome to the **Luna Quantum SDK** demonstration! This comprehensive notebook showcases how Luna Quantum makes quantum optimization accessible, powerful, and easy to use through a complete Traveling Salesman Problem (TSP) solution.\n",
    "\n",
    "## 🚀 Why Luna Quantum?\n",
    "\n",
    "Luna Quantum is a cutting-edge SDK that bridges the gap between classical and quantum computing, offering:\n",
    "\n",
    "- **Unified Programming Model**: Write once, run on classical CPUs, quantum simulators, or real quantum hardware\n",
    "- **Smart Abstractions**: Focus on problem modeling while Luna handles algorithm-specific transformations\n",
    "- **Plug-and-Play Architecture**: Seamlessly switch between algorithms and backends without code changes\n",
    "- **Production-Ready**: Enterprise-grade quantum cloud platform with secure token management\n",
    "\n",
    "## 🎯 What this Notebook will Show\n",
    "\n",
    "This demo highlights Luna Quantum's key capabilities through a practical TSP implementation:\n",
    "\n",
    "1. **Rapid Prototyping**: Use predefined optimization patterns for quick problem setup\n",
    "2. **Advanced Modeling**: Build custom models with AqModels for complete control\n",
    "3. **Hybrid Solving**: Compare classical and quantum algorithms on the same problem\n",
    "4. **Seamless Deployment**: Run on classical machines, cloud simulators, or quantum hardware\n",
    "\n",
    "## 📍 The Challenge\n",
    "\n",
    "We'll solve the TSP for 4 German cities: **Berlin**, **Hamburg**, **Munich**, and **Bonn**. The goal is to find the shortest route that visits all cities exactly once and returns to the starting point—a perfect demonstration of Luna Quantum's optimization capabilities.\n",
    "\n",
    "## 📋 Prerequisites\n",
    "\n",
    "Before running this notebook, ensure you have:\n",
    "- ✅ Luna Quantum SDK installed (`pip install luna-quantum`)\n",
    "- ✅ D-Wave token set as environment variable: `DWAVE_TOKEN`\n",
    "- ✅ All dependencies installed (see `pyproject.toml`)\n",
    "\n",
    "**Need help with setup?** Check the project README for detailed instructions."
   ]
  },
  {
   "cell_type": "markdown",
   "id": "86bf8d22c9e88476",
   "metadata": {},
   "source": [
    "## 1. 🔧 Setup and Luna Quantum SDK Integration\n",
    "\n",
    "Luna Quantum's elegant API design makes getting started incredibly simple. With just a few imports, you gain access to a comprehensive suite of optimization tools.\n",
    "\n",
    "### 🧠 Core Luna Quantum Components:\n",
    "\n",
    "#### **Modeling Framework**\n",
    "- **`Model`**: Universal modeling interface that works across classical and quantum algorithms\n",
    "- **`Variable`**: Flexible variable types with automatic constraint handling\n",
    "- **`Vtype`**: Variable type definitions (Binary, Integer, Continuous)\n",
    "\n",
    "#### **Orchestration & Execution**\n",
    "- **`LunaSolve`**: Main orchestration class for job management and execution\n",
    "- **`algorithms`** & **`backends`**: Plug-and-play algorithm and execution environment selection\n",
    "- **`LpTranslator`**: Seamless conversion between different model formats\n",
    "\n",
    "#### **Pre-built Solutions**\n",
    "- **`TravellingSalesmanProblem`**: Ready-to-use optimization patterns for rapid development\n",
    "\n",
    "#### **Utility Functions**\n",
    "- **`plot_graph_on_map`**: Interactive geographic visualization\n",
    "- **`plot_solution_tour`**: Solution visualization on maps\n",
    "- **`calculate_distance_matrix`**: Haversine distance calculations\n",
    "\n",
    "### 🚀 The Luna Quantum Workflow\n",
    "\n",
    "Luna Quantum follows a simple 6-step process:\n",
    "\n",
    "![LunaSolve Flow](plots/LunaSolveFlow.png)\n"
   ]
  },
  {
   "cell_type": "code",
   "id": "initial_id",
   "metadata": {
    "collapsed": true,
    "jupyter": {
     "outputs_hidden": true
    },
    "ExecuteTime": {
     "end_time": "2025-06-17T12:57:45.341703Z",
     "start_time": "2025-06-17T12:57:45.336228Z"
    }
   },
   "source": [
    "from luna_quantum import Model,Variable, Vtype\n",
    "from luna_quantum.translator import LpTranslator\n",
    "import networkx as nx\n",
    "import itertools\n",
    "import os\n",
    "from luna_quantum.solve.use_cases import TravellingSalesmanProblem\n",
    "from luna_quantum import LunaSolve\n",
    "from luna_quantum.solve import algorithms, backends\n",
    "from luna_quantum.client.schemas import QpuToken\n",
    "import getpass\n",
    "\n",
    "# Use Case utils\n",
    "from utils.plotting import plot_graph_on_map, plot_solution_tour\n",
    "from utils.traveling_sales_man import calculate_distance_matrix, extract_tour_from_solution\n",
    "\n",
    "if \"LUNA_API_KEY\" not in os.environ:\n",
    "    # Prompt securely for the key if not already set\n",
    "    os.environ[\"LUNA_API_KEY\"] = getpass.getpass(\"Enter your Luna API key: \")\n"
   ],
   "outputs": [],
   "execution_count": 29
  },
  {
   "attachments": {},
   "cell_type": "markdown",
   "id": "fbe77d7c19728560",
   "metadata": {},
   "source": [
    "# Complete Luna Flow\n",
    "![Alt text](plots/FlowComplete.png)\n"
   ]
  },
  {
   "cell_type": "markdown",
   "id": "a0034e26d561fad6",
   "metadata": {},
   "source": [
    "### 🚀 Quick Start Example\n",
    "\n",
    "Before diving into detailed modeling, let's see Luna Quantum in action with a pre-built model:"
   ]
  },
  {
   "cell_type": "code",
   "id": "3108b036928f5386",
   "metadata": {
    "ExecuteTime": {
     "end_time": "2025-06-17T12:58:45.495046Z",
     "start_time": "2025-06-17T12:58:42.374893Z"
    }
   },
   "source": [
    "# 1. Load a pre-built model\n",
    "m = LpTranslator.to_aq('tsp_model') # Note: We'll build this model in the sections below\n",
    "\n",
    "# 2. Select Algorithm\n",
    "sim_annealer = algorithms.SimulatedAnnealing(num_reads=100)\n",
    "\n",
    "# 3. / 4. / 5.  Compute optimization\n",
    "job = sim_annealer.run(model=m)\n",
    "\n",
    "# 6. Analyze solution\n",
    "solution = job.result()\n",
    "print(solution)"
   ],
   "outputs": [
    {
     "data": {
      "text/plain": [
       "Output()"
      ],
      "application/vnd.jupyter.widget-view+json": {
       "version_major": 2,
       "version_minor": 0,
       "model_id": "f187b7ff5d5d430db6d956616083a6e6"
      }
     },
     "metadata": {},
     "output_type": "display_data"
    },
    {
     "data": {
      "text/plain": [
       "Output()"
      ],
      "application/vnd.jupyter.widget-view+json": {
       "version_major": 2,
       "version_minor": 0,
       "model_id": "100b358fba364df6be630d4da4672d7c"
      }
     },
     "metadata": {},
     "output_type": "display_data"
    },
    {
     "data": {
      "text/plain": [],
      "text/html": [
       "<pre style=\"white-space:pre;overflow-x:auto;line-height:normal;font-family:Menlo,'DejaVu Sans Mono',consolas,'Courier New',monospace\"></pre>\n"
      ]
     },
     "metadata": {},
     "output_type": "display_data"
    },
    {
     "data": {
      "text/plain": [
       "\u001B[2;36m2025-06-17 14:58:43\u001B[0m\u001B[2;36m \u001B[0m\u001B[92mINFO    \u001B[0m \u001B[1m{\u001B[0m\u001B[32m\"model_id\"\u001B[0m:\u001B[32m\"6851310efeb4512569869b57\"\u001B[0m,\u001B[32m\"solver_name\"\u001B[0m:\u001B[32m\"SA\"\u001B[0m,\u001B[32m\"provider\"\u001B[0m:\u001B[32m\"dwave\"\u001B[0m,\u001B[32m\"paramete\u001B[0m\n",
       "\u001B[2;36m                    \u001B[0m         \u001B[32mrs\"\u001B[0m:\u001B[1m{\u001B[0m\u001B[32m\"num_reads\"\u001B[0m:\u001B[1;36m100\u001B[0m,\u001B[32m\"num_sweeps\"\u001B[0m:\u001B[1;36m1000\u001B[0m,\u001B[32m\"beta_range\"\u001B[0m:null,\u001B[32m\"beta_schedule_type\"\u001B[0m:\u001B[32m\"geometr\u001B[0m\n",
       "\u001B[2;36m                    \u001B[0m         \u001B[32mic\"\u001B[0m,\u001B[32m\"initial_states_generator\"\u001B[0m:\u001B[32m\"random\"\u001B[0m,\u001B[32m\"num_sweeps_per_beta\"\u001B[0m:\u001B[1;36m1\u001B[0m,\u001B[32m\"seed\"\u001B[0m:null,\u001B[32m\"beta_sche\u001B[0m\n",
       "\u001B[2;36m                    \u001B[0m         \u001B[32mdule\"\u001B[0m:null,\u001B[32m\"initial_states\"\u001B[0m:null,\u001B[32m\"randomize_order\"\u001B[0m:false,\u001B[32m\"proposal_acceptance_criteria\u001B[0m\n",
       "\u001B[2;36m                    \u001B[0m         \u001B[32m\"\u001B[0m:\u001B[32m\"Metropolis\"\u001B[0m\u001B[1m}\u001B[0m,\u001B[32m\"name\"\u001B[0m:null\u001B[1m}\u001B[0m                                                          \n"
      ],
      "text/html": [
       "<pre style=\"white-space:pre;overflow-x:auto;line-height:normal;font-family:Menlo,'DejaVu Sans Mono',consolas,'Courier New',monospace\"><span style=\"color: #7fbfbf; text-decoration-color: #7fbfbf\">2025-06-17 14:58:43 </span><span style=\"color: #00ff00; text-decoration-color: #00ff00\">INFO    </span> <span style=\"font-weight: bold\">{</span><span style=\"color: #008000; text-decoration-color: #008000\">\"model_id\"</span>:<span style=\"color: #008000; text-decoration-color: #008000\">\"6851310efeb4512569869b57\"</span>,<span style=\"color: #008000; text-decoration-color: #008000\">\"solver_name\"</span>:<span style=\"color: #008000; text-decoration-color: #008000\">\"SA\"</span>,<span style=\"color: #008000; text-decoration-color: #008000\">\"provider\"</span>:<span style=\"color: #008000; text-decoration-color: #008000\">\"dwave\"</span>,<span style=\"color: #008000; text-decoration-color: #008000\">\"paramete</span>\n",
       "<span style=\"color: #7fbfbf; text-decoration-color: #7fbfbf\">                    </span>         <span style=\"color: #008000; text-decoration-color: #008000\">rs\"</span>:<span style=\"font-weight: bold\">{</span><span style=\"color: #008000; text-decoration-color: #008000\">\"num_reads\"</span>:<span style=\"color: #008080; text-decoration-color: #008080; font-weight: bold\">100</span>,<span style=\"color: #008000; text-decoration-color: #008000\">\"num_sweeps\"</span>:<span style=\"color: #008080; text-decoration-color: #008080; font-weight: bold\">1000</span>,<span style=\"color: #008000; text-decoration-color: #008000\">\"beta_range\"</span>:null,<span style=\"color: #008000; text-decoration-color: #008000\">\"beta_schedule_type\"</span>:<span style=\"color: #008000; text-decoration-color: #008000\">\"geometr</span>\n",
       "<span style=\"color: #7fbfbf; text-decoration-color: #7fbfbf\">                    </span>         <span style=\"color: #008000; text-decoration-color: #008000\">ic\"</span>,<span style=\"color: #008000; text-decoration-color: #008000\">\"initial_states_generator\"</span>:<span style=\"color: #008000; text-decoration-color: #008000\">\"random\"</span>,<span style=\"color: #008000; text-decoration-color: #008000\">\"num_sweeps_per_beta\"</span>:<span style=\"color: #008080; text-decoration-color: #008080; font-weight: bold\">1</span>,<span style=\"color: #008000; text-decoration-color: #008000\">\"seed\"</span>:null,<span style=\"color: #008000; text-decoration-color: #008000\">\"beta_sche</span>\n",
       "<span style=\"color: #7fbfbf; text-decoration-color: #7fbfbf\">                    </span>         <span style=\"color: #008000; text-decoration-color: #008000\">dule\"</span>:null,<span style=\"color: #008000; text-decoration-color: #008000\">\"initial_states\"</span>:null,<span style=\"color: #008000; text-decoration-color: #008000\">\"randomize_order\"</span>:false,<span style=\"color: #008000; text-decoration-color: #008000\">\"proposal_acceptance_criteria</span>\n",
       "<span style=\"color: #7fbfbf; text-decoration-color: #7fbfbf\">                    </span>         <span style=\"color: #008000; text-decoration-color: #008000\">\"</span>:<span style=\"color: #008000; text-decoration-color: #008000\">\"Metropolis\"</span><span style=\"font-weight: bold\">}</span>,<span style=\"color: #008000; text-decoration-color: #008000\">\"name\"</span>:null<span style=\"font-weight: bold\">}</span>                                                          \n",
       "</pre>\n"
      ]
     },
     "metadata": {},
     "output_type": "display_data"
    },
    {
     "data": {
      "text/plain": [],
      "text/html": [
       "<pre style=\"white-space:pre;overflow-x:auto;line-height:normal;font-family:Menlo,'DejaVu Sans Mono',consolas,'Courier New',monospace\"></pre>\n"
      ]
     },
     "metadata": {},
     "output_type": "display_data"
    },
    {
     "data": {
      "text/plain": [
       "Output()"
      ],
      "application/vnd.jupyter.widget-view+json": {
       "version_major": 2,
       "version_minor": 0,
       "model_id": "586c496885fd47ab8f05b9e8e68146f4"
      }
     },
     "metadata": {},
     "output_type": "display_data"
    },
    {
     "data": {
      "text/plain": [
       "Output()"
      ],
      "application/vnd.jupyter.widget-view+json": {
       "version_major": 2,
       "version_minor": 0,
       "model_id": "87ac759a4e6245f49e02f1977f6620da"
      }
     },
     "metadata": {},
     "output_type": "display_data"
    },
    {
     "data": {
      "text/plain": [],
      "text/html": [
       "<pre style=\"white-space:pre;overflow-x:auto;line-height:normal;font-family:Menlo,'DejaVu Sans Mono',consolas,'Courier New',monospace\"></pre>\n"
      ]
     },
     "metadata": {},
     "output_type": "display_data"
    },
    {
     "data": {
      "text/plain": [],
      "text/html": [
       "<pre style=\"white-space:pre;overflow-x:auto;line-height:normal;font-family:Menlo,'DejaVu Sans Mono',consolas,'Courier New',monospace\"></pre>\n"
      ]
     },
     "metadata": {},
     "output_type": "display_data"
    },
    {
     "name": "stdout",
     "output_type": "stream",
     "text": [
      "x_Ham x_Ham x_Ham x_Mun x_Mun x_Mun x_Bon x_Bon x_Bon │ feas   raw   obj count\n",
      "    1     0     0     0     1     0     0     0     1 │    t 1.8e3 1.8e3    18\n",
      "    0     0     1     0     1     0     1     0     0 │    t 1.8e3 1.8e3    17\n",
      "    0     1     0     0     0     1     1     0     0 │    t 2.0e3 2.0e3    10\n",
      "    0     1     0     1     0     0     0     0     1 │    t 2.0e3 2.0e3    17\n",
      "    1     0     0     0     0     1     0     1     0 │    t 1.6e3 1.6e3    19\n",
      "    0     0     1     1     0     0     0     1     0 │    t 1.6e3 1.6e3    19\n",
      "\n",
      "Total samples: 6\n",
      "Total variables: 9\n",
      "\n",
      "Timing:\n",
      "Total: 0.019366026s\n"
     ]
    }
   ],
   "execution_count": 32
  },
  {
   "cell_type": "markdown",
   "id": "49e772cfa6647b4d",
   "metadata": {},
   "source": [
    "**⚠️ Note**:\n",
    "The above is a preview of the complete workflow. We'll build the actual model step-by-step in the following sections."
   ]
  },
  {
   "cell_type": "markdown",
   "id": "da6badc6be3192bd",
   "metadata": {},
   "source": [
    "## 2. 📊 Problem Data Setup\n",
    "\n",
    "### 🌍 Real-World Optimization Challenge\n",
    "\n",
    "Our TSP demonstration uses 4 major German cities with their precise GPS coordinates:\n",
    "\n",
    "| City | Coordinates | Population | Significance |\n",
    "|------|-------------|------------|--------------|\n",
    "| **Berlin** | 52.52°N, 13.405°E | 3.7M | Germany's capital and largest city |\n",
    "| **Hamburg** | 53.55°N, 9.99°E | 1.9M | Major port city in northern Germany |\n",
    "| **Munich** | 48.13°N, 11.58°E | 1.5M | Bavaria's capital in southern Germany |\n",
    "| **Bonn** | 50.74°N, 7.10°E | 330K | Former capital of West Germany |\n",
    "\n",
    "### 🔬 Distance Calculation Methods\n",
    "\n",
    "The `calculate_distance_matrix()` function demonstrates Luna Quantum's preprocessing capabilities:\n",
    "\n",
    "- **Haversine Formula**: Calculates great-circle distances between GPS coordinates\n",
    "- **Symmetric Matrix**: Ensures distance(A→B) = distance(B→A) for optimization efficiency\n",
    "- **Real-World Accuracy**: Accounts for Earth's curvature, not simple Euclidean distance\n",
    "- **Automatic Preprocessing**: Generates the cost matrix needed for TSP optimization\n",
    "\n",
    "### 📏 Expected Distances (km)\n",
    "\n",
    "The distance matrix shows realistic inter-city distances:\n",
    "- Berlin ↔ Hamburg: ~255 km\n",
    "- Berlin ↔ Munich: ~504 km  \n",
    "- Berlin ↔ Bonn: ~478 km\n",
    "- Hamburg ↔ Munich: ~612 km\n",
    "- Hamburg ↔ Bonn: ~370 km\n",
    "- Munich ↔ Bonn: ~434 km"
   ]
  },
  {
   "cell_type": "code",
   "id": "15066e0d104f7706",
   "metadata": {
    "ExecuteTime": {
     "end_time": "2025-06-17T12:51:40.801606Z",
     "start_time": "2025-06-17T12:51:40.793640Z"
    }
   },
   "source": [
    "cities = {\n",
    "    \"Berlin\": (52.52, 13.405),\n",
    "    \"Hamburg\": (53.5511, 9.9937),\n",
    "    \"Munich\": (48.1351, 11.582),\n",
    "    \"Bonn\": (50.7374, 7.0982),\n",
    "}\n",
    "distance_matrix = calculate_distance_matrix(cities)\n",
    "distance_matrix"
   ],
   "outputs": [
    {
     "data": {
      "text/plain": [
       "         Berlin  Hamburg  Munich  Bonn\n",
       "Berlin        0      255     504   478\n",
       "Hamburg     255        0     612   370\n",
       "Munich      504      612       0   434\n",
       "Bonn        478      370     434     0"
      ],
      "text/html": [
       "<div>\n",
       "<style scoped>\n",
       "    .dataframe tbody tr th:only-of-type {\n",
       "        vertical-align: middle;\n",
       "    }\n",
       "\n",
       "    .dataframe tbody tr th {\n",
       "        vertical-align: top;\n",
       "    }\n",
       "\n",
       "    .dataframe thead th {\n",
       "        text-align: right;\n",
       "    }\n",
       "</style>\n",
       "<table border=\"1\" class=\"dataframe\">\n",
       "  <thead>\n",
       "    <tr style=\"text-align: right;\">\n",
       "      <th></th>\n",
       "      <th>Berlin</th>\n",
       "      <th>Hamburg</th>\n",
       "      <th>Munich</th>\n",
       "      <th>Bonn</th>\n",
       "    </tr>\n",
       "  </thead>\n",
       "  <tbody>\n",
       "    <tr>\n",
       "      <th>Berlin</th>\n",
       "      <td>0</td>\n",
       "      <td>255</td>\n",
       "      <td>504</td>\n",
       "      <td>478</td>\n",
       "    </tr>\n",
       "    <tr>\n",
       "      <th>Hamburg</th>\n",
       "      <td>255</td>\n",
       "      <td>0</td>\n",
       "      <td>612</td>\n",
       "      <td>370</td>\n",
       "    </tr>\n",
       "    <tr>\n",
       "      <th>Munich</th>\n",
       "      <td>504</td>\n",
       "      <td>612</td>\n",
       "      <td>0</td>\n",
       "      <td>434</td>\n",
       "    </tr>\n",
       "    <tr>\n",
       "      <th>Bonn</th>\n",
       "      <td>478</td>\n",
       "      <td>370</td>\n",
       "      <td>434</td>\n",
       "      <td>0</td>\n",
       "    </tr>\n",
       "  </tbody>\n",
       "</table>\n",
       "</div>"
      ]
     },
     "execution_count": 18,
     "metadata": {},
     "output_type": "execute_result"
    }
   ],
   "execution_count": 18
  },
  {
   "cell_type": "markdown",
   "id": "9d375c9bcf34e981",
   "metadata": {},
   "source": [
    "### 🔗 Graph Representation\n",
    "\n",
    "We use NetworkX to create a mathematical representation of our TSP problem:\n",
    "\n",
    "**Graph Structure:**\n",
    "- **Nodes**: Cities with GPS coordinates as attributes\n",
    "- **Edges**: All possible routes between cities with distance weights\n",
    "- **Complete Graph**: Every city connects to every other city (K₄ graph)"
   ]
  },
  {
   "cell_type": "code",
   "id": "477c79d727d0b69",
   "metadata": {
    "ExecuteTime": {
     "end_time": "2025-06-17T12:51:40.843967Z",
     "start_time": "2025-06-17T12:51:40.840919Z"
    }
   },
   "source": [
    "# Create a graph\n",
    "G = nx.Graph()\n",
    "\n",
    "# Add nodes with their geographic coordinates\n",
    "for city, (lat, lon) in cities.items():\n",
    "    G.add_node(city, pos=(lon, lat))  # Note: NetworkX expects (x, y) = (lon, lat)\n",
    "\n",
    "# Add edges\n",
    "for city1, city2 in itertools.combinations(cities, 2):\n",
    "    G.add_edge(city1, city2, weight=distance_matrix[city1][city2])"
   ],
   "outputs": [],
   "execution_count": 19
  },
  {
   "cell_type": "markdown",
   "id": "6270dce95d985488",
   "metadata": {},
   "source": [
    "### Problem Visualization\n",
    "\n",
    "Luna Quantum's visualization capabilities provide immediate problem insights and solution validation:\n",
    "\n",
    "#### Interactive Map Features:\n",
    "- **🔴 Red Markers**: Precise city locations with real geographic coordinates\n",
    "- **🔵 Blue Connections**: All possible routes between cities with distance weighting\n",
    "- **🗺️ Geographic Context**: Real-world spatial relationships on an interactive map\n"
   ]
  },
  {
   "cell_type": "code",
   "id": "b75ffd4530c4c9ee",
   "metadata": {
    "ExecuteTime": {
     "end_time": "2025-06-17T12:51:40.907724Z",
     "start_time": "2025-06-17T12:51:40.880155Z"
    }
   },
   "source": [
    "map = plot_graph_on_map(G = G, cities = cities)\n",
    "map"
   ],
   "outputs": [
    {
     "data": {
      "text/plain": [
       "<folium.folium.Map at 0x118273170>"
      ],
      "text/html": [
       "<div style=\"width:100%;\"><div style=\"position:relative;width:100%;height:0;padding-bottom:60%;\"><span style=\"color:#565656\">Make this Notebook Trusted to load map: File -> Trust Notebook</span><iframe srcdoc=\"&lt;!DOCTYPE html&gt;\n",
       "&lt;html&gt;\n",
       "&lt;head&gt;\n",
       "    \n",
       "    &lt;meta http-equiv=&quot;content-type&quot; content=&quot;text/html; charset=UTF-8&quot; /&gt;\n",
       "    &lt;script src=&quot;https://cdn.jsdelivr.net/npm/leaflet@1.9.3/dist/leaflet.js&quot;&gt;&lt;/script&gt;\n",
       "    &lt;script src=&quot;https://code.jquery.com/jquery-3.7.1.min.js&quot;&gt;&lt;/script&gt;\n",
       "    &lt;script src=&quot;https://cdn.jsdelivr.net/npm/bootstrap@5.2.2/dist/js/bootstrap.bundle.min.js&quot;&gt;&lt;/script&gt;\n",
       "    &lt;script src=&quot;https://cdnjs.cloudflare.com/ajax/libs/Leaflet.awesome-markers/2.0.2/leaflet.awesome-markers.js&quot;&gt;&lt;/script&gt;\n",
       "    &lt;link rel=&quot;stylesheet&quot; href=&quot;https://cdn.jsdelivr.net/npm/leaflet@1.9.3/dist/leaflet.css&quot;/&gt;\n",
       "    &lt;link rel=&quot;stylesheet&quot; href=&quot;https://cdn.jsdelivr.net/npm/bootstrap@5.2.2/dist/css/bootstrap.min.css&quot;/&gt;\n",
       "    &lt;link rel=&quot;stylesheet&quot; href=&quot;https://netdna.bootstrapcdn.com/bootstrap/3.0.0/css/bootstrap-glyphicons.css&quot;/&gt;\n",
       "    &lt;link rel=&quot;stylesheet&quot; href=&quot;https://cdn.jsdelivr.net/npm/@fortawesome/fontawesome-free@6.2.0/css/all.min.css&quot;/&gt;\n",
       "    &lt;link rel=&quot;stylesheet&quot; href=&quot;https://cdnjs.cloudflare.com/ajax/libs/Leaflet.awesome-markers/2.0.2/leaflet.awesome-markers.css&quot;/&gt;\n",
       "    &lt;link rel=&quot;stylesheet&quot; href=&quot;https://cdn.jsdelivr.net/gh/python-visualization/folium/folium/templates/leaflet.awesome.rotate.min.css&quot;/&gt;\n",
       "    \n",
       "            &lt;meta name=&quot;viewport&quot; content=&quot;width=device-width,\n",
       "                initial-scale=1.0, maximum-scale=1.0, user-scalable=no&quot; /&gt;\n",
       "            &lt;style&gt;\n",
       "                #map_927ef370a1c6b40ce19ade46a7965857 {\n",
       "                    position: relative;\n",
       "                    width: 100.0%;\n",
       "                    height: 100.0%;\n",
       "                    left: 0.0%;\n",
       "                    top: 0.0%;\n",
       "                }\n",
       "                .leaflet-container { font-size: 1rem; }\n",
       "            &lt;/style&gt;\n",
       "\n",
       "            &lt;style&gt;html, body {\n",
       "                width: 100%;\n",
       "                height: 100%;\n",
       "                margin: 0;\n",
       "                padding: 0;\n",
       "            }\n",
       "            &lt;/style&gt;\n",
       "\n",
       "            &lt;style&gt;#map {\n",
       "                position:absolute;\n",
       "                top:0;\n",
       "                bottom:0;\n",
       "                right:0;\n",
       "                left:0;\n",
       "                }\n",
       "            &lt;/style&gt;\n",
       "\n",
       "            &lt;script&gt;\n",
       "                L_NO_TOUCH = false;\n",
       "                L_DISABLE_3D = false;\n",
       "            &lt;/script&gt;\n",
       "\n",
       "        \n",
       "&lt;/head&gt;\n",
       "&lt;body&gt;\n",
       "    \n",
       "    \n",
       "            &lt;div class=&quot;folium-map&quot; id=&quot;map_927ef370a1c6b40ce19ade46a7965857&quot; &gt;&lt;/div&gt;\n",
       "        \n",
       "&lt;/body&gt;\n",
       "&lt;script&gt;\n",
       "    \n",
       "    \n",
       "            var map_927ef370a1c6b40ce19ade46a7965857 = L.map(\n",
       "                &quot;map_927ef370a1c6b40ce19ade46a7965857&quot;,\n",
       "                {\n",
       "                    center: [51.1657, 10.4515],\n",
       "                    crs: L.CRS.EPSG3857,\n",
       "                    ...{\n",
       "  &quot;zoom&quot;: 7,\n",
       "  &quot;zoomControl&quot;: true,\n",
       "  &quot;preferCanvas&quot;: false,\n",
       "}\n",
       "\n",
       "                }\n",
       "            );\n",
       "\n",
       "            \n",
       "\n",
       "        \n",
       "    \n",
       "            var tile_layer_2cf1daf84d2da55d9ffbdfa418e16e8a = L.tileLayer(\n",
       "                &quot;https://tile.openstreetmap.org/{z}/{x}/{y}.png&quot;,\n",
       "                {\n",
       "  &quot;minZoom&quot;: 0,\n",
       "  &quot;maxZoom&quot;: 19,\n",
       "  &quot;maxNativeZoom&quot;: 19,\n",
       "  &quot;noWrap&quot;: false,\n",
       "  &quot;attribution&quot;: &quot;\\u0026copy; \\u003ca href=\\&quot;https://www.openstreetmap.org/copyright\\&quot;\\u003eOpenStreetMap\\u003c/a\\u003e contributors&quot;,\n",
       "  &quot;subdomains&quot;: &quot;abc&quot;,\n",
       "  &quot;detectRetina&quot;: false,\n",
       "  &quot;tms&quot;: false,\n",
       "  &quot;opacity&quot;: 1,\n",
       "}\n",
       "\n",
       "            );\n",
       "        \n",
       "    \n",
       "            tile_layer_2cf1daf84d2da55d9ffbdfa418e16e8a.addTo(map_927ef370a1c6b40ce19ade46a7965857);\n",
       "        \n",
       "    \n",
       "            var marker_2feb246d22ce11be26a18c1ad503a637 = L.marker(\n",
       "                [52.52, 13.405],\n",
       "                {\n",
       "}\n",
       "            ).addTo(map_927ef370a1c6b40ce19ade46a7965857);\n",
       "        \n",
       "    \n",
       "        var popup_f085284f52cff6e929acfa7c461a0485 = L.popup({\n",
       "  &quot;maxWidth&quot;: &quot;100%&quot;,\n",
       "});\n",
       "\n",
       "        \n",
       "            \n",
       "                var html_4bb2d12e53616eda5a7566d115e132b7 = $(`&lt;div id=&quot;html_4bb2d12e53616eda5a7566d115e132b7&quot; style=&quot;width: 100.0%; height: 100.0%;&quot;&gt;Berlin&lt;/div&gt;`)[0];\n",
       "                popup_f085284f52cff6e929acfa7c461a0485.setContent(html_4bb2d12e53616eda5a7566d115e132b7);\n",
       "            \n",
       "        \n",
       "\n",
       "        marker_2feb246d22ce11be26a18c1ad503a637.bindPopup(popup_f085284f52cff6e929acfa7c461a0485)\n",
       "        ;\n",
       "\n",
       "        \n",
       "    \n",
       "    \n",
       "            var marker_3f7fd852fc0d4634be349c07590f5769 = L.marker(\n",
       "                [53.5511, 9.9937],\n",
       "                {\n",
       "}\n",
       "            ).addTo(map_927ef370a1c6b40ce19ade46a7965857);\n",
       "        \n",
       "    \n",
       "        var popup_b5fce1eb8c5607c71531a83dd897c460 = L.popup({\n",
       "  &quot;maxWidth&quot;: &quot;100%&quot;,\n",
       "});\n",
       "\n",
       "        \n",
       "            \n",
       "                var html_24f97c28f86fe14098f9c38d3dd4c8f5 = $(`&lt;div id=&quot;html_24f97c28f86fe14098f9c38d3dd4c8f5&quot; style=&quot;width: 100.0%; height: 100.0%;&quot;&gt;Hamburg&lt;/div&gt;`)[0];\n",
       "                popup_b5fce1eb8c5607c71531a83dd897c460.setContent(html_24f97c28f86fe14098f9c38d3dd4c8f5);\n",
       "            \n",
       "        \n",
       "\n",
       "        marker_3f7fd852fc0d4634be349c07590f5769.bindPopup(popup_b5fce1eb8c5607c71531a83dd897c460)\n",
       "        ;\n",
       "\n",
       "        \n",
       "    \n",
       "    \n",
       "            var marker_bfc5c0e2164ff6d7d763b50a7d83050f = L.marker(\n",
       "                [48.1351, 11.582],\n",
       "                {\n",
       "}\n",
       "            ).addTo(map_927ef370a1c6b40ce19ade46a7965857);\n",
       "        \n",
       "    \n",
       "        var popup_724c0a7658943b14421603c493e60b86 = L.popup({\n",
       "  &quot;maxWidth&quot;: &quot;100%&quot;,\n",
       "});\n",
       "\n",
       "        \n",
       "            \n",
       "                var html_824bbe4838f539162cc89952578448b6 = $(`&lt;div id=&quot;html_824bbe4838f539162cc89952578448b6&quot; style=&quot;width: 100.0%; height: 100.0%;&quot;&gt;Munich&lt;/div&gt;`)[0];\n",
       "                popup_724c0a7658943b14421603c493e60b86.setContent(html_824bbe4838f539162cc89952578448b6);\n",
       "            \n",
       "        \n",
       "\n",
       "        marker_bfc5c0e2164ff6d7d763b50a7d83050f.bindPopup(popup_724c0a7658943b14421603c493e60b86)\n",
       "        ;\n",
       "\n",
       "        \n",
       "    \n",
       "    \n",
       "            var marker_4f3036b743a955455ec2fd5618ce8a84 = L.marker(\n",
       "                [50.7374, 7.0982],\n",
       "                {\n",
       "}\n",
       "            ).addTo(map_927ef370a1c6b40ce19ade46a7965857);\n",
       "        \n",
       "    \n",
       "        var popup_4c6f2b4b204c403ca2f1a0158c9f82b2 = L.popup({\n",
       "  &quot;maxWidth&quot;: &quot;100%&quot;,\n",
       "});\n",
       "\n",
       "        \n",
       "            \n",
       "                var html_4861ded15f880a320692cdeee057136d = $(`&lt;div id=&quot;html_4861ded15f880a320692cdeee057136d&quot; style=&quot;width: 100.0%; height: 100.0%;&quot;&gt;Bonn&lt;/div&gt;`)[0];\n",
       "                popup_4c6f2b4b204c403ca2f1a0158c9f82b2.setContent(html_4861ded15f880a320692cdeee057136d);\n",
       "            \n",
       "        \n",
       "\n",
       "        marker_4f3036b743a955455ec2fd5618ce8a84.bindPopup(popup_4c6f2b4b204c403ca2f1a0158c9f82b2)\n",
       "        ;\n",
       "\n",
       "        \n",
       "    \n",
       "    \n",
       "            var poly_line_9348477cce22cfb37cb5f8fd9923a41b = L.polyline(\n",
       "                [[52.52, 13.405], [53.5511, 9.9937]],\n",
       "                {&quot;bubblingMouseEvents&quot;: true, &quot;color&quot;: &quot;blue&quot;, &quot;dashArray&quot;: null, &quot;dashOffset&quot;: null, &quot;fill&quot;: false, &quot;fillColor&quot;: &quot;blue&quot;, &quot;fillOpacity&quot;: 0.2, &quot;fillRule&quot;: &quot;evenodd&quot;, &quot;lineCap&quot;: &quot;round&quot;, &quot;lineJoin&quot;: &quot;round&quot;, &quot;noClip&quot;: false, &quot;opacity&quot;: 0.7, &quot;smoothFactor&quot;: 1.0, &quot;stroke&quot;: true, &quot;weight&quot;: 3}\n",
       "            ).addTo(map_927ef370a1c6b40ce19ade46a7965857);\n",
       "        \n",
       "    \n",
       "            var poly_line_4c7ac060e7569f4dc23aaafdc661dd8e = L.polyline(\n",
       "                [[52.52, 13.405], [48.1351, 11.582]],\n",
       "                {&quot;bubblingMouseEvents&quot;: true, &quot;color&quot;: &quot;blue&quot;, &quot;dashArray&quot;: null, &quot;dashOffset&quot;: null, &quot;fill&quot;: false, &quot;fillColor&quot;: &quot;blue&quot;, &quot;fillOpacity&quot;: 0.2, &quot;fillRule&quot;: &quot;evenodd&quot;, &quot;lineCap&quot;: &quot;round&quot;, &quot;lineJoin&quot;: &quot;round&quot;, &quot;noClip&quot;: false, &quot;opacity&quot;: 0.7, &quot;smoothFactor&quot;: 1.0, &quot;stroke&quot;: true, &quot;weight&quot;: 3}\n",
       "            ).addTo(map_927ef370a1c6b40ce19ade46a7965857);\n",
       "        \n",
       "    \n",
       "            var poly_line_174ead02a3ab9a80fcff233d68936900 = L.polyline(\n",
       "                [[52.52, 13.405], [50.7374, 7.0982]],\n",
       "                {&quot;bubblingMouseEvents&quot;: true, &quot;color&quot;: &quot;blue&quot;, &quot;dashArray&quot;: null, &quot;dashOffset&quot;: null, &quot;fill&quot;: false, &quot;fillColor&quot;: &quot;blue&quot;, &quot;fillOpacity&quot;: 0.2, &quot;fillRule&quot;: &quot;evenodd&quot;, &quot;lineCap&quot;: &quot;round&quot;, &quot;lineJoin&quot;: &quot;round&quot;, &quot;noClip&quot;: false, &quot;opacity&quot;: 0.7, &quot;smoothFactor&quot;: 1.0, &quot;stroke&quot;: true, &quot;weight&quot;: 3}\n",
       "            ).addTo(map_927ef370a1c6b40ce19ade46a7965857);\n",
       "        \n",
       "    \n",
       "            var poly_line_015536505689a56d86b92e4cd57f9cec = L.polyline(\n",
       "                [[53.5511, 9.9937], [48.1351, 11.582]],\n",
       "                {&quot;bubblingMouseEvents&quot;: true, &quot;color&quot;: &quot;blue&quot;, &quot;dashArray&quot;: null, &quot;dashOffset&quot;: null, &quot;fill&quot;: false, &quot;fillColor&quot;: &quot;blue&quot;, &quot;fillOpacity&quot;: 0.2, &quot;fillRule&quot;: &quot;evenodd&quot;, &quot;lineCap&quot;: &quot;round&quot;, &quot;lineJoin&quot;: &quot;round&quot;, &quot;noClip&quot;: false, &quot;opacity&quot;: 0.7, &quot;smoothFactor&quot;: 1.0, &quot;stroke&quot;: true, &quot;weight&quot;: 3}\n",
       "            ).addTo(map_927ef370a1c6b40ce19ade46a7965857);\n",
       "        \n",
       "    \n",
       "            var poly_line_2a024801d6e6394c35fa8122534a7d71 = L.polyline(\n",
       "                [[53.5511, 9.9937], [50.7374, 7.0982]],\n",
       "                {&quot;bubblingMouseEvents&quot;: true, &quot;color&quot;: &quot;blue&quot;, &quot;dashArray&quot;: null, &quot;dashOffset&quot;: null, &quot;fill&quot;: false, &quot;fillColor&quot;: &quot;blue&quot;, &quot;fillOpacity&quot;: 0.2, &quot;fillRule&quot;: &quot;evenodd&quot;, &quot;lineCap&quot;: &quot;round&quot;, &quot;lineJoin&quot;: &quot;round&quot;, &quot;noClip&quot;: false, &quot;opacity&quot;: 0.7, &quot;smoothFactor&quot;: 1.0, &quot;stroke&quot;: true, &quot;weight&quot;: 3}\n",
       "            ).addTo(map_927ef370a1c6b40ce19ade46a7965857);\n",
       "        \n",
       "    \n",
       "            var poly_line_3946e062402270204f2aff2bb26ced57 = L.polyline(\n",
       "                [[48.1351, 11.582], [50.7374, 7.0982]],\n",
       "                {&quot;bubblingMouseEvents&quot;: true, &quot;color&quot;: &quot;blue&quot;, &quot;dashArray&quot;: null, &quot;dashOffset&quot;: null, &quot;fill&quot;: false, &quot;fillColor&quot;: &quot;blue&quot;, &quot;fillOpacity&quot;: 0.2, &quot;fillRule&quot;: &quot;evenodd&quot;, &quot;lineCap&quot;: &quot;round&quot;, &quot;lineJoin&quot;: &quot;round&quot;, &quot;noClip&quot;: false, &quot;opacity&quot;: 0.7, &quot;smoothFactor&quot;: 1.0, &quot;stroke&quot;: true, &quot;weight&quot;: 3}\n",
       "            ).addTo(map_927ef370a1c6b40ce19ade46a7965857);\n",
       "        \n",
       "&lt;/script&gt;\n",
       "&lt;/html&gt;\" style=\"position:absolute;width:100%;height:100%;left:0;top:0;border:none !important;\" allowfullscreen webkitallowfullscreen mozallowfullscreen></iframe></div></div>"
      ]
     },
     "execution_count": 20,
     "metadata": {},
     "output_type": "execute_result"
    }
   ],
   "execution_count": 20
  },
  {
   "cell_type": "markdown",
   "id": "3ef5cbf3e5a83f58",
   "metadata": {},
   "source": [
    "# 🚀 Building Optimization Models with Luna Quantum\n",
    "\n",
    "![LunaSolve Flow Model](plots/FlowModel.png)\n",
    "\n",
    "## Method 1: Predefined Use Cases - Luna Quantum's Rapid Development Engine\n",
    "\n",
    "Luna Quantum's predefined use cases represent a revolutionary approach to optimization development. Instead of reinventing the wheel for common problems, Luna Quantum provides battle-tested, optimized implementations that work out-of-the-box.\n",
    "\n",
    "### Luna Quantum's Use Case Advantages:\n",
    "\n",
    "🎯 **Zero Setup Time**: Transform raw data into optimized models in seconds  \n",
    "🧠 **Expert Formulations**: Each use case embodies years of optimization research and best practices  \n",
    "🔄 **Automatic Preprocessing**: Intelligent data validation, scaling, and constraint generation  \n",
    "⚡ **Performance Optimized**: Pre-tuned for maximum efficiency across different algorithm types  \n",
    "🛡️ **Production Ready**: Enterprise-grade reliability with comprehensive error handling  \n"
   ]
  },
  {
   "cell_type": "code",
   "id": "b1f1ad95da0f0817",
   "metadata": {
    "ExecuteTime": {
     "end_time": "2025-06-17T12:51:42.507224Z",
     "start_time": "2025-06-17T12:51:40.943432Z"
    }
   },
   "source": [
    "# Instantiate Luna\n",
    "ls = LunaSolve()\n",
    "tsp_graph = nx.to_dict_of_dicts(G)\n",
    "\n",
    "# Use predefined use case to define model\n",
    "tsp = TravellingSalesmanProblem(graph=tsp_graph)\n",
    "model = ls.model.create_from_use_case(name=\"predefined TSP\", use_case=tsp)\n",
    "print(ls.model.get_model(model.id))"
   ],
   "outputs": [
    {
     "name": "stdout",
     "output_type": "stream",
     "text": [
      "Model: predefined TSP\n",
      "Minimize\n",
      "  1226 * x_0 * x_1 + 1226 * x_0 * x_2 + 1226 * x_0 * x_3 + 1226 * x_0 * x_4 \n",
      "  + 255 * x_0 * x_5 + 255 * x_0 * x_7 + 1226 * x_0 * x_8 + 504 * x_0 * x_9 \n",
      "  + 504 * x_0 * x_11 + 1226 * x_0 * x_12 + 478 * x_0 * x_13 + 478 * x_0 * x_15 \n",
      "  + 1226 * x_1 * x_2 + 1226 * x_1 * x_3 + 255 * x_1 * x_4 + 1226 * x_1 * x_5 \n",
      "  + 255 * x_1 * x_6 + 504 * x_1 * x_8 + 1226 * x_1 * x_9 + 504 * x_1 * x_10 \n",
      "  + 478 * x_1 * x_12 + 1226 * x_1 * x_13 + 478 * x_1 * x_14 + 1226 * x_2 * x_3 \n",
      "  + 255 * x_2 * x_5 + 1226 * x_2 * x_6 + 255 * x_2 * x_7 + 504 * x_2 * x_9 \n",
      "  + 1226 * x_2 * x_10 + 504 * x_2 * x_11 + 478 * x_2 * x_13 + 1226 * x_2 * x_14 \n",
      "  + 478 * x_2 * x_15 + 255 * x_3 * x_4 + 255 * x_3 * x_6 + 1226 * x_3 * x_7 \n",
      "  + 504 * x_3 * x_8 + 504 * x_3 * x_10 + 1226 * x_3 * x_11 + 478 * x_3 * x_12 \n",
      "  + 478 * x_3 * x_14 + 1226 * x_3 * x_15 + 1226 * x_4 * x_5 + 1226 * x_4 * x_6 \n",
      "  + 1226 * x_4 * x_7 + 1226 * x_4 * x_8 + 612 * x_4 * x_9 + 612 * x_4 * x_11 \n",
      "  + 1226 * x_4 * x_12 + 370 * x_4 * x_13 + 370 * x_4 * x_15 + 1226 * x_5 * x_6 \n",
      "  + 1226 * x_5 * x_7 + 612 * x_5 * x_8 + 1226 * x_5 * x_9 + 612 * x_5 * x_10 \n",
      "  + 370 * x_5 * x_12 + 1226 * x_5 * x_13 + 370 * x_5 * x_14 + 1226 * x_6 * x_7 \n",
      "  + 612 * x_6 * x_9 + 1226 * x_6 * x_10 + 612 * x_6 * x_11 + 370 * x_6 * x_13 \n",
      "  + 1226 * x_6 * x_14 + 370 * x_6 * x_15 + 612 * x_7 * x_8 + 612 * x_7 * x_10 \n",
      "  + 1226 * x_7 * x_11 + 370 * x_7 * x_12 + 370 * x_7 * x_14 + 1226 * x_7 * x_15 \n",
      "  + 1226 * x_8 * x_9 + 1226 * x_8 * x_10 + 1226 * x_8 * x_11 + 1226 * x_8 * x_12\n",
      "  + 434 * x_8 * x_13 + 434 * x_8 * x_15 + 1226 * x_9 * x_10 + 1226 * x_9 * x_11 \n",
      "  + 434 * x_9 * x_12 + 1226 * x_9 * x_13 + 434 * x_9 * x_14 + 1226 * x_10 * x_11\n",
      "  + 434 * x_10 * x_13 + 1226 * x_10 * x_14 + 434 * x_10 * x_15 \n",
      "  + 434 * x_11 * x_12 + 434 * x_11 * x_14 + 1226 * x_11 * x_15 \n",
      "  + 1226 * x_12 * x_13 + 1226 * x_12 * x_14 + 1226 * x_12 * x_15 \n",
      "  + 1226 * x_13 * x_14 + 1226 * x_13 * x_15 + 1226 * x_14 * x_15 - 1226 * x_0 \n",
      "  - 1226 * x_1 - 1226 * x_2 - 1226 * x_3 - 1226 * x_4 - 1226 * x_5 - 1226 * x_6 \n",
      "  - 1226 * x_7 - 1226 * x_8 - 1226 * x_9 - 1226 * x_10 - 1226 * x_11 \n",
      "  - 1226 * x_12 - 1226 * x_13 - 1226 * x_14 - 1226 * x_15\n",
      "Bounds\n",
      "  0 <= x_0 <= 1\n",
      "  0 <= x_1 <= 1\n",
      "  0 <= x_2 <= 1\n",
      "  0 <= x_3 <= 1\n",
      "  0 <= x_4 <= 1\n",
      "  0 <= x_5 <= 1\n",
      "  0 <= x_6 <= 1\n",
      "  0 <= x_7 <= 1\n",
      "  0 <= x_8 <= 1\n",
      "  0 <= x_9 <= 1\n",
      "  0 <= x_10 <= 1\n",
      "  0 <= x_11 <= 1\n",
      "  0 <= x_12 <= 1\n",
      "  0 <= x_13 <= 1\n",
      "  0 <= x_14 <= 1\n",
      "  0 <= x_15 <= 1\n",
      "Binary\n",
      "  x_0 x_1 x_2 x_3 x_4 x_5 x_6 x_7 x_8 x_9 x_10 x_11 x_12 x_13 x_14 x_15\n"
     ]
    }
   ],
   "execution_count": 21
  },
  {
   "cell_type": "markdown",
   "id": "e4ac98f2a11d786d",
   "metadata": {},
   "source": [
    "## Method 2: AqModels - Luna Quantum's Advanced Custom Modeling Engine\n",
    "\n",
    "**AqModels** represents Luna Quantum's core package for advanced optimization modeling.\n",
    "This powerful framework combines the best practices of classical optimization with cutting-edge quantum capabilities, providing flexibility and control.\n",
    "\n",
    "### 🌟 AqModels Revolutionary Features:\n",
    "\n",
    "#### **Unified Classical-Quantum Interface**\n",
    "- **Single API** for both classical and quantum algorithm development\n",
    "- **Automatic problem transformations** (LP → QUBO, QUBO → Ising, etc.)\n",
    "- **Algorithm-agnostic modeling** - write once, solve anywhere\n",
    "\n",
    "#### **Intelligent Abstraction Layer**\n",
    "- **Smart constraint handling** with automatic feasibility checking\n",
    "- **Built-in variable management** with type safety and bounds checking  \n",
    "- **Optimization-aware preprocessing** for maximum solver performance\n",
    "\n",
    "#### **Production-Grade Reliability**\n",
    "- **Comprehensive error checking** and validation\n",
    "- **Scalable architecture** handling problems from toy examples to enterprise scale\n",
    "- **Memory-efficient representations** for large-scale optimization\n",
    "\n",
    "### 🚀 Position-Based TSP Formulation\n",
    "\n",
    "The custom model below demonstrates AqModels' sophistication by implementing a **position-based TSP formulation**:\n",
    "\n",
    "**Key Concepts:**\n",
    "- **Fixed Starting City**: Berlin is always position 0 (reduces problem complexity)\n",
    "- **Position Variables**: `x[city, position] = 1` if city is visited at that position\n",
    "- **Constraint Types**: Each city visited once, each position filled once\n",
    "- **Penalty vs Constraints**: Choose between hard constraints or penalty-based QUBO formulation\n",
    "\n",
    "**Mathematical Formulation:**\n",
    "- **Variables**: `x[i,j] ∈ {0,1}` where i=city, j=position\n",
    "- **Objective**: Minimize total distance including start/end connections\n",
    "- **Constraints**: Assignment constraints ensure valid tours"
   ]
  },
  {
   "cell_type": "code",
   "id": "f10141a478afaf8f",
   "metadata": {
    "ExecuteTime": {
     "end_time": "2025-06-17T12:58:31.359441Z",
     "start_time": "2025-06-17T12:58:31.344241Z"
    }
   },
   "source": [
    "# Traveling Salesman Problem (TSP) - Position-Based Formulation\n",
    "# This implementation uses a position-based approach where each city is assigned\n",
    "# to a specific position in the tour (except the starting city which is fixed)\n",
    "\n",
    "# Initialize the model and fix starting city\n",
    "travel_cities = list(cities.keys())\n",
    "start_city = travel_cities.pop(0)\n",
    "n_nodes = len(cities)\n",
    "\n",
    "model = Model()\n",
    "x = {}\n",
    "with model.environment:\n",
    "    # Decision Variables x[i, j] = 1 if city i is visited at position j in the tour, 0 otherwise\n",
    "    for i in travel_cities:\n",
    "        for j in range(1, n_nodes):\n",
    "            x[i, j] = Variable(f\"x_{i}_{j}\", vtype=Vtype.Binary)\n",
    "\n",
    "# Objective Function: Minimize total travel distance\n",
    "\n",
    "# Distance from and to starting city\n",
    "for i in travel_cities:\n",
    "    model.objective += distance_matrix[start_city][i] * x[i, 1]\n",
    "    model.objective += distance_matrix[i][start_city] * x[i, n_nodes-1]\n",
    "\n",
    "# Distance between consecutive positions in the tour\n",
    "for pos in range(1, n_nodes-1):\n",
    "    for i, j in itertools.combinations(travel_cities, 2):\n",
    "        # If city i is at position 'pos' AND city j is at position 'pos+1'\n",
    "        # then add distance from i to j and its reverse\n",
    "        model.objective += distance_matrix[i][j] * x[i, pos] * x[j, pos+1]\n",
    "        model.objective += distance_matrix[j][i] * x[j, pos] * x[i, pos+1]\n",
    "\n",
    "# Constraints as penalty terms in objective\n",
    "penalty_term = float(distance_matrix.max().max()) *10\n",
    "constrained_model = False\n",
    "from luna_quantum import quicksum\n",
    "# Constraint 1: Each city (except the starting city) must be visited exactly once\n",
    "for i in travel_cities:\n",
    "    lhs = quicksum(x[i, j] for j in range(1, n_nodes))\n",
    "    if constrained_model:\n",
    "        model.add_constraint(lhs == 1, name=f\"city_{i}_visited_once\")\n",
    "    else:\n",
    "        model.objective += penalty_term * (lhs**2) + penalty_term - 2*lhs*penalty_term\n",
    "\n",
    "# Constraint 2: # Each position (except position 0 which is fixed to start_city)\n",
    "# must be occupied by exactly one city\n",
    "for j in range(1, n_nodes):\n",
    "    lhs = sum(x[i, j] for i in travel_cities)\n",
    "    if constrained_model:\n",
    "        model.add_constraint(lhs == 1, name=f\"pos_{j}_occupied_once\")\n",
    "    else:\n",
    "        model.objective += penalty_term * (lhs**2) + penalty_term - 2*lhs*penalty_term\n",
    "\n",
    "# The final model\n",
    "print(model)\n",
    "\n",
    "# easily save model\n",
    "LpTranslator.from_aq(model = model, filepath ='tsp_model')"
   ],
   "outputs": [
    {
     "name": "stdout",
     "output_type": "stream",
     "text": [
      "Model: unnamed\n",
      "Minimize\n",
      "  12240 * x_Hamburg_1 * x_Hamburg_2 + 12240 * x_Hamburg_1 * x_Hamburg_3 \n",
      "  + 12240 * x_Hamburg_1 * x_Munich_1 + 612 * x_Hamburg_1 * x_Munich_2 \n",
      "  + 12240 * x_Hamburg_1 * x_Bonn_1 + 370 * x_Hamburg_1 * x_Bonn_2 \n",
      "  + 12240 * x_Hamburg_2 * x_Hamburg_3 + 612 * x_Hamburg_2 * x_Munich_1 \n",
      "  + 12240 * x_Hamburg_2 * x_Munich_2 + 612 * x_Hamburg_2 * x_Munich_3 \n",
      "  + 370 * x_Hamburg_2 * x_Bonn_1 + 12240 * x_Hamburg_2 * x_Bonn_2 \n",
      "  + 370 * x_Hamburg_2 * x_Bonn_3 + 612 * x_Hamburg_3 * x_Munich_2 \n",
      "  + 12240 * x_Hamburg_3 * x_Munich_3 + 370 * x_Hamburg_3 * x_Bonn_2 \n",
      "  + 12240 * x_Hamburg_3 * x_Bonn_3 + 12240 * x_Munich_1 * x_Munich_2 \n",
      "  + 12240 * x_Munich_1 * x_Munich_3 + 12240 * x_Munich_1 * x_Bonn_1 \n",
      "  + 434 * x_Munich_1 * x_Bonn_2 + 12240 * x_Munich_2 * x_Munich_3 \n",
      "  + 434 * x_Munich_2 * x_Bonn_1 + 12240 * x_Munich_2 * x_Bonn_2 \n",
      "  + 434 * x_Munich_2 * x_Bonn_3 + 434 * x_Munich_3 * x_Bonn_2 \n",
      "  + 12240 * x_Munich_3 * x_Bonn_3 + 12240 * x_Bonn_1 * x_Bonn_2 \n",
      "  + 12240 * x_Bonn_1 * x_Bonn_3 + 12240 * x_Bonn_2 * x_Bonn_3 \n",
      "  - 11985 * x_Hamburg_1 - 12240 * x_Hamburg_2 - 11985 * x_Hamburg_3 \n",
      "  - 11736 * x_Munich_1 - 12240 * x_Munich_2 - 11736 * x_Munich_3 \n",
      "  - 11762 * x_Bonn_1 - 12240 * x_Bonn_2 - 11762 * x_Bonn_3 + 36720\n",
      "Bounds\n",
      "  0 <= x_Hamburg_1 <= 1\n",
      "  0 <= x_Hamburg_2 <= 1\n",
      "  0 <= x_Hamburg_3 <= 1\n",
      "  0 <= x_Munich_1 <= 1\n",
      "  0 <= x_Munich_2 <= 1\n",
      "  0 <= x_Munich_3 <= 1\n",
      "  0 <= x_Bonn_1 <= 1\n",
      "  0 <= x_Bonn_2 <= 1\n",
      "  0 <= x_Bonn_3 <= 1\n",
      "Binary\n",
      "  x_Hamburg_1 x_Hamburg_2 x_Hamburg_3 x_Munich_1 x_Munich_2 x_Munich_3 x_Bonn_1 \n",
      "  x_Bonn_2 x_Bonn_3\n"
     ]
    }
   ],
   "execution_count": 31
  },
  {
   "cell_type": "markdown",
   "id": "e46a9e4b8cf8aa4c",
   "metadata": {},
   "source": [
    "### 🔐 Authentication Setup\n",
    "\n",
    "Before running optimization jobs, we need to set up authentication for quantum hardware access:"
   ]
  },
  {
   "cell_type": "code",
   "id": "8244eeb4874be67d",
   "metadata": {
    "ExecuteTime": {
     "end_time": "2025-06-17T12:51:43.064273Z",
     "start_time": "2025-06-17T12:51:42.542391Z"
    }
   },
   "source": [
    "# Set up D-Wave quantum computing token\n",
    "\n",
    "personal_qpu_token = ls.qpu_token.create(\n",
    "    provider='dwave',\n",
    "    name='my-dwave-token',\n",
    "    token=os.environ.get(\"DWAVE_TOKEN\"),  # Set this environment variable\n",
    "    token_type=\"personal\"\n",
    ")\n"
   ],
   "outputs": [
    {
     "data": {
      "text/plain": [
       "\u001B[2;36m2025-06-17 14:51:42\u001B[0m\u001B[2;36m \u001B[0m\u001B[1;91mERROR   \u001B[0m The Luna-Server reported the error \u001B[32m'QPU_TOKEN_NAME_ALREADY_EXISTS'\u001B[0m with the message:  \n",
       "\u001B[2;36m                    \u001B[0m          The provided QPU-Token-Name already exists.                                          \n"
      ],
      "text/html": [
       "<pre style=\"white-space:pre;overflow-x:auto;line-height:normal;font-family:Menlo,'DejaVu Sans Mono',consolas,'Courier New',monospace\"><span style=\"color: #7fbfbf; text-decoration-color: #7fbfbf\">2025-06-17 14:51:42 </span><span style=\"color: #ff0000; text-decoration-color: #ff0000; font-weight: bold\">ERROR   </span> The Luna-Server reported the error <span style=\"color: #008000; text-decoration-color: #008000\">'QPU_TOKEN_NAME_ALREADY_EXISTS'</span> with the message:  \n",
       "<span style=\"color: #7fbfbf; text-decoration-color: #7fbfbf\">                    </span>          The provided QPU-Token-Name already exists.                                          \n",
       "</pre>\n"
      ]
     },
     "metadata": {},
     "output_type": "display_data"
    },
    {
     "ename": "LunaServerError",
     "evalue": "The Luna-Server reported the error 'QPU_TOKEN_NAME_ALREADY_EXISTS' with the message:\n The provided QPU-Token-Name already exists.",
     "output_type": "error",
     "traceback": [
      "\u001B[31m---------------------------------------------------------------------------\u001B[39m",
      "\u001B[31mLunaServerError\u001B[39m                           Traceback (most recent call last)",
      "\u001B[36mCell\u001B[39m\u001B[36m \u001B[39m\u001B[32mIn[23]\u001B[39m\u001B[32m, line 3\u001B[39m\n\u001B[32m      1\u001B[39m \u001B[38;5;66;03m# Set up D-Wave quantum computing token\u001B[39;00m\n\u001B[32m----> \u001B[39m\u001B[32m3\u001B[39m personal_qpu_token = \u001B[43mls\u001B[49m\u001B[43m.\u001B[49m\u001B[43mqpu_token\u001B[49m\u001B[43m.\u001B[49m\u001B[43mcreate\u001B[49m\u001B[43m(\u001B[49m\n\u001B[32m      4\u001B[39m \u001B[43m    \u001B[49m\u001B[43mprovider\u001B[49m\u001B[43m=\u001B[49m\u001B[33;43m'\u001B[39;49m\u001B[33;43mdwave\u001B[39;49m\u001B[33;43m'\u001B[39;49m\u001B[43m,\u001B[49m\n\u001B[32m      5\u001B[39m \u001B[43m    \u001B[49m\u001B[43mname\u001B[49m\u001B[43m=\u001B[49m\u001B[33;43m'\u001B[39;49m\u001B[33;43mmy-dwave-token\u001B[39;49m\u001B[33;43m'\u001B[39;49m\u001B[43m,\u001B[49m\n\u001B[32m      6\u001B[39m \u001B[43m    \u001B[49m\u001B[43mtoken\u001B[49m\u001B[43m=\u001B[49m\u001B[43mos\u001B[49m\u001B[43m.\u001B[49m\u001B[43menviron\u001B[49m\u001B[43m.\u001B[49m\u001B[43mget\u001B[49m\u001B[43m(\u001B[49m\u001B[33;43m\"\u001B[39;49m\u001B[33;43mDWAVE_TOKEN\u001B[39;49m\u001B[33;43m\"\u001B[39;49m\u001B[43m)\u001B[49m\u001B[43m,\u001B[49m\u001B[43m  \u001B[49m\u001B[38;5;66;43;03m# Set this environment variable\u001B[39;49;00m\n\u001B[32m      7\u001B[39m \u001B[43m    \u001B[49m\u001B[43mtoken_type\u001B[49m\u001B[43m=\u001B[49m\u001B[33;43m\"\u001B[39;49m\u001B[33;43mpersonal\u001B[39;49m\u001B[33;43m\"\u001B[39;49m\n\u001B[32m      8\u001B[39m \u001B[43m)\u001B[49m\n",
      "\u001B[36mFile \u001B[39m\u001B[32m~/PycharmProjects/LunaDemo/.venv/lib/python3.12/site-packages/luna_quantum/client/rest_client/qpu_token_rest_client.py:90\u001B[39m, in \u001B[36mQpuTokenRestClient.create\u001B[39m\u001B[34m(self, name, provider, token, token_type, **kwargs)\u001B[39m\n\u001B[32m     61\u001B[39m \u001B[38;5;250m\u001B[39m\u001B[33;03m\"\"\"\u001B[39;00m\n\u001B[32m     62\u001B[39m \u001B[33;03mCreate QPU token.\u001B[39;00m\n\u001B[32m     63\u001B[39m \n\u001B[32m   (...)\u001B[39m\u001B[32m     82\u001B[39m \u001B[33;03m    QpuToken instances.\u001B[39;00m\n\u001B[32m     83\u001B[39m \u001B[33;03m\"\"\"\u001B[39;00m\n\u001B[32m     84\u001B[39m qpu_token = QpuTokenIn(\n\u001B[32m     85\u001B[39m     name=name,\n\u001B[32m     86\u001B[39m     provider=provider,\n\u001B[32m     87\u001B[39m     token=token,\n\u001B[32m     88\u001B[39m )\n\u001B[32m---> \u001B[39m\u001B[32m90\u001B[39m response: Response = \u001B[38;5;28;43mself\u001B[39;49m\u001B[43m.\u001B[49m\u001B[43m_client\u001B[49m\u001B[43m.\u001B[49m\u001B[43mpost\u001B[49m\u001B[43m(\u001B[49m\n\u001B[32m     91\u001B[39m \u001B[43m    \u001B[49m\u001B[38;5;28;43mself\u001B[39;49m\u001B[43m.\u001B[49m\u001B[43m_get_endpoint_by_type\u001B[49m\u001B[43m(\u001B[49m\u001B[43mtoken_type\u001B[49m\u001B[43m)\u001B[49m\u001B[43m,\u001B[49m\n\u001B[32m     92\u001B[39m \u001B[43m    \u001B[49m\u001B[43mcontent\u001B[49m\u001B[43m=\u001B[49m\u001B[43mqpu_token\u001B[49m\u001B[43m.\u001B[49m\u001B[43mmodel_dump_json\u001B[49m\u001B[43m(\u001B[49m\u001B[43m)\u001B[49m\u001B[43m,\u001B[49m\n\u001B[32m     93\u001B[39m \u001B[43m    \u001B[49m\u001B[43m*\u001B[49m\u001B[43m*\u001B[49m\u001B[43mkwargs\u001B[49m\u001B[43m,\u001B[49m\n\u001B[32m     94\u001B[39m \u001B[43m\u001B[49m\u001B[43m)\u001B[49m\n\u001B[32m     95\u001B[39m response.raise_for_status()\n\u001B[32m     96\u001B[39m qpu_token_data = response.json()\n",
      "\u001B[36mFile \u001B[39m\u001B[32m~/PycharmProjects/LunaDemo/.venv/lib/python3.12/site-packages/httpx/_client.py:1144\u001B[39m, in \u001B[36mClient.post\u001B[39m\u001B[34m(self, url, content, data, files, json, params, headers, cookies, auth, follow_redirects, timeout, extensions)\u001B[39m\n\u001B[32m   1123\u001B[39m \u001B[38;5;28;01mdef\u001B[39;00m\u001B[38;5;250m \u001B[39m\u001B[34mpost\u001B[39m(\n\u001B[32m   1124\u001B[39m     \u001B[38;5;28mself\u001B[39m,\n\u001B[32m   1125\u001B[39m     url: URL | \u001B[38;5;28mstr\u001B[39m,\n\u001B[32m   (...)\u001B[39m\u001B[32m   1137\u001B[39m     extensions: RequestExtensions | \u001B[38;5;28;01mNone\u001B[39;00m = \u001B[38;5;28;01mNone\u001B[39;00m,\n\u001B[32m   1138\u001B[39m ) -> Response:\n\u001B[32m   1139\u001B[39m \u001B[38;5;250m    \u001B[39m\u001B[33;03m\"\"\"\u001B[39;00m\n\u001B[32m   1140\u001B[39m \u001B[33;03m    Send a `POST` request.\u001B[39;00m\n\u001B[32m   1141\u001B[39m \n\u001B[32m   1142\u001B[39m \u001B[33;03m    **Parameters**: See `httpx.request`.\u001B[39;00m\n\u001B[32m   1143\u001B[39m \u001B[33;03m    \"\"\"\u001B[39;00m\n\u001B[32m-> \u001B[39m\u001B[32m1144\u001B[39m     \u001B[38;5;28;01mreturn\u001B[39;00m \u001B[38;5;28;43mself\u001B[39;49m\u001B[43m.\u001B[49m\u001B[43mrequest\u001B[49m\u001B[43m(\u001B[49m\n\u001B[32m   1145\u001B[39m \u001B[43m        \u001B[49m\u001B[33;43m\"\u001B[39;49m\u001B[33;43mPOST\u001B[39;49m\u001B[33;43m\"\u001B[39;49m\u001B[43m,\u001B[49m\n\u001B[32m   1146\u001B[39m \u001B[43m        \u001B[49m\u001B[43murl\u001B[49m\u001B[43m,\u001B[49m\n\u001B[32m   1147\u001B[39m \u001B[43m        \u001B[49m\u001B[43mcontent\u001B[49m\u001B[43m=\u001B[49m\u001B[43mcontent\u001B[49m\u001B[43m,\u001B[49m\n\u001B[32m   1148\u001B[39m \u001B[43m        \u001B[49m\u001B[43mdata\u001B[49m\u001B[43m=\u001B[49m\u001B[43mdata\u001B[49m\u001B[43m,\u001B[49m\n\u001B[32m   1149\u001B[39m \u001B[43m        \u001B[49m\u001B[43mfiles\u001B[49m\u001B[43m=\u001B[49m\u001B[43mfiles\u001B[49m\u001B[43m,\u001B[49m\n\u001B[32m   1150\u001B[39m \u001B[43m        \u001B[49m\u001B[43mjson\u001B[49m\u001B[43m=\u001B[49m\u001B[43mjson\u001B[49m\u001B[43m,\u001B[49m\n\u001B[32m   1151\u001B[39m \u001B[43m        \u001B[49m\u001B[43mparams\u001B[49m\u001B[43m=\u001B[49m\u001B[43mparams\u001B[49m\u001B[43m,\u001B[49m\n\u001B[32m   1152\u001B[39m \u001B[43m        \u001B[49m\u001B[43mheaders\u001B[49m\u001B[43m=\u001B[49m\u001B[43mheaders\u001B[49m\u001B[43m,\u001B[49m\n\u001B[32m   1153\u001B[39m \u001B[43m        \u001B[49m\u001B[43mcookies\u001B[49m\u001B[43m=\u001B[49m\u001B[43mcookies\u001B[49m\u001B[43m,\u001B[49m\n\u001B[32m   1154\u001B[39m \u001B[43m        \u001B[49m\u001B[43mauth\u001B[49m\u001B[43m=\u001B[49m\u001B[43mauth\u001B[49m\u001B[43m,\u001B[49m\n\u001B[32m   1155\u001B[39m \u001B[43m        \u001B[49m\u001B[43mfollow_redirects\u001B[49m\u001B[43m=\u001B[49m\u001B[43mfollow_redirects\u001B[49m\u001B[43m,\u001B[49m\n\u001B[32m   1156\u001B[39m \u001B[43m        \u001B[49m\u001B[43mtimeout\u001B[49m\u001B[43m=\u001B[49m\u001B[43mtimeout\u001B[49m\u001B[43m,\u001B[49m\n\u001B[32m   1157\u001B[39m \u001B[43m        \u001B[49m\u001B[43mextensions\u001B[49m\u001B[43m=\u001B[49m\u001B[43mextensions\u001B[49m\u001B[43m,\u001B[49m\n\u001B[32m   1158\u001B[39m \u001B[43m    \u001B[49m\u001B[43m)\u001B[49m\n",
      "\u001B[36mFile \u001B[39m\u001B[32m~/PycharmProjects/LunaDemo/.venv/lib/python3.12/site-packages/luna_quantum/client/controllers/luna_http_client.py:32\u001B[39m, in \u001B[36mLunaHTTPClient.request\u001B[39m\u001B[34m(self, *args, **kwargs)\u001B[39m\n\u001B[32m     30\u001B[39m \u001B[38;5;250m\u001B[39m\u001B[33;03m\"\"\"Send request to Luna platform.\"\"\"\u001B[39;00m\n\u001B[32m     31\u001B[39m \u001B[38;5;28;01mtry\u001B[39;00m:\n\u001B[32m---> \u001B[39m\u001B[32m32\u001B[39m     response: Response = \u001B[38;5;28;43msuper\u001B[39;49m\u001B[43m(\u001B[49m\u001B[43m)\u001B[49m\u001B[43m.\u001B[49m\u001B[43mrequest\u001B[49m\u001B[43m(\u001B[49m\u001B[43m*\u001B[49m\u001B[43margs\u001B[49m\u001B[43m,\u001B[49m\u001B[43m \u001B[49m\u001B[43m*\u001B[49m\u001B[43m*\u001B[49m\u001B[43mkwargs\u001B[49m\u001B[43m)\u001B[49m\n\u001B[32m     33\u001B[39m \u001B[38;5;28;01mexcept\u001B[39;00m httpx.TimeoutException:\n\u001B[32m     34\u001B[39m     \u001B[38;5;66;03m# Handle all possible in httpx timeout exceptions\u001B[39;00m\n\u001B[32m     35\u001B[39m     \u001B[38;5;28;01mraise\u001B[39;00m LunaTimeoutError \u001B[38;5;28;01mfrom\u001B[39;00m\u001B[38;5;250m \u001B[39m\u001B[38;5;28;01mNone\u001B[39;00m\n",
      "\u001B[36mFile \u001B[39m\u001B[32m~/PycharmProjects/LunaDemo/.venv/lib/python3.12/site-packages/httpx/_client.py:825\u001B[39m, in \u001B[36mClient.request\u001B[39m\u001B[34m(self, method, url, content, data, files, json, params, headers, cookies, auth, follow_redirects, timeout, extensions)\u001B[39m\n\u001B[32m    810\u001B[39m     warnings.warn(message, \u001B[38;5;167;01mDeprecationWarning\u001B[39;00m, stacklevel=\u001B[32m2\u001B[39m)\n\u001B[32m    812\u001B[39m request = \u001B[38;5;28mself\u001B[39m.build_request(\n\u001B[32m    813\u001B[39m     method=method,\n\u001B[32m    814\u001B[39m     url=url,\n\u001B[32m   (...)\u001B[39m\u001B[32m    823\u001B[39m     extensions=extensions,\n\u001B[32m    824\u001B[39m )\n\u001B[32m--> \u001B[39m\u001B[32m825\u001B[39m \u001B[38;5;28;01mreturn\u001B[39;00m \u001B[38;5;28;43mself\u001B[39;49m\u001B[43m.\u001B[49m\u001B[43msend\u001B[49m\u001B[43m(\u001B[49m\u001B[43mrequest\u001B[49m\u001B[43m,\u001B[49m\u001B[43m \u001B[49m\u001B[43mauth\u001B[49m\u001B[43m=\u001B[49m\u001B[43mauth\u001B[49m\u001B[43m,\u001B[49m\u001B[43m \u001B[49m\u001B[43mfollow_redirects\u001B[49m\u001B[43m=\u001B[49m\u001B[43mfollow_redirects\u001B[49m\u001B[43m)\u001B[49m\n",
      "\u001B[36mFile \u001B[39m\u001B[32m~/PycharmProjects/LunaDemo/.venv/lib/python3.12/site-packages/httpx/_client.py:914\u001B[39m, in \u001B[36mClient.send\u001B[39m\u001B[34m(self, request, stream, auth, follow_redirects)\u001B[39m\n\u001B[32m    910\u001B[39m \u001B[38;5;28mself\u001B[39m._set_timeout(request)\n\u001B[32m    912\u001B[39m auth = \u001B[38;5;28mself\u001B[39m._build_request_auth(request, auth)\n\u001B[32m--> \u001B[39m\u001B[32m914\u001B[39m response = \u001B[38;5;28;43mself\u001B[39;49m\u001B[43m.\u001B[49m\u001B[43m_send_handling_auth\u001B[49m\u001B[43m(\u001B[49m\n\u001B[32m    915\u001B[39m \u001B[43m    \u001B[49m\u001B[43mrequest\u001B[49m\u001B[43m,\u001B[49m\n\u001B[32m    916\u001B[39m \u001B[43m    \u001B[49m\u001B[43mauth\u001B[49m\u001B[43m=\u001B[49m\u001B[43mauth\u001B[49m\u001B[43m,\u001B[49m\n\u001B[32m    917\u001B[39m \u001B[43m    \u001B[49m\u001B[43mfollow_redirects\u001B[49m\u001B[43m=\u001B[49m\u001B[43mfollow_redirects\u001B[49m\u001B[43m,\u001B[49m\n\u001B[32m    918\u001B[39m \u001B[43m    \u001B[49m\u001B[43mhistory\u001B[49m\u001B[43m=\u001B[49m\u001B[43m[\u001B[49m\u001B[43m]\u001B[49m\u001B[43m,\u001B[49m\n\u001B[32m    919\u001B[39m \u001B[43m\u001B[49m\u001B[43m)\u001B[49m\n\u001B[32m    920\u001B[39m \u001B[38;5;28;01mtry\u001B[39;00m:\n\u001B[32m    921\u001B[39m     \u001B[38;5;28;01mif\u001B[39;00m \u001B[38;5;129;01mnot\u001B[39;00m stream:\n",
      "\u001B[36mFile \u001B[39m\u001B[32m~/PycharmProjects/LunaDemo/.venv/lib/python3.12/site-packages/httpx/_client.py:942\u001B[39m, in \u001B[36mClient._send_handling_auth\u001B[39m\u001B[34m(self, request, auth, follow_redirects, history)\u001B[39m\n\u001B[32m    939\u001B[39m request = \u001B[38;5;28mnext\u001B[39m(auth_flow)\n\u001B[32m    941\u001B[39m \u001B[38;5;28;01mwhile\u001B[39;00m \u001B[38;5;28;01mTrue\u001B[39;00m:\n\u001B[32m--> \u001B[39m\u001B[32m942\u001B[39m     response = \u001B[38;5;28;43mself\u001B[39;49m\u001B[43m.\u001B[49m\u001B[43m_send_handling_redirects\u001B[49m\u001B[43m(\u001B[49m\n\u001B[32m    943\u001B[39m \u001B[43m        \u001B[49m\u001B[43mrequest\u001B[49m\u001B[43m,\u001B[49m\n\u001B[32m    944\u001B[39m \u001B[43m        \u001B[49m\u001B[43mfollow_redirects\u001B[49m\u001B[43m=\u001B[49m\u001B[43mfollow_redirects\u001B[49m\u001B[43m,\u001B[49m\n\u001B[32m    945\u001B[39m \u001B[43m        \u001B[49m\u001B[43mhistory\u001B[49m\u001B[43m=\u001B[49m\u001B[43mhistory\u001B[49m\u001B[43m,\u001B[49m\n\u001B[32m    946\u001B[39m \u001B[43m    \u001B[49m\u001B[43m)\u001B[49m\n\u001B[32m    947\u001B[39m     \u001B[38;5;28;01mtry\u001B[39;00m:\n\u001B[32m    948\u001B[39m         \u001B[38;5;28;01mtry\u001B[39;00m:\n",
      "\u001B[36mFile \u001B[39m\u001B[32m~/PycharmProjects/LunaDemo/.venv/lib/python3.12/site-packages/httpx/_client.py:999\u001B[39m, in \u001B[36mClient._send_handling_redirects\u001B[39m\u001B[34m(self, request, follow_redirects, history)\u001B[39m\n\u001B[32m    997\u001B[39m \u001B[38;5;28;01mexcept\u001B[39;00m \u001B[38;5;167;01mBaseException\u001B[39;00m \u001B[38;5;28;01mas\u001B[39;00m exc:\n\u001B[32m    998\u001B[39m     response.close()\n\u001B[32m--> \u001B[39m\u001B[32m999\u001B[39m     \u001B[38;5;28;01mraise\u001B[39;00m exc\n",
      "\u001B[36mFile \u001B[39m\u001B[32m~/PycharmProjects/LunaDemo/.venv/lib/python3.12/site-packages/httpx/_client.py:982\u001B[39m, in \u001B[36mClient._send_handling_redirects\u001B[39m\u001B[34m(self, request, follow_redirects, history)\u001B[39m\n\u001B[32m    980\u001B[39m \u001B[38;5;28;01mtry\u001B[39;00m:\n\u001B[32m    981\u001B[39m     \u001B[38;5;28;01mfor\u001B[39;00m hook \u001B[38;5;129;01min\u001B[39;00m \u001B[38;5;28mself\u001B[39m._event_hooks[\u001B[33m\"\u001B[39m\u001B[33mresponse\u001B[39m\u001B[33m\"\u001B[39m]:\n\u001B[32m--> \u001B[39m\u001B[32m982\u001B[39m         \u001B[43mhook\u001B[49m\u001B[43m(\u001B[49m\u001B[43mresponse\u001B[49m\u001B[43m)\u001B[49m\n\u001B[32m    983\u001B[39m     response.history = \u001B[38;5;28mlist\u001B[39m(history)\n\u001B[32m    985\u001B[39m     \u001B[38;5;28;01mif\u001B[39;00m \u001B[38;5;129;01mnot\u001B[39;00m response.has_redirect_location:\n",
      "\u001B[36mFile \u001B[39m\u001B[32m~/PycharmProjects/LunaDemo/.venv/lib/python3.12/site-packages/luna_quantum/client/controllers/luna_platform_client.py:42\u001B[39m, in \u001B[36mcheck_httpx_exceptions\u001B[39m\u001B[34m(response)\u001B[39m\n\u001B[32m     30\u001B[39m \u001B[38;5;28;01mdef\u001B[39;00m\u001B[38;5;250m \u001B[39m\u001B[34mcheck_httpx_exceptions\u001B[39m(response: Response) -> \u001B[38;5;28;01mNone\u001B[39;00m:\n\u001B[32m     31\u001B[39m \u001B[38;5;250m    \u001B[39m\u001B[33;03m\"\"\"\u001B[39;00m\n\u001B[32m     32\u001B[39m \u001B[33;03m    Check if response contains errors from the server.\u001B[39;00m\n\u001B[32m     33\u001B[39m \n\u001B[32m   (...)\u001B[39m\u001B[32m     40\u001B[39m \u001B[33;03m        The HTTP response object to be examined for error conditions.\u001B[39;00m\n\u001B[32m     41\u001B[39m \u001B[33;03m    \"\"\"\u001B[39;00m\n\u001B[32m---> \u001B[39m\u001B[32m42\u001B[39m     \u001B[43mHttpErrorUtils\u001B[49m\u001B[43m.\u001B[49m\u001B[43mcheck_for_error\u001B[49m\u001B[43m(\u001B[49m\u001B[43mresponse\u001B[49m\u001B[43m)\u001B[49m\n",
      "\u001B[36mFile \u001B[39m\u001B[32m~/PycharmProjects/LunaDemo/.venv/lib/python3.12/site-packages/luna_quantum/client/error/utils/http_error_utils.py:106\u001B[39m, in \u001B[36mHttpErrorUtils.check_for_error\u001B[39m\u001B[34m(response)\u001B[39m\n\u001B[32m    104\u001B[39m \u001B[38;5;28;01mif\u001B[39;00m exception:\n\u001B[32m    105\u001B[39m     logger.exception(exception, exc_info=\u001B[38;5;28;01mFalse\u001B[39;00m)\n\u001B[32m--> \u001B[39m\u001B[32m106\u001B[39m     \u001B[38;5;28;01mraise\u001B[39;00m exception \u001B[38;5;28;01mfrom\u001B[39;00m\u001B[38;5;250m \u001B[39m\u001B[38;5;28;01mNone\u001B[39;00m\n\u001B[32m    107\u001B[39m logger.error(exception, exc_info=\u001B[38;5;28;01mTrue\u001B[39;00m)\n\u001B[32m    108\u001B[39m \u001B[38;5;28;01mraise\u001B[39;00m\n",
      "\u001B[31mLunaServerError\u001B[39m: The Luna-Server reported the error 'QPU_TOKEN_NAME_ALREADY_EXISTS' with the message:\n The provided QPU-Token-Name already exists."
     ]
    }
   ],
   "execution_count": 23
  },
  {
   "cell_type": "markdown",
   "id": "8dab917a61179685",
   "metadata": {},
   "source": [
    "**⚠️ Important Setup Notes:**\n",
    "- Set your D-Wave token: `export DWAVE_TOKEN=\"your_token_here\"`\n",
    "- Get tokens from [D-Wave Leap](https://cloud.dwavesys.com/leap/)\n",
    "- Tokens are securely managed by Luna Quantum\n",
    "- No credentials stored in code - uses environment variables"
   ]
  },
  {
   "cell_type": "markdown",
   "id": "406fbc3afa6d80f2",
   "metadata": {},
   "source": [
    "### 🚀 Seamless Multi-Algorithm Execution\n",
    "\n",
    "Luna Quantum's execution model demonstrates the power of our plug-and-play architecture. Below, we solve the **exact same model** using two completely different approaches:\n",
    "\n",
    "1. **Classical Simulated Annealing**: Fast, reliable, runs on any hardware\n",
    "2. **Quantum Annealing**: Leveraging quantum effects for potential speedups\n",
    "\n",
    "#### **The Luna Quantum Promise:**\n",
    "- **Identical code structure** regardless of algorithm choice\n",
    "- **Automatic problem translation** to algorithm-specific formats\n",
    "- **Unified result handling** across all execution methods\n",
    "- **Transparent job management** with progress tracking and error handling\n",
    "\n",
    "This flexibility means you can:\n",
    "- **Start development** with classical algorithms on your laptop\n",
    "- **Scale testing** using cloud simulators  \n",
    "- **Deploy production** on quantum hardware\n",
    "- **Compare performance** across multiple approaches\n",
    "\n",
    "All while maintaining the same codebase and workflow!\n",
    "\n",
    "![LunaSolve Flow Algorithm Selection](plots/FlowAlgorithm.png)"
   ]
  },
  {
   "cell_type": "markdown",
   "id": "95c4281a89577f62",
   "metadata": {},
   "source": [
    "### 🔧 Backend and Algorithm Configuration\n",
    "\n",
    "Luna Quantum's flexible architecture allows you to choose different execution environments:"
   ]
  },
  {
   "cell_type": "code",
   "id": "8ab278f940991ed8",
   "metadata": {
    "ExecuteTime": {
     "end_time": "2025-06-17T12:52:15.193391Z",
     "start_time": "2025-06-17T12:52:15.187427Z"
    }
   },
   "source": [
    "# Classical simulation backend (no tokens required)\n",
    "classic_backend = backends.DWave()\n",
    "\n",
    "# Quantum hardware backend (requires D-Wave token)\n",
    "from luna_quantum.client.schemas.qpu_token.qpu_token import PersonalQpuToken\n",
    "personal_qpu_token = PersonalQpuToken(name='my-dwave-token')\n",
    "qpu_backend = backends.DWaveQpu(token=personal_qpu_token)\n",
    "\n",
    "# Algorithm selection with different backends\n",
    "tabu_search = algorithms.TabuSearch(num_reads=100, backend=classic_backend)\n",
    "quantum_annealing = algorithms.QuantumAnnealing(num_reads=100, backend=qpu_backend)"
   ],
   "outputs": [],
   "execution_count": 24
  },
  {
   "cell_type": "markdown",
   "id": "a3a96d442c2ad48d",
   "metadata": {},
   "source": [
    "**Algorithm Comparison:**\n",
    "\n",
    "- **Tabu Search**: Classical heuristic, fast execution, good for development\n",
    "- **Quantum Annealing**: Quantum algorithm, potential for better solutions, requires quantum hardware"
   ]
  },
  {
   "cell_type": "markdown",
   "id": "b98169d4bcbc8380",
   "metadata": {},
   "source": [
    "# Runninc model\n",
    "\n",
    "![LunaSolve Flow Compute](plots/FlowCompute.png)"
   ]
  },
  {
   "cell_type": "markdown",
   "id": "4d808176b8613416",
   "metadata": {},
   "source": [
    "### 🚀 Parallel Job Execution\n",
    "\n",
    "Luna Quantum supports running multiple optimization jobs concurrently:"
   ]
  },
  {
   "cell_type": "code",
   "id": "f5b038ed3de12db1",
   "metadata": {
    "ExecuteTime": {
     "end_time": "2025-06-17T12:52:21.181477Z",
     "start_time": "2025-06-17T12:52:17.345139Z"
    }
   },
   "source": [
    "# Submit both jobs simultaneously\n",
    "print(\"🔄 Submitting optimization jobs...\")\n",
    "print(\"   → Classical Tabu Search\")\n",
    "print(\"   → Quantum Annealing (if token available)\")\n",
    "\n",
    "tabu_job = tabu_search.run(model)\n",
    "quantum_job = quantum_annealing.run(model)\n",
    "\n",
    "print(\"✅ Jobs submitted successfully!\")\n",
    "print(\"   → Job 1 ID:\", tabu_job.id if hasattr(tabu_job, 'id') else 'Classical job')\n",
    "print(\"   → Job 2 ID:\", quantum_job.id if hasattr(quantum_job, 'id') else 'Quantum job')"
   ],
   "outputs": [
    {
     "name": "stdout",
     "output_type": "stream",
     "text": [
      "🔄 Submitting optimization jobs...\n",
      "   → Classical Tabu Search\n",
      "   → Quantum Annealing (if token available)\n"
     ]
    },
    {
     "data": {
      "text/plain": [
       "Output()"
      ],
      "application/vnd.jupyter.widget-view+json": {
       "version_major": 2,
       "version_minor": 0,
       "model_id": "009813c2dd4e4a6e9d59a1388addf6ab"
      }
     },
     "metadata": {},
     "output_type": "display_data"
    },
    {
     "data": {
      "text/plain": [
       "Output()"
      ],
      "application/vnd.jupyter.widget-view+json": {
       "version_major": 2,
       "version_minor": 0,
       "model_id": "bb55d082c6a74d92b93f339c591b9898"
      }
     },
     "metadata": {},
     "output_type": "display_data"
    },
    {
     "data": {
      "text/plain": [],
      "text/html": [
       "<pre style=\"white-space:pre;overflow-x:auto;line-height:normal;font-family:Menlo,'DejaVu Sans Mono',consolas,'Courier New',monospace\"></pre>\n"
      ]
     },
     "metadata": {},
     "output_type": "display_data"
    },
    {
     "data": {
      "text/plain": [
       "\u001B[2;36m2025-06-17 14:52:18\u001B[0m\u001B[2;36m \u001B[0m\u001B[92mINFO    \u001B[0m \u001B[1m{\u001B[0m\u001B[32m\"model_id\"\u001B[0m:\u001B[32m\"6851310efeb4512569869b57\"\u001B[0m,\u001B[32m\"solver_name\"\u001B[0m:\u001B[32m\"TS\"\u001B[0m,\u001B[32m\"provider\"\u001B[0m:\u001B[32m\"dwave\"\u001B[0m,\u001B[32m\"paramete\u001B[0m\n",
       "\u001B[2;36m                    \u001B[0m         \u001B[32mrs\"\u001B[0m:\u001B[1m{\u001B[0m\u001B[32m\"num_reads\"\u001B[0m:\u001B[1;36m100\u001B[0m,\u001B[32m\"tenure\"\u001B[0m:null,\u001B[32m\"timeout\"\u001B[0m:\u001B[1;36m100\u001B[0m,\u001B[32m\"seed\"\u001B[0m:null,\u001B[32m\"num_restarts\"\u001B[0m:\u001B[1;36m1000000\u001B[0m,\u001B[32m\"e\u001B[0m\n",
       "\u001B[2;36m                    \u001B[0m         \u001B[32mnergy_threshold\"\u001B[0m:null,\u001B[32m\"coefficient_z_first\"\u001B[0m:null,\u001B[32m\"coefficient_z_restart\"\u001B[0m:null,\u001B[32m\"lower_b\u001B[0m\n",
       "\u001B[2;36m                    \u001B[0m         \u001B[32mound_z\"\u001B[0m:null,\u001B[32m\"initial_states\"\u001B[0m:null,\u001B[32m\"initial_states_generator\"\u001B[0m:\u001B[32m\"random\"\u001B[0m\u001B[1m}\u001B[0m,\u001B[32m\"name\"\u001B[0m:null\u001B[1m}\u001B[0m  \n"
      ],
      "text/html": [
       "<pre style=\"white-space:pre;overflow-x:auto;line-height:normal;font-family:Menlo,'DejaVu Sans Mono',consolas,'Courier New',monospace\"><span style=\"color: #7fbfbf; text-decoration-color: #7fbfbf\">2025-06-17 14:52:18 </span><span style=\"color: #00ff00; text-decoration-color: #00ff00\">INFO    </span> <span style=\"font-weight: bold\">{</span><span style=\"color: #008000; text-decoration-color: #008000\">\"model_id\"</span>:<span style=\"color: #008000; text-decoration-color: #008000\">\"6851310efeb4512569869b57\"</span>,<span style=\"color: #008000; text-decoration-color: #008000\">\"solver_name\"</span>:<span style=\"color: #008000; text-decoration-color: #008000\">\"TS\"</span>,<span style=\"color: #008000; text-decoration-color: #008000\">\"provider\"</span>:<span style=\"color: #008000; text-decoration-color: #008000\">\"dwave\"</span>,<span style=\"color: #008000; text-decoration-color: #008000\">\"paramete</span>\n",
       "<span style=\"color: #7fbfbf; text-decoration-color: #7fbfbf\">                    </span>         <span style=\"color: #008000; text-decoration-color: #008000\">rs\"</span>:<span style=\"font-weight: bold\">{</span><span style=\"color: #008000; text-decoration-color: #008000\">\"num_reads\"</span>:<span style=\"color: #008080; text-decoration-color: #008080; font-weight: bold\">100</span>,<span style=\"color: #008000; text-decoration-color: #008000\">\"tenure\"</span>:null,<span style=\"color: #008000; text-decoration-color: #008000\">\"timeout\"</span>:<span style=\"color: #008080; text-decoration-color: #008080; font-weight: bold\">100</span>,<span style=\"color: #008000; text-decoration-color: #008000\">\"seed\"</span>:null,<span style=\"color: #008000; text-decoration-color: #008000\">\"num_restarts\"</span>:<span style=\"color: #008080; text-decoration-color: #008080; font-weight: bold\">1000000</span>,<span style=\"color: #008000; text-decoration-color: #008000\">\"e</span>\n",
       "<span style=\"color: #7fbfbf; text-decoration-color: #7fbfbf\">                    </span>         <span style=\"color: #008000; text-decoration-color: #008000\">nergy_threshold\"</span>:null,<span style=\"color: #008000; text-decoration-color: #008000\">\"coefficient_z_first\"</span>:null,<span style=\"color: #008000; text-decoration-color: #008000\">\"coefficient_z_restart\"</span>:null,<span style=\"color: #008000; text-decoration-color: #008000\">\"lower_b</span>\n",
       "<span style=\"color: #7fbfbf; text-decoration-color: #7fbfbf\">                    </span>         <span style=\"color: #008000; text-decoration-color: #008000\">ound_z\"</span>:null,<span style=\"color: #008000; text-decoration-color: #008000\">\"initial_states\"</span>:null,<span style=\"color: #008000; text-decoration-color: #008000\">\"initial_states_generator\"</span>:<span style=\"color: #008000; text-decoration-color: #008000\">\"random\"</span><span style=\"font-weight: bold\">}</span>,<span style=\"color: #008000; text-decoration-color: #008000\">\"name\"</span>:null<span style=\"font-weight: bold\">}</span>  \n",
       "</pre>\n"
      ]
     },
     "metadata": {},
     "output_type": "display_data"
    },
    {
     "data": {
      "text/plain": [],
      "text/html": [
       "<pre style=\"white-space:pre;overflow-x:auto;line-height:normal;font-family:Menlo,'DejaVu Sans Mono',consolas,'Courier New',monospace\"></pre>\n"
      ]
     },
     "metadata": {},
     "output_type": "display_data"
    },
    {
     "data": {
      "text/plain": [
       "Output()"
      ],
      "application/vnd.jupyter.widget-view+json": {
       "version_major": 2,
       "version_minor": 0,
       "model_id": "9aa16ff73738471fb4d9437afdeaef26"
      }
     },
     "metadata": {},
     "output_type": "display_data"
    },
    {
     "data": {
      "text/plain": [
       "Output()"
      ],
      "application/vnd.jupyter.widget-view+json": {
       "version_major": 2,
       "version_minor": 0,
       "model_id": "de91c2c8a823476e82c0a93d57ce6ca3"
      }
     },
     "metadata": {},
     "output_type": "display_data"
    },
    {
     "data": {
      "text/plain": [],
      "text/html": [
       "<pre style=\"white-space:pre;overflow-x:auto;line-height:normal;font-family:Menlo,'DejaVu Sans Mono',consolas,'Courier New',monospace\"></pre>\n"
      ]
     },
     "metadata": {},
     "output_type": "display_data"
    },
    {
     "data": {
      "text/plain": [
       "\u001B[2;36m2025-06-17 14:52:20\u001B[0m\u001B[2;36m \u001B[0m\u001B[92mINFO    \u001B[0m \u001B[1m{\u001B[0m\u001B[32m\"model_id\"\u001B[0m:\u001B[32m\"6851310efeb4512569869b57\"\u001B[0m,\u001B[32m\"solver_name\"\u001B[0m:\u001B[32m\"QA\"\u001B[0m,\u001B[32m\"provider\"\u001B[0m:\u001B[32m\"dwave\"\u001B[0m,\u001B[32m\"paramete\u001B[0m\n",
       "\u001B[2;36m                    \u001B[0m         \u001B[32mrs\"\u001B[0m:\u001B[1m{\u001B[0m\u001B[32m\"anneal_offsets\"\u001B[0m:null,\u001B[32m\"anneal_schedule\"\u001B[0m:null,\u001B[32m\"annealing_time\"\u001B[0m:null,\u001B[32m\"auto_scale\"\u001B[0m:n\n",
       "\u001B[2;36m                    \u001B[0m         ull,\u001B[32m\"fast_anneal\"\u001B[0m:false,\u001B[32m\"flux_biases\"\u001B[0m:null,\u001B[32m\"flux_drift_compensation\"\u001B[0m:true,\u001B[32m\"h_gain_sche\u001B[0m\n",
       "\u001B[2;36m                    \u001B[0m         \u001B[32mdule\"\u001B[0m:null,\u001B[32m\"initial_state\"\u001B[0m:null,\u001B[32m\"max_answers\"\u001B[0m:null,\u001B[32m\"num_reads\"\u001B[0m:\u001B[1;36m100\u001B[0m,\u001B[32m\"programming_therma\u001B[0m\n",
       "\u001B[2;36m                    \u001B[0m         \u001B[32mlization\"\u001B[0m:null,\u001B[32m\"readout_thermalization\"\u001B[0m:null,\u001B[32m\"reduce_intersample_correlation\"\u001B[0m:false,\u001B[32m\"r\u001B[0m\n",
       "\u001B[2;36m                    \u001B[0m         \u001B[32meinitialize_state\"\u001B[0m:null,\u001B[32m\"embedding_parameters\"\u001B[0m:null,\u001B[32m\"qpu_backend\"\u001B[0m:\u001B[32m\"default\"\u001B[0m\u001B[1m}\u001B[0m,\u001B[32m\"name\"\u001B[0m:nu\n",
       "\u001B[2;36m                    \u001B[0m         ll\u001B[1m}\u001B[0m                                                                                   \n"
      ],
      "text/html": [
       "<pre style=\"white-space:pre;overflow-x:auto;line-height:normal;font-family:Menlo,'DejaVu Sans Mono',consolas,'Courier New',monospace\"><span style=\"color: #7fbfbf; text-decoration-color: #7fbfbf\">2025-06-17 14:52:20 </span><span style=\"color: #00ff00; text-decoration-color: #00ff00\">INFO    </span> <span style=\"font-weight: bold\">{</span><span style=\"color: #008000; text-decoration-color: #008000\">\"model_id\"</span>:<span style=\"color: #008000; text-decoration-color: #008000\">\"6851310efeb4512569869b57\"</span>,<span style=\"color: #008000; text-decoration-color: #008000\">\"solver_name\"</span>:<span style=\"color: #008000; text-decoration-color: #008000\">\"QA\"</span>,<span style=\"color: #008000; text-decoration-color: #008000\">\"provider\"</span>:<span style=\"color: #008000; text-decoration-color: #008000\">\"dwave\"</span>,<span style=\"color: #008000; text-decoration-color: #008000\">\"paramete</span>\n",
       "<span style=\"color: #7fbfbf; text-decoration-color: #7fbfbf\">                    </span>         <span style=\"color: #008000; text-decoration-color: #008000\">rs\"</span>:<span style=\"font-weight: bold\">{</span><span style=\"color: #008000; text-decoration-color: #008000\">\"anneal_offsets\"</span>:null,<span style=\"color: #008000; text-decoration-color: #008000\">\"anneal_schedule\"</span>:null,<span style=\"color: #008000; text-decoration-color: #008000\">\"annealing_time\"</span>:null,<span style=\"color: #008000; text-decoration-color: #008000\">\"auto_scale\"</span>:n\n",
       "<span style=\"color: #7fbfbf; text-decoration-color: #7fbfbf\">                    </span>         ull,<span style=\"color: #008000; text-decoration-color: #008000\">\"fast_anneal\"</span>:false,<span style=\"color: #008000; text-decoration-color: #008000\">\"flux_biases\"</span>:null,<span style=\"color: #008000; text-decoration-color: #008000\">\"flux_drift_compensation\"</span>:true,<span style=\"color: #008000; text-decoration-color: #008000\">\"h_gain_sche</span>\n",
       "<span style=\"color: #7fbfbf; text-decoration-color: #7fbfbf\">                    </span>         <span style=\"color: #008000; text-decoration-color: #008000\">dule\"</span>:null,<span style=\"color: #008000; text-decoration-color: #008000\">\"initial_state\"</span>:null,<span style=\"color: #008000; text-decoration-color: #008000\">\"max_answers\"</span>:null,<span style=\"color: #008000; text-decoration-color: #008000\">\"num_reads\"</span>:<span style=\"color: #008080; text-decoration-color: #008080; font-weight: bold\">100</span>,<span style=\"color: #008000; text-decoration-color: #008000\">\"programming_therma</span>\n",
       "<span style=\"color: #7fbfbf; text-decoration-color: #7fbfbf\">                    </span>         <span style=\"color: #008000; text-decoration-color: #008000\">lization\"</span>:null,<span style=\"color: #008000; text-decoration-color: #008000\">\"readout_thermalization\"</span>:null,<span style=\"color: #008000; text-decoration-color: #008000\">\"reduce_intersample_correlation\"</span>:false,<span style=\"color: #008000; text-decoration-color: #008000\">\"r</span>\n",
       "<span style=\"color: #7fbfbf; text-decoration-color: #7fbfbf\">                    </span>         <span style=\"color: #008000; text-decoration-color: #008000\">einitialize_state\"</span>:null,<span style=\"color: #008000; text-decoration-color: #008000\">\"embedding_parameters\"</span>:null,<span style=\"color: #008000; text-decoration-color: #008000\">\"qpu_backend\"</span>:<span style=\"color: #008000; text-decoration-color: #008000\">\"default\"</span><span style=\"font-weight: bold\">}</span>,<span style=\"color: #008000; text-decoration-color: #008000\">\"name\"</span>:nu\n",
       "<span style=\"color: #7fbfbf; text-decoration-color: #7fbfbf\">                    </span>         ll<span style=\"font-weight: bold\">}</span>                                                                                   \n",
       "</pre>\n"
      ]
     },
     "metadata": {},
     "output_type": "display_data"
    },
    {
     "data": {
      "text/plain": [],
      "text/html": [
       "<pre style=\"white-space:pre;overflow-x:auto;line-height:normal;font-family:Menlo,'DejaVu Sans Mono',consolas,'Courier New',monospace\"></pre>\n"
      ]
     },
     "metadata": {},
     "output_type": "display_data"
    },
    {
     "name": "stdout",
     "output_type": "stream",
     "text": [
      "✅ Jobs submitted successfully!\n",
      "   → Job 1 ID: 68516503feb4512569869b60\n",
      "   → Job 2 ID: 68516505feb4512569869b62\n"
     ]
    }
   ],
   "execution_count": 25
  },
  {
   "cell_type": "markdown",
   "id": "24c6e72ce7f7f756",
   "metadata": {},
   "source": [
    "## 📊 Luna Quantum's Job Management\n",
    "\n",
    "\n",
    "\n",
    "Luna Quantum's result handling system provides sophisticated job management and analytics capabilities that make working with optimization results intuitive and powerful.\n",
    "\n",
    "### 🎯 Job Orchestration\n",
    "\n",
    "#### **Flexible Execution Models:**\n",
    "- **Synchronous**: `job.result()` blocks until completion - perfect for interactive notebooks\n",
    "- **Asynchronous**: Non-blocking execution for production pipelines and batch processing\n",
    "\n",
    "#### **Production-Ready Features:**\n",
    "- **Automatic retry logic** for transient failures\n",
    "- **Job persistence** across sessions and system restarts  \n",
    "- **Resource optimization** with intelligent queuing and scheduling\n",
    "\n",
    "### 📈 Analytics & Insights\n",
    "\n",
    "Luna Quantum automatically captures comprehensive execution metrics:\n",
    "- **Solution quality** assessment and convergence analysis\n",
    "- **Algorithm performance** benchmarking across different approaches\n",
    "\n",
    "This enterprise-grade job management ensures reliable, scalable optimization workflows from research to production deployment."
   ]
  },
  {
   "cell_type": "markdown",
   "id": "1c83ebc4d0d864c2",
   "metadata": {},
   "source": [
    "### 📊 Solution Retrieval and Analysis\n",
    "\n",
    "Luna Quantum provides comprehensive result analysis capabilities:"
   ]
  },
  {
   "cell_type": "code",
   "id": "978dc0dffbf0b0b1",
   "metadata": {
    "ExecuteTime": {
     "end_time": "2025-06-17T12:52:36.237655Z",
     "start_time": "2025-06-17T12:52:26.606870Z"
    }
   },
   "source": [
    "# Retrieve solutions (this will wait for job completion)\n",
    "print(\"⏳ Waiting for job completion...\")\n",
    "\n",
    "tabu_solution = tabu_job.result()\n",
    "qa_solution = quantum_job.result()\n",
    "\n",
    "print(f'\\nTabu Search found solution with {tabu_solution.best().obj_value}')\n",
    "print(tabu_solution)\n",
    "\n",
    "print(f'\\nQuantum annealing found solution with {qa_solution.best().obj_value}')\n",
    "print(tabu_solution)"
   ],
   "outputs": [
    {
     "name": "stdout",
     "output_type": "stream",
     "text": [
      "⏳ Waiting for job completion...\n"
     ]
    },
    {
     "data": {
      "text/plain": [
       "Output()"
      ],
      "application/vnd.jupyter.widget-view+json": {
       "version_major": 2,
       "version_minor": 0,
       "model_id": "53b4458b38854c619fb8275fedf8eadf"
      }
     },
     "metadata": {},
     "output_type": "display_data"
    },
    {
     "data": {
      "text/plain": [
       "Output()"
      ],
      "application/vnd.jupyter.widget-view+json": {
       "version_major": 2,
       "version_minor": 0,
       "model_id": "43eaa1b3dfa84243b8ff7c11c1e298c3"
      }
     },
     "metadata": {},
     "output_type": "display_data"
    },
    {
     "data": {
      "text/plain": [],
      "text/html": [
       "<pre style=\"white-space:pre;overflow-x:auto;line-height:normal;font-family:Menlo,'DejaVu Sans Mono',consolas,'Courier New',monospace\"></pre>\n"
      ]
     },
     "metadata": {},
     "output_type": "display_data"
    },
    {
     "data": {
      "text/plain": [
       "\u001B[2;36m2025-06-17 14:52:27\u001B[0m\u001B[2;36m \u001B[0m\u001B[92mINFO    \u001B[0m Sleeping for \u001B[1;36m5.0\u001B[0m seconds. Waiting and checking a function in a loop.                  \n"
      ],
      "text/html": [
       "<pre style=\"white-space:pre;overflow-x:auto;line-height:normal;font-family:Menlo,'DejaVu Sans Mono',consolas,'Courier New',monospace\"><span style=\"color: #7fbfbf; text-decoration-color: #7fbfbf\">2025-06-17 14:52:27 </span><span style=\"color: #00ff00; text-decoration-color: #00ff00\">INFO    </span> Sleeping for <span style=\"color: #008080; text-decoration-color: #008080; font-weight: bold\">5.0</span> seconds. Waiting and checking a function in a loop.                  \n",
       "</pre>\n"
      ]
     },
     "metadata": {},
     "output_type": "display_data"
    },
    {
     "data": {
      "text/plain": [
       "Output()"
      ],
      "application/vnd.jupyter.widget-view+json": {
       "version_major": 2,
       "version_minor": 0,
       "model_id": "674037770d1b416fbb1ea1b1ba3124d1"
      }
     },
     "metadata": {},
     "output_type": "display_data"
    },
    {
     "data": {
      "text/plain": [],
      "text/html": [
       "<pre style=\"white-space:pre;overflow-x:auto;line-height:normal;font-family:Menlo,'DejaVu Sans Mono',consolas,'Courier New',monospace\"></pre>\n"
      ]
     },
     "metadata": {},
     "output_type": "display_data"
    },
    {
     "data": {
      "text/plain": [],
      "text/html": [
       "<pre style=\"white-space:pre;overflow-x:auto;line-height:normal;font-family:Menlo,'DejaVu Sans Mono',consolas,'Courier New',monospace\"></pre>\n"
      ]
     },
     "metadata": {},
     "output_type": "display_data"
    },
    {
     "data": {
      "text/plain": [
       "Output()"
      ],
      "application/vnd.jupyter.widget-view+json": {
       "version_major": 2,
       "version_minor": 0,
       "model_id": "0dd4a34ca0204e78ad0e29e5ce1d124c"
      }
     },
     "metadata": {},
     "output_type": "display_data"
    },
    {
     "data": {
      "text/plain": [
       "Output()"
      ],
      "application/vnd.jupyter.widget-view+json": {
       "version_major": 2,
       "version_minor": 0,
       "model_id": "6286ffc67d9049b2bced1a765e1586bf"
      }
     },
     "metadata": {},
     "output_type": "display_data"
    },
    {
     "data": {
      "text/plain": [],
      "text/html": [
       "<pre style=\"white-space:pre;overflow-x:auto;line-height:normal;font-family:Menlo,'DejaVu Sans Mono',consolas,'Courier New',monospace\"></pre>\n"
      ]
     },
     "metadata": {},
     "output_type": "display_data"
    },
    {
     "data": {
      "text/plain": [],
      "text/html": [
       "<pre style=\"white-space:pre;overflow-x:auto;line-height:normal;font-family:Menlo,'DejaVu Sans Mono',consolas,'Courier New',monospace\"></pre>\n"
      ]
     },
     "metadata": {},
     "output_type": "display_data"
    },
    {
     "name": "stdout",
     "output_type": "stream",
     "text": [
      "\n",
      "Tabu Search found solution with 1563.0\n",
      "x_Ham x_Ham x_Ham x_Mun x_Mun x_Mun x_Bon x_Bon x_Bon │ feas   raw   obj count\n",
      "    1     0     0     0     0     1     0     1     0 │    t 1.6e3 1.6e3    39\n",
      "    0     0     1     1     0     0     0     1     0 │    t 1.6e3 1.6e3    61\n",
      "\n",
      "Total samples: 2\n",
      "Total variables: 9\n",
      "\n",
      "Timing:\n",
      "Total: 10.104441642s\n",
      "\n",
      "Quantum annealing found solution with 1563.0\n",
      "x_Ham x_Ham x_Ham x_Mun x_Mun x_Mun x_Bon x_Bon x_Bon │ feas   raw   obj count\n",
      "    1     0     0     0     0     1     0     1     0 │    t 1.6e3 1.6e3    39\n",
      "    0     0     1     1     0     0     0     1     0 │    t 1.6e3 1.6e3    61\n",
      "\n",
      "Total samples: 2\n",
      "Total variables: 9\n",
      "\n",
      "Timing:\n",
      "Total: 10.104441642s\n"
     ]
    }
   ],
   "execution_count": 26
  },
  {
   "cell_type": "markdown",
   "id": "1bf6b2b888c23ccc",
   "metadata": {},
   "source": [
    "## 🎯 Luna Quantum's Intelligent Solution Processing\n",
    "\n",
    "![LunaSolve Flow Solution](plots/FlowSolution.png)\n",
    "Luna Quantum transforms raw optimization results into actionable business insights through sophisticated post-processing capabilities.\n",
    "\n",
    "### 🧠 Solution Interpretation\n",
    "\n",
    "#### **Standardized Output Format:**\n",
    "- **Consistent data structures** across all algorithms and backends\n",
    "- **Rich metadata** including solution quality, timing, and confidence metrics  \n",
    "- **Automatic feasibility validation** with constraint satisfaction analysis\n",
    "- **Multi-solution handling** for exploring alternative optimal solutions\n",
    "\n",
    "#### **Business Intelligence Integration via Use Case Represenation:**\n",
    "- **Domain-specific extractors** (tours, schedules, assignments, portfolios)\n",
    "- **Automated visualization** generation for stakeholder communication\n",
    "- **Export capabilities** to standard formats (CSV, JSON, databases) for embedding\n",
    "into existing business systems\n",
    "\n",
    "### 🚀 From Variables to Decisions\n",
    "\n",
    "The seamless transformation from optimization variables to real-world decisions showcases Luna Quantum's practical focus. Whether you need delivery routes, resource allocations, or investment portfolios, Luna Quantum bridges the gap between mathematical optimization and business execution.\n",
    "\n",
    "**Key Advantage**: Luna Quantum's standardized result format means solution processing code works identically whether your optimization ran on classical CPUs, quantum simulators, or real quantum hardware.\n",
    "\n",
    "### 🗺️ Tour Extraction and Visualization\n",
    "\n",
    "Transform optimization results into a readable tour format:"
   ]
  },
  {
   "cell_type": "code",
   "id": "55b5201c1cca8d71",
   "metadata": {
    "ExecuteTime": {
     "end_time": "2025-06-17T12:52:36.272101Z",
     "start_time": "2025-06-17T12:52:36.265593Z"
    }
   },
   "source": [
    "# we will continue using the tabu search solution\n",
    "solution = qa_solution\n",
    "\n",
    "# Extract tour from solution\n",
    "tour = extract_tour_from_solution(\n",
    "    variable_names=solution.variable_names,\n",
    "    sample_values=solution.best().sample,\n",
    "    start_city=start_city\n",
    ")\n",
    "\n",
    "# Display the optimal tour\n",
    "print(f\"🎯 Optimal Tour:\")\n",
    "print(f\"   → Route: {' → '.join(tour)}\")\n",
    "\n",
    "# Calculate total distance\n",
    "total_distance = 0\n",
    "for i in range(len(tour) - 1):\n",
    "    total_distance += distance_matrix[tour[i]][tour[i + 1]]\n",
    "\n",
    "print(f\"   → Total Distance: {total_distance:.1f} km\")"
   ],
   "outputs": [
    {
     "name": "stdout",
     "output_type": "stream",
     "text": [
      "🎯 Optimal Tour:\n",
      "   → Route: Berlin → Hamburg → Bonn → Munich → Berlin\n",
      "   → Total Distance: 1563.0 km\n"
     ]
    }
   ],
   "execution_count": 27
  },
  {
   "cell_type": "markdown",
   "id": "3d0ec89e17b52cc6",
   "metadata": {},
   "source": [
    "### 🗺️ Interactive Solution Visualization\n",
    "\n",
    "Create an interactive map showing the optimal tour:\n"
   ]
  },
  {
   "cell_type": "code",
   "id": "d7962d51b686c8ef",
   "metadata": {
    "ExecuteTime": {
     "end_time": "2025-06-17T12:52:37.340676Z",
     "start_time": "2025-06-17T12:52:37.309030Z"
    }
   },
   "source": [
    "# Generate interactive map with solution\n",
    "solution_map = plot_solution_tour(\n",
    "    G=G,\n",
    "    tour=tour,\n",
    "    cities=cities,\n",
    "    distance_matrix=distance_matrix,\n",
    ")\n",
    "\n",
    "print(\"🗺️  Interactive solution map generated!\")\n",
    "print(f\"   → Shows optimal tour: {' → '.join(tour[:-1])}\")\n",
    "print(f\"   → Green line indicates optimal route\")\n",
    "print(f\"   → Red markers show city locations\")\n",
    "\n",
    "# Display the map\n",
    "solution_map\n"
   ],
   "outputs": [
    {
     "name": "stdout",
     "output_type": "stream",
     "text": [
      "🗺️  Interactive solution map generated!\n",
      "   → Shows optimal tour: Berlin → Hamburg → Bonn → Munich\n",
      "   → Green line indicates optimal route\n",
      "   → Red markers show city locations\n"
     ]
    },
    {
     "data": {
      "text/plain": [
       "<folium.folium.Map at 0x1184b2ab0>"
      ],
      "text/html": [
       "<div style=\"width:100%;\"><div style=\"position:relative;width:100%;height:0;padding-bottom:60%;\"><span style=\"color:#565656\">Make this Notebook Trusted to load map: File -> Trust Notebook</span><iframe srcdoc=\"&lt;!DOCTYPE html&gt;\n",
       "&lt;html&gt;\n",
       "&lt;head&gt;\n",
       "    \n",
       "    &lt;meta http-equiv=&quot;content-type&quot; content=&quot;text/html; charset=UTF-8&quot; /&gt;\n",
       "    &lt;script src=&quot;https://cdn.jsdelivr.net/npm/leaflet@1.9.3/dist/leaflet.js&quot;&gt;&lt;/script&gt;\n",
       "    &lt;script src=&quot;https://code.jquery.com/jquery-3.7.1.min.js&quot;&gt;&lt;/script&gt;\n",
       "    &lt;script src=&quot;https://cdn.jsdelivr.net/npm/bootstrap@5.2.2/dist/js/bootstrap.bundle.min.js&quot;&gt;&lt;/script&gt;\n",
       "    &lt;script src=&quot;https://cdnjs.cloudflare.com/ajax/libs/Leaflet.awesome-markers/2.0.2/leaflet.awesome-markers.js&quot;&gt;&lt;/script&gt;\n",
       "    &lt;link rel=&quot;stylesheet&quot; href=&quot;https://cdn.jsdelivr.net/npm/leaflet@1.9.3/dist/leaflet.css&quot;/&gt;\n",
       "    &lt;link rel=&quot;stylesheet&quot; href=&quot;https://cdn.jsdelivr.net/npm/bootstrap@5.2.2/dist/css/bootstrap.min.css&quot;/&gt;\n",
       "    &lt;link rel=&quot;stylesheet&quot; href=&quot;https://netdna.bootstrapcdn.com/bootstrap/3.0.0/css/bootstrap-glyphicons.css&quot;/&gt;\n",
       "    &lt;link rel=&quot;stylesheet&quot; href=&quot;https://cdn.jsdelivr.net/npm/@fortawesome/fontawesome-free@6.2.0/css/all.min.css&quot;/&gt;\n",
       "    &lt;link rel=&quot;stylesheet&quot; href=&quot;https://cdnjs.cloudflare.com/ajax/libs/Leaflet.awesome-markers/2.0.2/leaflet.awesome-markers.css&quot;/&gt;\n",
       "    &lt;link rel=&quot;stylesheet&quot; href=&quot;https://cdn.jsdelivr.net/gh/python-visualization/folium/folium/templates/leaflet.awesome.rotate.min.css&quot;/&gt;\n",
       "    \n",
       "            &lt;meta name=&quot;viewport&quot; content=&quot;width=device-width,\n",
       "                initial-scale=1.0, maximum-scale=1.0, user-scalable=no&quot; /&gt;\n",
       "            &lt;style&gt;\n",
       "                #map_65986fb2862a9f33331ecef90e15b956 {\n",
       "                    position: relative;\n",
       "                    width: 100.0%;\n",
       "                    height: 100.0%;\n",
       "                    left: 0.0%;\n",
       "                    top: 0.0%;\n",
       "                }\n",
       "                .leaflet-container { font-size: 1rem; }\n",
       "            &lt;/style&gt;\n",
       "\n",
       "            &lt;style&gt;html, body {\n",
       "                width: 100%;\n",
       "                height: 100%;\n",
       "                margin: 0;\n",
       "                padding: 0;\n",
       "            }\n",
       "            &lt;/style&gt;\n",
       "\n",
       "            &lt;style&gt;#map {\n",
       "                position:absolute;\n",
       "                top:0;\n",
       "                bottom:0;\n",
       "                right:0;\n",
       "                left:0;\n",
       "                }\n",
       "            &lt;/style&gt;\n",
       "\n",
       "            &lt;script&gt;\n",
       "                L_NO_TOUCH = false;\n",
       "                L_DISABLE_3D = false;\n",
       "            &lt;/script&gt;\n",
       "\n",
       "        \n",
       "&lt;/head&gt;\n",
       "&lt;body&gt;\n",
       "    \n",
       "    \n",
       "    &lt;div style=&quot;position: fixed;\n",
       "                bottom: 50px; left: 50px; width: 240px; height: 150px;\n",
       "                background-color: white; z-index: 9999;\n",
       "                border:2px solid grey; border-radius: 5px;\n",
       "                font-size: 14px; padding: 10px;\n",
       "                box-shadow: 2px 2px 10px rgba(0,0,0,0.3);&quot;&gt;\n",
       "    &lt;p style=&quot;margin: 0; font-weight: bold; font-size: 16px;&quot;&gt;TSP Solution&lt;/p&gt;\n",
       "    &lt;p style=&quot;margin: 5px 0; font-size: 12px;&quot;&gt;Tour: Berlin → Hamburg → Bonn → Munich → Berlin&lt;/p&gt;\n",
       "    &lt;p style=&quot;margin: 5px 0; font-weight: bold; color: darkgreen;&quot;&gt;Total Distance: 1563 km&lt;/p&gt;\n",
       "    &lt;hr style=&quot;margin: 5px 0;&quot;&gt;\n",
       "    &lt;p style=&quot;margin: 5px 0;&quot;&gt;&lt;span style=&quot;color: red; font-weight: bold;&quot;&gt;━━━ ▲&lt;/span&gt; Optimal tour&lt;/p&gt;\n",
       "    &lt;p style=&quot;margin: 5px 0;&quot;&gt;&lt;span style=&quot;color: lightgray;&quot;&gt;━━━&lt;/span&gt; All connections&lt;/p&gt;\n",
       "    &lt;/div&gt;\n",
       "    \n",
       "    \n",
       "            &lt;div class=&quot;folium-map&quot; id=&quot;map_65986fb2862a9f33331ecef90e15b956&quot; &gt;&lt;/div&gt;\n",
       "        \n",
       "&lt;/body&gt;\n",
       "&lt;script&gt;\n",
       "    \n",
       "    \n",
       "            var map_65986fb2862a9f33331ecef90e15b956 = L.map(\n",
       "                &quot;map_65986fb2862a9f33331ecef90e15b956&quot;,\n",
       "                {\n",
       "                    center: [51.1657, 10.4515],\n",
       "                    crs: L.CRS.EPSG3857,\n",
       "                    ...{\n",
       "  &quot;zoom&quot;: 7,\n",
       "  &quot;zoomControl&quot;: true,\n",
       "  &quot;preferCanvas&quot;: false,\n",
       "}\n",
       "\n",
       "                }\n",
       "            );\n",
       "\n",
       "            \n",
       "\n",
       "        \n",
       "    \n",
       "            var tile_layer_acede47eee9fe8f8a12712e0a29a982b = L.tileLayer(\n",
       "                &quot;https://tile.openstreetmap.org/{z}/{x}/{y}.png&quot;,\n",
       "                {\n",
       "  &quot;minZoom&quot;: 0,\n",
       "  &quot;maxZoom&quot;: 19,\n",
       "  &quot;maxNativeZoom&quot;: 19,\n",
       "  &quot;noWrap&quot;: false,\n",
       "  &quot;attribution&quot;: &quot;\\u0026copy; \\u003ca href=\\&quot;https://www.openstreetmap.org/copyright\\&quot;\\u003eOpenStreetMap\\u003c/a\\u003e contributors&quot;,\n",
       "  &quot;subdomains&quot;: &quot;abc&quot;,\n",
       "  &quot;detectRetina&quot;: false,\n",
       "  &quot;tms&quot;: false,\n",
       "  &quot;opacity&quot;: 1,\n",
       "}\n",
       "\n",
       "            );\n",
       "        \n",
       "    \n",
       "            tile_layer_acede47eee9fe8f8a12712e0a29a982b.addTo(map_65986fb2862a9f33331ecef90e15b956);\n",
       "        \n",
       "    \n",
       "            var poly_line_1a7fb186c05744d4fd669e633671be87 = L.polyline(\n",
       "                [[52.52, 13.405], [53.5511, 9.9937]],\n",
       "                {&quot;bubblingMouseEvents&quot;: true, &quot;color&quot;: &quot;lightgray&quot;, &quot;dashArray&quot;: null, &quot;dashOffset&quot;: null, &quot;fill&quot;: false, &quot;fillColor&quot;: &quot;lightgray&quot;, &quot;fillOpacity&quot;: 0.2, &quot;fillRule&quot;: &quot;evenodd&quot;, &quot;lineCap&quot;: &quot;round&quot;, &quot;lineJoin&quot;: &quot;round&quot;, &quot;noClip&quot;: false, &quot;opacity&quot;: 0.3, &quot;smoothFactor&quot;: 1.0, &quot;stroke&quot;: true, &quot;weight&quot;: 1}\n",
       "            ).addTo(map_65986fb2862a9f33331ecef90e15b956);\n",
       "        \n",
       "    \n",
       "            var poly_line_abfff6fb76735d9594f30482f323c2b6 = L.polyline(\n",
       "                [[52.52, 13.405], [48.1351, 11.582]],\n",
       "                {&quot;bubblingMouseEvents&quot;: true, &quot;color&quot;: &quot;lightgray&quot;, &quot;dashArray&quot;: null, &quot;dashOffset&quot;: null, &quot;fill&quot;: false, &quot;fillColor&quot;: &quot;lightgray&quot;, &quot;fillOpacity&quot;: 0.2, &quot;fillRule&quot;: &quot;evenodd&quot;, &quot;lineCap&quot;: &quot;round&quot;, &quot;lineJoin&quot;: &quot;round&quot;, &quot;noClip&quot;: false, &quot;opacity&quot;: 0.3, &quot;smoothFactor&quot;: 1.0, &quot;stroke&quot;: true, &quot;weight&quot;: 1}\n",
       "            ).addTo(map_65986fb2862a9f33331ecef90e15b956);\n",
       "        \n",
       "    \n",
       "            var poly_line_32fdc937ac231eff348e42f0b29e71a1 = L.polyline(\n",
       "                [[52.52, 13.405], [50.7374, 7.0982]],\n",
       "                {&quot;bubblingMouseEvents&quot;: true, &quot;color&quot;: &quot;lightgray&quot;, &quot;dashArray&quot;: null, &quot;dashOffset&quot;: null, &quot;fill&quot;: false, &quot;fillColor&quot;: &quot;lightgray&quot;, &quot;fillOpacity&quot;: 0.2, &quot;fillRule&quot;: &quot;evenodd&quot;, &quot;lineCap&quot;: &quot;round&quot;, &quot;lineJoin&quot;: &quot;round&quot;, &quot;noClip&quot;: false, &quot;opacity&quot;: 0.3, &quot;smoothFactor&quot;: 1.0, &quot;stroke&quot;: true, &quot;weight&quot;: 1}\n",
       "            ).addTo(map_65986fb2862a9f33331ecef90e15b956);\n",
       "        \n",
       "    \n",
       "            var poly_line_7a92c7054f5b50c8f1167da87114457a = L.polyline(\n",
       "                [[53.5511, 9.9937], [48.1351, 11.582]],\n",
       "                {&quot;bubblingMouseEvents&quot;: true, &quot;color&quot;: &quot;lightgray&quot;, &quot;dashArray&quot;: null, &quot;dashOffset&quot;: null, &quot;fill&quot;: false, &quot;fillColor&quot;: &quot;lightgray&quot;, &quot;fillOpacity&quot;: 0.2, &quot;fillRule&quot;: &quot;evenodd&quot;, &quot;lineCap&quot;: &quot;round&quot;, &quot;lineJoin&quot;: &quot;round&quot;, &quot;noClip&quot;: false, &quot;opacity&quot;: 0.3, &quot;smoothFactor&quot;: 1.0, &quot;stroke&quot;: true, &quot;weight&quot;: 1}\n",
       "            ).addTo(map_65986fb2862a9f33331ecef90e15b956);\n",
       "        \n",
       "    \n",
       "            var poly_line_86c806e33388181e54861fb03b1dfdaa = L.polyline(\n",
       "                [[53.5511, 9.9937], [50.7374, 7.0982]],\n",
       "                {&quot;bubblingMouseEvents&quot;: true, &quot;color&quot;: &quot;lightgray&quot;, &quot;dashArray&quot;: null, &quot;dashOffset&quot;: null, &quot;fill&quot;: false, &quot;fillColor&quot;: &quot;lightgray&quot;, &quot;fillOpacity&quot;: 0.2, &quot;fillRule&quot;: &quot;evenodd&quot;, &quot;lineCap&quot;: &quot;round&quot;, &quot;lineJoin&quot;: &quot;round&quot;, &quot;noClip&quot;: false, &quot;opacity&quot;: 0.3, &quot;smoothFactor&quot;: 1.0, &quot;stroke&quot;: true, &quot;weight&quot;: 1}\n",
       "            ).addTo(map_65986fb2862a9f33331ecef90e15b956);\n",
       "        \n",
       "    \n",
       "            var poly_line_96bd3511c6e7ada6524cec751a475a09 = L.polyline(\n",
       "                [[48.1351, 11.582], [50.7374, 7.0982]],\n",
       "                {&quot;bubblingMouseEvents&quot;: true, &quot;color&quot;: &quot;lightgray&quot;, &quot;dashArray&quot;: null, &quot;dashOffset&quot;: null, &quot;fill&quot;: false, &quot;fillColor&quot;: &quot;lightgray&quot;, &quot;fillOpacity&quot;: 0.2, &quot;fillRule&quot;: &quot;evenodd&quot;, &quot;lineCap&quot;: &quot;round&quot;, &quot;lineJoin&quot;: &quot;round&quot;, &quot;noClip&quot;: false, &quot;opacity&quot;: 0.3, &quot;smoothFactor&quot;: 1.0, &quot;stroke&quot;: true, &quot;weight&quot;: 1}\n",
       "            ).addTo(map_65986fb2862a9f33331ecef90e15b956);\n",
       "        \n",
       "    \n",
       "            var poly_line_7e83f35067f104768e9eaf1ef87f641e = L.polyline(\n",
       "                [[52.52, 13.405], [53.5511, 9.9937]],\n",
       "                {&quot;bubblingMouseEvents&quot;: true, &quot;color&quot;: &quot;red&quot;, &quot;dashArray&quot;: null, &quot;dashOffset&quot;: null, &quot;fill&quot;: false, &quot;fillColor&quot;: &quot;red&quot;, &quot;fillOpacity&quot;: 0.2, &quot;fillRule&quot;: &quot;evenodd&quot;, &quot;lineCap&quot;: &quot;round&quot;, &quot;lineJoin&quot;: &quot;round&quot;, &quot;noClip&quot;: false, &quot;opacity&quot;: 0.8, &quot;smoothFactor&quot;: 1.0, &quot;stroke&quot;: true, &quot;weight&quot;: 5}\n",
       "            ).addTo(map_65986fb2862a9f33331ecef90e15b956);\n",
       "        \n",
       "    \n",
       "        var popup_1762050ca4682fb3c3b5a0c5b6946b5b = L.popup({\n",
       "  &quot;maxWidth&quot;: &quot;100%&quot;,\n",
       "});\n",
       "\n",
       "        \n",
       "            \n",
       "                var html_c20363c755b0fc85c053bc02604cc803 = $(`&lt;div id=&quot;html_c20363c755b0fc85c053bc02604cc803&quot; style=&quot;width: 100.0%; height: 100.0%;&quot;&gt;Berlin → Hamburg: 255 km&lt;/div&gt;`)[0];\n",
       "                popup_1762050ca4682fb3c3b5a0c5b6946b5b.setContent(html_c20363c755b0fc85c053bc02604cc803);\n",
       "            \n",
       "        \n",
       "\n",
       "        poly_line_7e83f35067f104768e9eaf1ef87f641e.bindPopup(popup_1762050ca4682fb3c3b5a0c5b6946b5b)\n",
       "        ;\n",
       "\n",
       "        \n",
       "    \n",
       "    \n",
       "            var marker_53b79f6a7800b1541cce5c7b4179752f = L.marker(\n",
       "                [53.03555, 11.699349999999999],\n",
       "                {\n",
       "}\n",
       "            ).addTo(map_65986fb2862a9f33331ecef90e15b956);\n",
       "        \n",
       "    \n",
       "            var div_icon_866d22ab9086aabdfcbdd638fee6f412 = L.divIcon({\n",
       "  &quot;html&quot;: &quot;\\n            \\u003cdiv style=\\&quot;position: relative; width: 40px; height: 40px;\\&quot;\\u003e\\n                \\u003cdiv style=\\&quot;\\n                    position: absolute;\\n                    top: 50%;\\n                    left: 50%;\\n                    transform: translate(-50%, -50%) rotate(-73.18202591978812deg);\\n                    width: 0;\\n                    height: 0;\\n                    border-left: 8px solid transparent;\\n                    border-right: 8px solid transparent;\\n                    border-bottom: 25px solid darkred;\\n                    filter: drop-shadow(0px 0px 2px white);\\n                \\&quot;\\u003e\\u003c/div\\u003e\\n            \\u003c/div\\u003e\\n            &quot;,\n",
       "  &quot;iconSize&quot;: [40, 40],\n",
       "  &quot;iconAnchor&quot;: [20, 20],\n",
       "  &quot;className&quot;: &quot;empty&quot;,\n",
       "});\n",
       "        \n",
       "    \n",
       "                marker_53b79f6a7800b1541cce5c7b4179752f.setIcon(div_icon_866d22ab9086aabdfcbdd638fee6f412);\n",
       "            \n",
       "    \n",
       "            var poly_line_ba25d4ceca8655a0f528b77f0dcbcca6 = L.polyline(\n",
       "                [[53.5511, 9.9937], [50.7374, 7.0982]],\n",
       "                {&quot;bubblingMouseEvents&quot;: true, &quot;color&quot;: &quot;red&quot;, &quot;dashArray&quot;: null, &quot;dashOffset&quot;: null, &quot;fill&quot;: false, &quot;fillColor&quot;: &quot;red&quot;, &quot;fillOpacity&quot;: 0.2, &quot;fillRule&quot;: &quot;evenodd&quot;, &quot;lineCap&quot;: &quot;round&quot;, &quot;lineJoin&quot;: &quot;round&quot;, &quot;noClip&quot;: false, &quot;opacity&quot;: 0.8, &quot;smoothFactor&quot;: 1.0, &quot;stroke&quot;: true, &quot;weight&quot;: 5}\n",
       "            ).addTo(map_65986fb2862a9f33331ecef90e15b956);\n",
       "        \n",
       "    \n",
       "        var popup_acc101a3d945b584b1f7d817b22f60cf = L.popup({\n",
       "  &quot;maxWidth&quot;: &quot;100%&quot;,\n",
       "});\n",
       "\n",
       "        \n",
       "            \n",
       "                var html_78d20bfe6fc2f88cba4e302856df2ac1 = $(`&lt;div id=&quot;html_78d20bfe6fc2f88cba4e302856df2ac1&quot; style=&quot;width: 100.0%; height: 100.0%;&quot;&gt;Hamburg → Bonn: 370 km&lt;/div&gt;`)[0];\n",
       "                popup_acc101a3d945b584b1f7d817b22f60cf.setContent(html_78d20bfe6fc2f88cba4e302856df2ac1);\n",
       "            \n",
       "        \n",
       "\n",
       "        poly_line_ba25d4ceca8655a0f528b77f0dcbcca6.bindPopup(popup_acc101a3d945b584b1f7d817b22f60cf)\n",
       "        ;\n",
       "\n",
       "        \n",
       "    \n",
       "    \n",
       "            var marker_5aa1aaab57090767739de19af43d5e70 = L.marker(\n",
       "                [52.14425, 8.545950000000001],\n",
       "                {\n",
       "}\n",
       "            ).addTo(map_65986fb2862a9f33331ecef90e15b956);\n",
       "        \n",
       "    \n",
       "            var div_icon_e6ab3b90e3c3c37ccaba55d69532ee5c = L.divIcon({\n",
       "  &quot;html&quot;: &quot;\\n            \\u003cdiv style=\\&quot;position: relative; width: 40px; height: 40px;\\&quot;\\u003e\\n                \\u003cdiv style=\\&quot;\\n                    position: absolute;\\n                    top: 50%;\\n                    left: 50%;\\n                    transform: translate(-50%, -50%) rotate(-134.17913646483888deg);\\n                    width: 0;\\n                    height: 0;\\n                    border-left: 8px solid transparent;\\n                    border-right: 8px solid transparent;\\n                    border-bottom: 25px solid darkred;\\n                    filter: drop-shadow(0px 0px 2px white);\\n                \\&quot;\\u003e\\u003c/div\\u003e\\n            \\u003c/div\\u003e\\n            &quot;,\n",
       "  &quot;iconSize&quot;: [40, 40],\n",
       "  &quot;iconAnchor&quot;: [20, 20],\n",
       "  &quot;className&quot;: &quot;empty&quot;,\n",
       "});\n",
       "        \n",
       "    \n",
       "                marker_5aa1aaab57090767739de19af43d5e70.setIcon(div_icon_e6ab3b90e3c3c37ccaba55d69532ee5c);\n",
       "            \n",
       "    \n",
       "            var poly_line_f43aa244806cedc5a74f3eb7e5799aba = L.polyline(\n",
       "                [[50.7374, 7.0982], [48.1351, 11.582]],\n",
       "                {&quot;bubblingMouseEvents&quot;: true, &quot;color&quot;: &quot;red&quot;, &quot;dashArray&quot;: null, &quot;dashOffset&quot;: null, &quot;fill&quot;: false, &quot;fillColor&quot;: &quot;red&quot;, &quot;fillOpacity&quot;: 0.2, &quot;fillRule&quot;: &quot;evenodd&quot;, &quot;lineCap&quot;: &quot;round&quot;, &quot;lineJoin&quot;: &quot;round&quot;, &quot;noClip&quot;: false, &quot;opacity&quot;: 0.8, &quot;smoothFactor&quot;: 1.0, &quot;stroke&quot;: true, &quot;weight&quot;: 5}\n",
       "            ).addTo(map_65986fb2862a9f33331ecef90e15b956);\n",
       "        \n",
       "    \n",
       "        var popup_908fd8bc2b98879a6daaf1e295b21ab0 = L.popup({\n",
       "  &quot;maxWidth&quot;: &quot;100%&quot;,\n",
       "});\n",
       "\n",
       "        \n",
       "            \n",
       "                var html_55cb285f9b83ba8b3e7412df31d898f0 = $(`&lt;div id=&quot;html_55cb285f9b83ba8b3e7412df31d898f0&quot; style=&quot;width: 100.0%; height: 100.0%;&quot;&gt;Bonn → Munich: 434 km&lt;/div&gt;`)[0];\n",
       "                popup_908fd8bc2b98879a6daaf1e295b21ab0.setContent(html_55cb285f9b83ba8b3e7412df31d898f0);\n",
       "            \n",
       "        \n",
       "\n",
       "        poly_line_f43aa244806cedc5a74f3eb7e5799aba.bindPopup(popup_908fd8bc2b98879a6daaf1e295b21ab0)\n",
       "        ;\n",
       "\n",
       "        \n",
       "    \n",
       "    \n",
       "            var marker_394e141fc47751ed91838e2f21dcd19b = L.marker(\n",
       "                [49.43625, 9.3401],\n",
       "                {\n",
       "}\n",
       "            ).addTo(map_65986fb2862a9f33331ecef90e15b956);\n",
       "        \n",
       "    \n",
       "            var div_icon_d1cf20e3756249bb8af95fcde3b7fa3e = L.divIcon({\n",
       "  &quot;html&quot;: &quot;\\n            \\u003cdiv style=\\&quot;position: relative; width: 40px; height: 40px;\\&quot;\\u003e\\n                \\u003cdiv style=\\&quot;\\n                    position: absolute;\\n                    top: 50%;\\n                    left: 50%;\\n                    transform: translate(-50%, -50%) rotate(120.12994731196402deg);\\n                    width: 0;\\n                    height: 0;\\n                    border-left: 8px solid transparent;\\n                    border-right: 8px solid transparent;\\n                    border-bottom: 25px solid darkred;\\n                    filter: drop-shadow(0px 0px 2px white);\\n                \\&quot;\\u003e\\u003c/div\\u003e\\n            \\u003c/div\\u003e\\n            &quot;,\n",
       "  &quot;iconSize&quot;: [40, 40],\n",
       "  &quot;iconAnchor&quot;: [20, 20],\n",
       "  &quot;className&quot;: &quot;empty&quot;,\n",
       "});\n",
       "        \n",
       "    \n",
       "                marker_394e141fc47751ed91838e2f21dcd19b.setIcon(div_icon_d1cf20e3756249bb8af95fcde3b7fa3e);\n",
       "            \n",
       "    \n",
       "            var poly_line_4a9515110228ff9035c4a052da57b80f = L.polyline(\n",
       "                [[48.1351, 11.582], [52.52, 13.405]],\n",
       "                {&quot;bubblingMouseEvents&quot;: true, &quot;color&quot;: &quot;red&quot;, &quot;dashArray&quot;: null, &quot;dashOffset&quot;: null, &quot;fill&quot;: false, &quot;fillColor&quot;: &quot;red&quot;, &quot;fillOpacity&quot;: 0.2, &quot;fillRule&quot;: &quot;evenodd&quot;, &quot;lineCap&quot;: &quot;round&quot;, &quot;lineJoin&quot;: &quot;round&quot;, &quot;noClip&quot;: false, &quot;opacity&quot;: 0.8, &quot;smoothFactor&quot;: 1.0, &quot;stroke&quot;: true, &quot;weight&quot;: 5}\n",
       "            ).addTo(map_65986fb2862a9f33331ecef90e15b956);\n",
       "        \n",
       "    \n",
       "        var popup_503be092338659813841afb4abd6dbc9 = L.popup({\n",
       "  &quot;maxWidth&quot;: &quot;100%&quot;,\n",
       "});\n",
       "\n",
       "        \n",
       "            \n",
       "                var html_2d923a866d08db7a440c0ea04460b203 = $(`&lt;div id=&quot;html_2d923a866d08db7a440c0ea04460b203&quot; style=&quot;width: 100.0%; height: 100.0%;&quot;&gt;Munich → Berlin: 504 km&lt;/div&gt;`)[0];\n",
       "                popup_503be092338659813841afb4abd6dbc9.setContent(html_2d923a866d08db7a440c0ea04460b203);\n",
       "            \n",
       "        \n",
       "\n",
       "        poly_line_4a9515110228ff9035c4a052da57b80f.bindPopup(popup_503be092338659813841afb4abd6dbc9)\n",
       "        ;\n",
       "\n",
       "        \n",
       "    \n",
       "    \n",
       "            var marker_220541a605ba57d28f2d8de4678369b5 = L.marker(\n",
       "                [50.32755, 12.493500000000001],\n",
       "                {\n",
       "}\n",
       "            ).addTo(map_65986fb2862a9f33331ecef90e15b956);\n",
       "        \n",
       "    \n",
       "            var div_icon_c009193b784c3965c285284bf79b91fc = L.divIcon({\n",
       "  &quot;html&quot;: &quot;\\n            \\u003cdiv style=\\&quot;position: relative; width: 40px; height: 40px;\\&quot;\\u003e\\n                \\u003cdiv style=\\&quot;\\n                    position: absolute;\\n                    top: 50%;\\n                    left: 50%;\\n                    transform: translate(-50%, -50%) rotate(22.574851604707117deg);\\n                    width: 0;\\n                    height: 0;\\n                    border-left: 8px solid transparent;\\n                    border-right: 8px solid transparent;\\n                    border-bottom: 25px solid darkred;\\n                    filter: drop-shadow(0px 0px 2px white);\\n                \\&quot;\\u003e\\u003c/div\\u003e\\n            \\u003c/div\\u003e\\n            &quot;,\n",
       "  &quot;iconSize&quot;: [40, 40],\n",
       "  &quot;iconAnchor&quot;: [20, 20],\n",
       "  &quot;className&quot;: &quot;empty&quot;,\n",
       "});\n",
       "        \n",
       "    \n",
       "                marker_220541a605ba57d28f2d8de4678369b5.setIcon(div_icon_c009193b784c3965c285284bf79b91fc);\n",
       "            \n",
       "    \n",
       "            var marker_f8445e613338ffe1858f0dc22bf9f57e = L.marker(\n",
       "                [52.52, 13.405],\n",
       "                {\n",
       "}\n",
       "            ).addTo(map_65986fb2862a9f33331ecef90e15b956);\n",
       "        \n",
       "    \n",
       "            var div_icon_d6cff73a8425fda9fc0740e85730f84a = L.divIcon({\n",
       "  &quot;html&quot;: &quot;\\n            \\u003cdiv style=\\&quot;font-size: 12pt; color: white; font-weight: bold;\\n                        text-align: center; vertical-align: middle;\\n                        background-color: red; border-radius: 50%;\\n                        width: 30px; height: 30px; line-height: 30px;\\n                        border: 2px solid darkred;\\n                        box-shadow: 0px 0px 4px rgba(0,0,0,0.5);\\&quot;\\u003e\\n                1\\n            \\u003c/div\\u003e\\n            &quot;,\n",
       "  &quot;iconSize&quot;: [30, 30],\n",
       "  &quot;iconAnchor&quot;: [15, 15],\n",
       "  &quot;className&quot;: &quot;empty&quot;,\n",
       "});\n",
       "        \n",
       "    \n",
       "        var popup_56b5584c4ddd5d880774bf34db9e1eed = L.popup({\n",
       "  &quot;maxWidth&quot;: &quot;100%&quot;,\n",
       "});\n",
       "\n",
       "        \n",
       "            \n",
       "                var html_77026b18c7ee2333265b0110c4afaa36 = $(`&lt;div id=&quot;html_77026b18c7ee2333265b0110c4afaa36&quot; style=&quot;width: 100.0%; height: 100.0%;&quot;&gt;&lt;b&gt;Berlin&lt;/b&gt;&lt;br&gt;Position 1 in tour&lt;/div&gt;`)[0];\n",
       "                popup_56b5584c4ddd5d880774bf34db9e1eed.setContent(html_77026b18c7ee2333265b0110c4afaa36);\n",
       "            \n",
       "        \n",
       "\n",
       "        marker_f8445e613338ffe1858f0dc22bf9f57e.bindPopup(popup_56b5584c4ddd5d880774bf34db9e1eed)\n",
       "        ;\n",
       "\n",
       "        \n",
       "    \n",
       "    \n",
       "            marker_f8445e613338ffe1858f0dc22bf9f57e.bindTooltip(\n",
       "                `&lt;div&gt;\n",
       "                     1. Berlin\n",
       "                 &lt;/div&gt;`,\n",
       "                {\n",
       "  &quot;sticky&quot;: true,\n",
       "}\n",
       "            );\n",
       "        \n",
       "    \n",
       "                marker_f8445e613338ffe1858f0dc22bf9f57e.setIcon(div_icon_d6cff73a8425fda9fc0740e85730f84a);\n",
       "            \n",
       "    \n",
       "            var marker_09101c57da1f8a6ec3ab86676544e85d = L.marker(\n",
       "                [53.5511, 9.9937],\n",
       "                {\n",
       "}\n",
       "            ).addTo(map_65986fb2862a9f33331ecef90e15b956);\n",
       "        \n",
       "    \n",
       "            var div_icon_6345b8f1087cd0c5d08054a4ec5c8cb3 = L.divIcon({\n",
       "  &quot;html&quot;: &quot;\\n            \\u003cdiv style=\\&quot;font-size: 12pt; color: white; font-weight: bold;\\n                        text-align: center; vertical-align: middle;\\n                        background-color: red; border-radius: 50%;\\n                        width: 30px; height: 30px; line-height: 30px;\\n                        border: 2px solid darkred;\\n                        box-shadow: 0px 0px 4px rgba(0,0,0,0.5);\\&quot;\\u003e\\n                2\\n            \\u003c/div\\u003e\\n            &quot;,\n",
       "  &quot;iconSize&quot;: [30, 30],\n",
       "  &quot;iconAnchor&quot;: [15, 15],\n",
       "  &quot;className&quot;: &quot;empty&quot;,\n",
       "});\n",
       "        \n",
       "    \n",
       "        var popup_c65ddacebf264c02a801555564de80ed = L.popup({\n",
       "  &quot;maxWidth&quot;: &quot;100%&quot;,\n",
       "});\n",
       "\n",
       "        \n",
       "            \n",
       "                var html_49550df64d96670e6e3b2cdc3eb23785 = $(`&lt;div id=&quot;html_49550df64d96670e6e3b2cdc3eb23785&quot; style=&quot;width: 100.0%; height: 100.0%;&quot;&gt;&lt;b&gt;Hamburg&lt;/b&gt;&lt;br&gt;Position 2 in tour&lt;/div&gt;`)[0];\n",
       "                popup_c65ddacebf264c02a801555564de80ed.setContent(html_49550df64d96670e6e3b2cdc3eb23785);\n",
       "            \n",
       "        \n",
       "\n",
       "        marker_09101c57da1f8a6ec3ab86676544e85d.bindPopup(popup_c65ddacebf264c02a801555564de80ed)\n",
       "        ;\n",
       "\n",
       "        \n",
       "    \n",
       "    \n",
       "            marker_09101c57da1f8a6ec3ab86676544e85d.bindTooltip(\n",
       "                `&lt;div&gt;\n",
       "                     2. Hamburg\n",
       "                 &lt;/div&gt;`,\n",
       "                {\n",
       "  &quot;sticky&quot;: true,\n",
       "}\n",
       "            );\n",
       "        \n",
       "    \n",
       "                marker_09101c57da1f8a6ec3ab86676544e85d.setIcon(div_icon_6345b8f1087cd0c5d08054a4ec5c8cb3);\n",
       "            \n",
       "    \n",
       "            var marker_107be9299c0c9e3d2969e98337dccef0 = L.marker(\n",
       "                [50.7374, 7.0982],\n",
       "                {\n",
       "}\n",
       "            ).addTo(map_65986fb2862a9f33331ecef90e15b956);\n",
       "        \n",
       "    \n",
       "            var div_icon_b0c9f2ca638eb6f7a796bbff48016f11 = L.divIcon({\n",
       "  &quot;html&quot;: &quot;\\n            \\u003cdiv style=\\&quot;font-size: 12pt; color: white; font-weight: bold;\\n                        text-align: center; vertical-align: middle;\\n                        background-color: red; border-radius: 50%;\\n                        width: 30px; height: 30px; line-height: 30px;\\n                        border: 2px solid darkred;\\n                        box-shadow: 0px 0px 4px rgba(0,0,0,0.5);\\&quot;\\u003e\\n                3\\n            \\u003c/div\\u003e\\n            &quot;,\n",
       "  &quot;iconSize&quot;: [30, 30],\n",
       "  &quot;iconAnchor&quot;: [15, 15],\n",
       "  &quot;className&quot;: &quot;empty&quot;,\n",
       "});\n",
       "        \n",
       "    \n",
       "        var popup_e39bc093e36e7c91d8f342441c139dc4 = L.popup({\n",
       "  &quot;maxWidth&quot;: &quot;100%&quot;,\n",
       "});\n",
       "\n",
       "        \n",
       "            \n",
       "                var html_0a28d61058b8a1efa29a32dc0060ba76 = $(`&lt;div id=&quot;html_0a28d61058b8a1efa29a32dc0060ba76&quot; style=&quot;width: 100.0%; height: 100.0%;&quot;&gt;&lt;b&gt;Bonn&lt;/b&gt;&lt;br&gt;Position 3 in tour&lt;/div&gt;`)[0];\n",
       "                popup_e39bc093e36e7c91d8f342441c139dc4.setContent(html_0a28d61058b8a1efa29a32dc0060ba76);\n",
       "            \n",
       "        \n",
       "\n",
       "        marker_107be9299c0c9e3d2969e98337dccef0.bindPopup(popup_e39bc093e36e7c91d8f342441c139dc4)\n",
       "        ;\n",
       "\n",
       "        \n",
       "    \n",
       "    \n",
       "            marker_107be9299c0c9e3d2969e98337dccef0.bindTooltip(\n",
       "                `&lt;div&gt;\n",
       "                     3. Bonn\n",
       "                 &lt;/div&gt;`,\n",
       "                {\n",
       "  &quot;sticky&quot;: true,\n",
       "}\n",
       "            );\n",
       "        \n",
       "    \n",
       "                marker_107be9299c0c9e3d2969e98337dccef0.setIcon(div_icon_b0c9f2ca638eb6f7a796bbff48016f11);\n",
       "            \n",
       "    \n",
       "            var marker_ffaf78e36bda85e6f49ef04335604791 = L.marker(\n",
       "                [48.1351, 11.582],\n",
       "                {\n",
       "}\n",
       "            ).addTo(map_65986fb2862a9f33331ecef90e15b956);\n",
       "        \n",
       "    \n",
       "            var div_icon_1e9803f46c4cbf07f1f08d4bb3ffbb15 = L.divIcon({\n",
       "  &quot;html&quot;: &quot;\\n            \\u003cdiv style=\\&quot;font-size: 12pt; color: white; font-weight: bold;\\n                        text-align: center; vertical-align: middle;\\n                        background-color: red; border-radius: 50%;\\n                        width: 30px; height: 30px; line-height: 30px;\\n                        border: 2px solid darkred;\\n                        box-shadow: 0px 0px 4px rgba(0,0,0,0.5);\\&quot;\\u003e\\n                4\\n            \\u003c/div\\u003e\\n            &quot;,\n",
       "  &quot;iconSize&quot;: [30, 30],\n",
       "  &quot;iconAnchor&quot;: [15, 15],\n",
       "  &quot;className&quot;: &quot;empty&quot;,\n",
       "});\n",
       "        \n",
       "    \n",
       "        var popup_3cc3d79772131a5ac6e44d2a157db17a = L.popup({\n",
       "  &quot;maxWidth&quot;: &quot;100%&quot;,\n",
       "});\n",
       "\n",
       "        \n",
       "            \n",
       "                var html_18fb1d777c3cceca81817449454136a7 = $(`&lt;div id=&quot;html_18fb1d777c3cceca81817449454136a7&quot; style=&quot;width: 100.0%; height: 100.0%;&quot;&gt;&lt;b&gt;Munich&lt;/b&gt;&lt;br&gt;Position 4 in tour&lt;/div&gt;`)[0];\n",
       "                popup_3cc3d79772131a5ac6e44d2a157db17a.setContent(html_18fb1d777c3cceca81817449454136a7);\n",
       "            \n",
       "        \n",
       "\n",
       "        marker_ffaf78e36bda85e6f49ef04335604791.bindPopup(popup_3cc3d79772131a5ac6e44d2a157db17a)\n",
       "        ;\n",
       "\n",
       "        \n",
       "    \n",
       "    \n",
       "            marker_ffaf78e36bda85e6f49ef04335604791.bindTooltip(\n",
       "                `&lt;div&gt;\n",
       "                     4. Munich\n",
       "                 &lt;/div&gt;`,\n",
       "                {\n",
       "  &quot;sticky&quot;: true,\n",
       "}\n",
       "            );\n",
       "        \n",
       "    \n",
       "                marker_ffaf78e36bda85e6f49ef04335604791.setIcon(div_icon_1e9803f46c4cbf07f1f08d4bb3ffbb15);\n",
       "            \n",
       "    \n",
       "            var marker_7849a6cf9b5689ea09379d28a8e14039 = L.marker(\n",
       "                [52.52, 13.405],\n",
       "                {\n",
       "}\n",
       "            ).addTo(map_65986fb2862a9f33331ecef90e15b956);\n",
       "        \n",
       "    \n",
       "            var div_icon_c67cf344c27650b1fb0475d5b7a29287 = L.divIcon({\n",
       "  &quot;html&quot;: &quot;\\n                \\u003cdiv style=\\&quot;font-size: 11pt; color: black; font-weight: bold;\\n                            text-shadow: 2px 2px 4px white, -2px -2px 4px white,\\n                                         2px -2px 4px white, -2px 2px 4px white;\\n                            margin-top: -38px; margin-left: -35px; width: 70px;\\n                            text-align: center;\\&quot;\\u003e\\n                    Berlin\\n                \\u003c/div\\u003e\\n                &quot;,\n",
       "  &quot;iconSize&quot;: [70, 20],\n",
       "  &quot;iconAnchor&quot;: [35, 10],\n",
       "  &quot;className&quot;: &quot;empty&quot;,\n",
       "});\n",
       "        \n",
       "    \n",
       "                marker_7849a6cf9b5689ea09379d28a8e14039.setIcon(div_icon_c67cf344c27650b1fb0475d5b7a29287);\n",
       "            \n",
       "    \n",
       "            var marker_62945dbf368663c25dce981dfd831e24 = L.marker(\n",
       "                [53.5511, 9.9937],\n",
       "                {\n",
       "}\n",
       "            ).addTo(map_65986fb2862a9f33331ecef90e15b956);\n",
       "        \n",
       "    \n",
       "            var div_icon_d1151ffac39050b0e97298784da066fc = L.divIcon({\n",
       "  &quot;html&quot;: &quot;\\n                \\u003cdiv style=\\&quot;font-size: 11pt; color: black; font-weight: bold;\\n                            text-shadow: 2px 2px 4px white, -2px -2px 4px white,\\n                                         2px -2px 4px white, -2px 2px 4px white;\\n                            margin-top: -38px; margin-left: -35px; width: 70px;\\n                            text-align: center;\\&quot;\\u003e\\n                    Hamburg\\n                \\u003c/div\\u003e\\n                &quot;,\n",
       "  &quot;iconSize&quot;: [70, 20],\n",
       "  &quot;iconAnchor&quot;: [35, 10],\n",
       "  &quot;className&quot;: &quot;empty&quot;,\n",
       "});\n",
       "        \n",
       "    \n",
       "                marker_62945dbf368663c25dce981dfd831e24.setIcon(div_icon_d1151ffac39050b0e97298784da066fc);\n",
       "            \n",
       "    \n",
       "            var marker_b85be5663e3607128181e2cb8475bd96 = L.marker(\n",
       "                [48.1351, 11.582],\n",
       "                {\n",
       "}\n",
       "            ).addTo(map_65986fb2862a9f33331ecef90e15b956);\n",
       "        \n",
       "    \n",
       "            var div_icon_5fd82c361970593a3870c2e6f2c52765 = L.divIcon({\n",
       "  &quot;html&quot;: &quot;\\n                \\u003cdiv style=\\&quot;font-size: 11pt; color: black; font-weight: bold;\\n                            text-shadow: 2px 2px 4px white, -2px -2px 4px white,\\n                                         2px -2px 4px white, -2px 2px 4px white;\\n                            margin-top: -38px; margin-left: -35px; width: 70px;\\n                            text-align: center;\\&quot;\\u003e\\n                    Munich\\n                \\u003c/div\\u003e\\n                &quot;,\n",
       "  &quot;iconSize&quot;: [70, 20],\n",
       "  &quot;iconAnchor&quot;: [35, 10],\n",
       "  &quot;className&quot;: &quot;empty&quot;,\n",
       "});\n",
       "        \n",
       "    \n",
       "                marker_b85be5663e3607128181e2cb8475bd96.setIcon(div_icon_5fd82c361970593a3870c2e6f2c52765);\n",
       "            \n",
       "    \n",
       "            var marker_007eea7218640867ebe604b12860c4c7 = L.marker(\n",
       "                [50.7374, 7.0982],\n",
       "                {\n",
       "}\n",
       "            ).addTo(map_65986fb2862a9f33331ecef90e15b956);\n",
       "        \n",
       "    \n",
       "            var div_icon_610a48c4b041717d34a14a87427108dc = L.divIcon({\n",
       "  &quot;html&quot;: &quot;\\n                \\u003cdiv style=\\&quot;font-size: 11pt; color: black; font-weight: bold;\\n                            text-shadow: 2px 2px 4px white, -2px -2px 4px white,\\n                                         2px -2px 4px white, -2px 2px 4px white;\\n                            margin-top: -38px; margin-left: -35px; width: 70px;\\n                            text-align: center;\\&quot;\\u003e\\n                    Bonn\\n                \\u003c/div\\u003e\\n                &quot;,\n",
       "  &quot;iconSize&quot;: [70, 20],\n",
       "  &quot;iconAnchor&quot;: [35, 10],\n",
       "  &quot;className&quot;: &quot;empty&quot;,\n",
       "});\n",
       "        \n",
       "    \n",
       "                marker_007eea7218640867ebe604b12860c4c7.setIcon(div_icon_610a48c4b041717d34a14a87427108dc);\n",
       "            \n",
       "&lt;/script&gt;\n",
       "&lt;/html&gt;\" style=\"position:absolute;width:100%;height:100%;left:0;top:0;border:none !important;\" allowfullscreen webkitallowfullscreen mozallowfullscreen></iframe></div></div>"
      ]
     },
     "execution_count": 28,
     "metadata": {},
     "output_type": "execute_result"
    }
   ],
   "execution_count": 28
  },
  {
   "cell_type": "markdown",
   "id": "93e8c4c566cb45cd",
   "metadata": {},
   "source": [
    "---\n",
    "\n",
    "## 🌟 Luna Quantum SDK: Your Gateway to Quantum-Enhanced Optimization\n",
    "\n",
    "### 🎯 What You've Experienced\n",
    "\n",
    "This demo showcased Luna Quantum's complete optimization ecosystem through a practical TSP implementation:\n",
    "\n",
    "✅ **Rapid Development** with predefined optimization patterns  \n",
    "✅ **Advanced Modeling** using AqModels' flexible framework  \n",
    "✅ **Multi-Algorithm Execution** comparing classical and quantum approaches  \n",
    "✅ **Enterprise-Grade Infrastructure** with secure token management  \n",
    "✅ **Intelligent Result Processing** from variables to business decisions  \n",
    "\n",
    "### 🚀 Luna Quantum's Competitive Advantages\n",
    "\n",
    "#### **🔧 Developer Experience**\n",
    "- **Single API** eliminates the complexity of quantum programming\n",
    "- **Automatic transformations** handle algorithm-specific requirements\n",
    "- **Rich documentation** and examples accelerate development\n",
    "- **Production-ready** from day one with enterprise-grade reliability\n",
    "\n",
    "#### **⚡ Performance & Scalability**\n",
    "- **Hybrid classical-quantum** algorithms for optimal performance\n",
    "- **Cloud-native architecture** scales from prototypes to enterprise workloads\n",
    "- **Multi-backend support** maximizes hardware utilization\n",
    "\n",
    "#### **🛡️ Enterprise Ready**\n",
    "- **Secure token management** for quantum hardware access\n",
    "- **Role-based access control** for team collaboration\n",
    "- **Support for hybrid environments** (on-premise + cloud + quantum)\n",
    "\n",
    "### 🔧 Troubleshooting\n",
    "\n",
    "**Common Issues and Solutions:**\n",
    "\n",
    "| Issue | Cause | Solution |\n",
    "|-------|-------|----------|\n",
    "| `DWAVE_TOKEN` not found | Environment variable not set | `export DWAVE_TOKEN=\"your_token\"` |\n",
    "| Quantum job fails | Insufficient credits or token issues | Check D-Wave Leap account, use classical fallback |\n",
    "| Import errors | Missing dependencies | Run `uv sync` or `pip install -r requirements.txt` |\n",
    "| Map not displaying | Jupyter notebook rendering | Restart notebook kernel |\n",
    "| Solution is `None` | Job execution failed | Check error messages, verify token setup |\n",
    "\n",
    "**Debug Steps:**\n",
    "1. Verify environment variables: `echo $DWAVE_TOKEN`\n",
    "2. Test classical algorithms first (no tokens required)\n",
    "3. Check Luna Quantum logs for detailed error messages\n",
    "4. Ensure all dependencies are installed correctly\n",
    "\n",
    "### 🎯 Next Steps & Exploration\n",
    "\n",
    "**Immediate Extensions:**\n",
    "- **Add More Cities**: Expand to 6-8 cities for complexity\n",
    "- **Different Algorithms**: Try Genetic Algorithm, Ant Colony Optimization\n",
    "- **Parameter Tuning**: Experiment with `num_reads`, annealing schedules\n",
    "\n",
    "**Advanced Projects:**\n",
    "- **Multi-Objective TSP**: Minimize time AND cost\n",
    "- **Vehicle Routing Problem**: Multiple vehicles, capacity constraints\n",
    "- **Algorithm Analysis**: Compare quantum vs classical performance\n",
    "\n",
    "**Learning Resources:**\n",
    "- [Luna Quantum Documentation](https://docs.luna-quantum.com)\n",
    "- [D-Wave Leap Tutorials](https://cloud.dwavesys.com/leap/)\n",
    "- [Quantum Computing Fundamentals](https://docs.dwavesys.com/docs/latest/)\n",
    "\n",
    "### 🚀 Ready to Transform Your Optimization Challenges?\n",
    "\n",
    "**Start your quantum optimization journey with Luna Quantum SDK today!**\n",
    "\n",
    "---\n",
    "\n",
    "*For more information, visit our documentation, explore additional examples, or contact our team for enterprise solutions.*"
   ]
  },
  {
   "metadata": {},
   "cell_type": "code",
   "outputs": [],
   "execution_count": null,
   "source": "",
   "id": "32562b8ae9e6cbd4"
  }
 ],
 "metadata": {
  "kernelspec": {
   "display_name": "Python 3 (ipykernel)",
   "language": "python",
   "name": "python3"
  },
  "language_info": {
   "codemirror_mode": {
    "name": "ipython",
    "version": 3
   },
   "file_extension": ".py",
   "mimetype": "text/x-python",
   "name": "python",
   "nbconvert_exporter": "python",
   "pygments_lexer": "ipython3",
   "version": "3.12.3"
  }
 },
 "nbformat": 4,
 "nbformat_minor": 5
}
